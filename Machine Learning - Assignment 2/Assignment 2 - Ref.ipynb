{
 "cells": [
  {
   "cell_type": "markdown",
   "metadata": {
    "cell_style": "center"
   },
   "source": [
    "# Assignment 2 - Classification Analysis"
   ]
  },
  {
   "cell_type": "markdown",
   "metadata": {},
   "source": [
    "## Context\n",
    "<em>Halfway There</em> (HWT)..."
   ]
  },
  {
   "cell_type": "markdown",
   "metadata": {},
   "source": [
    "## Stakeholder Address"
   ]
  },
  {
   "cell_type": "markdown",
   "metadata": {},
   "source": [
    "Sections of interest to you..."
   ]
  },
  {
   "cell_type": "code",
   "execution_count": 1,
   "metadata": {},
   "outputs": [],
   "source": [
    "from ipywidgets import interactive\n",
    "import ipywidgets as widgets\n",
    "from IPython.display import display, HTML\n",
    "import matplotlib.pyplot as plt\n",
    "import pandas as pd\n",
    "import seaborn as sns\n",
    "import ipywidgets as widgets\n",
    "import random as rand\n",
    "import numpy as np\n",
    "\n",
    "from sklearn.linear_model import LogisticRegression, LinearRegression\n",
    "from sklearn.model_selection import train_test_split, cross_validate\n",
    "from sklearn.metrics import confusion_matrix, roc_auc_score\n",
    "from sklearn.preprocessing import StandardScaler, MinMaxScaler\n",
    "\n",
    "import statsmodels.api as sm"
   ]
  },
  {
   "cell_type": "markdown",
   "metadata": {},
   "source": [
    "### Business Questions\n",
    "    - Product a model that predicts WHICH customers will subscribe to this service"
   ]
  },
  {
   "cell_type": "markdown",
   "metadata": {},
   "source": [
    "### Optimization strategy\n",
    "0. Optimizing R2 under classification conditions to determine significant variables\n",
    "    - No longer predicting Revenue\n",
    "1. Using unscaled data, test a range of classifiers to predict HWT_SUBSCRIBER. \n",
    "2. Select the best model for further optimization\n",
    "3. Testing procedure\n",
    "- Confusion Matrix\n",
    "- Cost of FP and FN\n",
    "    - False positive case: Predicts a subscriber but is not\n",
    "    - False negative case: Predicts a a non-subscriber but it is actually a subscriber\n",
    "    - FN would cost the business more as they would loose out customers\n",
    "- Selection and Optimization metrics\n",
    "    - Max. Z = Precision = TP/(TP + FP)\n",
    "- Selection criteria\n",
    "    - AUC\n",
    "- Competing models\n",
    "    - Logistic Regression\n",
    "    - \n",
    "    \n",
    "3. Optimization procedure\n",
    "- Scrub out redundant features\n",
    "- Feature optimization\n",
    "    - Scaled features only\n",
    "        - Test model\n",
    "    - Non linear transformation only\n",
    "        - Test model\n",
    "    - Both\n",
    "        - Test model"
   ]
  },
  {
   "cell_type": "markdown",
   "metadata": {},
   "source": [
    "## Ingestion of unscaled data"
   ]
  },
  {
   "cell_type": "code",
   "execution_count": 2,
   "metadata": {},
   "outputs": [],
   "source": [
    "df_original = pd.read_csv(\"data/df_pre_training.csv\")\n",
    "df_optimization = df_original.copy()\n",
    "df_optimization = df_optimization.drop(\"Unnamed: 0\", axis=1)\n",
    "\n",
    "# feature name correction\n",
    "df_optimization.rename(columns={'MOBILE_NUMBER': 'MOBILE_NUMBER_SUPPLIED'}, inplace=True)\n",
    "\n",
    "# preparing response variable data\n",
    "predictor = 'HWT_SUBSCRIBER'\n",
    "target = df_optimization.loc[:, predictor]\n",
    "all_features = df_optimization.loc[:, df_optimization.columns.isin([predictor]) == False]"
   ]
  },
  {
   "cell_type": "markdown",
   "metadata": {},
   "source": [
    "# Coeffecient Significance"
   ]
  },
  {
   "cell_type": "markdown",
   "metadata": {},
   "source": [
    "## Class Definitions"
   ]
  },
  {
   "cell_type": "code",
   "execution_count": 3,
   "metadata": {},
   "outputs": [],
   "source": [
    "class ModelResults():\n",
    "    \n",
    "    # Class to append results of modeling scenarios into a convenient wrapper\n",
    "    #    - Assumes pandas as a preloaded resource\n",
    "    def __init__(self, columns):\n",
    "        self.columns = columns\n",
    "        self.df = pd.DataFrame(columns = self.columns)\n",
    "    \n",
    "    # save results into class\n",
    "    def save(self, model_dict_outcome):\n",
    "        self.df = pd.concat([self.df, pd.DataFrame(model_dict_outcome)])\n",
    "    \n",
    "    # display results\n",
    "    def display(self):\n",
    "        return self.df\n",
    "    \n",
    "    # export results\n",
    "    def export_csv(self, location):\n",
    "        self.location = location\n",
    "        self.df.to_csv(self.location)\n",
    "    "
   ]
  },
  {
   "cell_type": "code",
   "execution_count": 4,
   "metadata": {},
   "outputs": [],
   "source": [
    "class NormalityTest():\n",
    "     \n",
    "    # Determine whether the supplied function could be sampled from a Gaussian distribution\n",
    "    #   - Normality tests have been validated by 100 randomly distributed normal floats\n",
    "    #   - pandas is a pre-assumed dependency\n",
    "    #      - NormalityTest(np.random.randn(100), 0.05, 0).get_result()\n",
    "    #   - Source: https://machinelearningmastery.com/a-gentle-introduction-to-normality-tests-in-python/\n",
    "    \n",
    "    from scipy import stats\n",
    "    from numpy.random import seed, randn, seed\n",
    " \n",
    "    def __init__(self, arr, alpha, dataframe, predictor_str):\n",
    "        self.arr = arr\n",
    "        self.alpha = alpha\n",
    "        self.dataframe = dataframe\n",
    "        self.predictor_str = predictor_str\n",
    "        return None\n",
    "    \n",
    "    def check_normal_dist(self):\n",
    "        return {\n",
    "            'is_normally_distributed': {\n",
    "                'shapiroWilk': self.shapiroWilk(self.alpha),\n",
    "                'd_agostinoK2': self.d_agostinoK2(self.alpha),\n",
    "                'anderson_darling': self.anderson_darling(self.alpha)},\n",
    "        }\n",
    "        \n",
    "    def shapiroWilk(self, alpha):\n",
    "        stat, p = self.stats.shapiro(self.arr)\n",
    "        if p > alpha:\n",
    "            return 'Gaussian (fail to reject H0)'\n",
    "        else:\n",
    "            return 'Not Gaussian (reject H0)'\n",
    "    \n",
    "    def d_agostinoK2(self, alpha):\n",
    "        stat, p = self.stats.normaltest(self.arr)\n",
    "        if p > alpha:\n",
    "            return 'Gaussian (fail to reject H0)'\n",
    "        else:\n",
    "            return 'Not Gaussian (reject H0)'\n",
    "        \n",
    "    def anderson_darling(self, alpha):\n",
    "        \n",
    "        outcome = {\n",
    "            \"statistic\": None,\n",
    "            \"percentile\": [],\n",
    "            \"sl_cv\": [],\n",
    "            \"result\": []\n",
    "        }\n",
    "        # normality test\n",
    "        result = self.stats.anderson(self.arr)\n",
    "        statistic = result.statistic\n",
    "        p = 0\n",
    "\n",
    "        for i in range(len(result.critical_values)):\n",
    "            sl, cv = result.significance_level[i], result.critical_values[i]\n",
    "            if result.statistic < result.critical_values[i]:\n",
    "                outcome['sl_cv'].append([sl, cv])\n",
    "                outcome['result'].append([\"Normal (Fail to reject H0)\"])\n",
    "            else:\n",
    "                outcome['sl_cv'].append([sl, cv])\n",
    "                outcome['result'].append([\"Not Normal (Reject H0)\"])\n",
    "                \n",
    "        outcome['statistic'] = statistic\n",
    "        return outcome\n",
    "    \n",
    "    def check_population_mean(self, pop_mean):\n",
    "        \n",
    "        # NH: population mean is zero\n",
    "        \n",
    "        outcome = {}\n",
    "        data = self.arr\n",
    "        tset, pval = self.stats.ttest_1samp(data, pop_mean) # t-test\n",
    "        if pval < 0.05:    # alpha value is 0.05 or 5%\n",
    "            outcome['status'] = \"Reject Null hypothesis\"\n",
    "        else:\n",
    "            outcome['status'] = \"Accept Null hypothesis\"\n",
    "        outcome['sample_mean'] = np.mean(data)\n",
    "        return outcome\n",
    "    \n",
    "    def get_correlation_matrix(self):\n",
    "        \n",
    "        # arr and dataframe will be joined to produce correlation matrix\n",
    "        return self.dataframe.join(pd.DataFrame({'arr': self.arr})).corr()\n",
    "    \n",
    "    \n",
    "    def check_homoscedasticity(self, model):\n",
    "        \n",
    "        # generate a qqplot to visually inspect quantiles that break normality\n",
    "        \n",
    "        # We can also use two statistical tests: Breusch-Pagan and Goldfeld-Quandt. In both of them, the null hypothesis assumes homoscedasticity.\n",
    "        #    - A p-value below a certain level (like 0.05) indicates we should reject the null in favor of heteroscedasticity.\n",
    "        #    - Source: https://towardsdatascience.com/verifying-the-assumptions-of-linear-regression-in-python-and-r-f4cd2907d4c0\n",
    " \n",
    "        import pylab \n",
    "        import scipy.stats as stats\n",
    "\n",
    "        measurements = model.resid  \n",
    "        stats.probplot(measurements, dist=\"norm\", plot=pylab)\n",
    "        pylab.show()\n",
    "    \n",
    "    \n",
    "    def get_vif(self):\n",
    "        # Variance inflation factor to measure collinearity among features\n",
    "\n",
    "        feature_name = []\n",
    "        vif_value = []\n",
    "        rsq_value = []\n",
    "        self.df_vif = self.dataframe.copy()\n",
    "        if self.predictor_str in self.df_vif.columns:\n",
    "            self.df_vif = self.df_vif.drop([self.predictor_str], axis=1)\n",
    "        \n",
    "        for i in range(0, len(self.df_vif.columns)):\n",
    "            # prepare features\n",
    "            X = self.df_vif.loc[:, self.df_vif.columns != self.df_vif.columns[i]]\n",
    "            y = self.df_vif.loc[:, self.df_vif.columns == self.df_vif.columns[i]]\n",
    "\n",
    "            # Regress feature on every other feature\n",
    "            lr = LinearRegression().fit(X, y)\n",
    "\n",
    "            # Determine rsq\n",
    "            rsq = lr.score(X, y)\n",
    "            if rsq != 1:\n",
    "                vif = round(1 / (1 - rsq), 2)\n",
    "            else:\n",
    "                vif = float(\"inf\")\n",
    "\n",
    "            feature_name.append(self.df_vif.columns[i])\n",
    "            rsq_value.append(rsq)\n",
    "            vif_value.append(vif)\n",
    "\n",
    "        return pd.DataFrame({\n",
    "                \"r_squared\": rsq_value,\n",
    "                \"vif\": vif_value },\n",
    "            index = feature_name\n",
    "        ).sort_values(by=\"vif\")\n",
    "\n",
    "        "
   ]
  },
  {
   "cell_type": "markdown",
   "metadata": {},
   "source": [
    "## Function Definitions"
   ]
  },
  {
   "cell_type": "code",
   "execution_count": 5,
   "metadata": {
    "code_folding": []
   },
   "outputs": [],
   "source": [
    "def skl_train_test_pred_results(model, fit_X, fit_y, test_X, test_y, pred_X):\n",
    "#     quick method to output model, train and test scores\n",
    "    \n",
    "    # Fit and score\n",
    "    mod_fit = model.fit(fit_X, fit_y)\n",
    "    mod_train_score = model.score(fit_X, fit_y)\n",
    "    mod_test_score = model.score(test_X, test_y)\n",
    "    y_pred = mod_fit.predict(pred_X)\n",
    "    \n",
    "    return mod_fit, mod_train_score, mod_test_score, y_pred\n",
    "\n",
    "def skl_mod_confusion_matrix_roc_auc(y_true, y_pred, y_score):\n",
    "    # Thus in binary classification, \n",
    "#         - C00, True  Negatives \n",
    "#         - C01, False Positive\n",
    "#         - C10, False Negative  \n",
    "#         - C11  True  Positive\n",
    "\n",
    "    cm = confusion_matrix(y_true, y_pred)\n",
    "    cm_score = {\n",
    "        'TN': cm[0, 0],\n",
    "        'FP': cm[0, 1],\n",
    "        'FN': cm[1, 0],\n",
    "        'TP': cm[1, 1]\n",
    "    }\n",
    "    \n",
    "    return cm_score, roc_auc_score(y_true, y_score)\n",
    "\n",
    "# Variance inflation factor to measure collinearity among features\n",
    "def vim_multicollinearity(df):\n",
    "    feature_name = []\n",
    "    vif_value = []\n",
    "    rsq_value = []\n",
    "\n",
    "    for i in range(0, len(df.columns)):\n",
    "        # prepare features\n",
    "        X = df.loc[:, df.columns != df.columns[i]]\n",
    "        y = df.loc[:, df.columns == df.columns[i]]\n",
    "\n",
    "        # Regress feature on every other feature\n",
    "        lr = LinearRegression().fit(X, y)\n",
    "        \n",
    "        # Determine rsq\n",
    "        rsq = lr.score(X, y)\n",
    "        if rsq != 1:\n",
    "            vif = round(1 / (1 - rsq), 2)\n",
    "        else:\n",
    "            vif = float(\"inf\")\n",
    "\n",
    "        feature_name.append(df.columns[i])\n",
    "        rsq_value.append(rsq)\n",
    "        vif_value.append(vif)\n",
    "\n",
    "    return pd.DataFrame({\n",
    "            \"r_squared\": rsq_value,\n",
    "            \"vif\": vif_value },\n",
    "        index = feature_name\n",
    "    ).sort_values(by=\"vif\")\n",
    "\n",
    "def statsmodel_ols_lgst(library, model_type, X_train, X_test, y_train, y_test, class_likelihood):\n",
    "    # Method to automate process of retrieving performance parameters\n",
    "    \n",
    "    model_spec = {\n",
    "        'ols': sm.OLS(y_train, X_train).fit(),\n",
    "        'lgst': sm.Logit(y_train, X_train).fit(method='ncg')\n",
    "    }\n",
    "    \n",
    "    model_spec_sklearn = {\n",
    "        'ols': LinearRegression().fit(X_train, y_train),\n",
    "        'lgst': LogisticRegression().fit(X_train, y_train)\n",
    "    }\n",
    "    \n",
    "    if library == 'statsmodels':\n",
    "        model = model_spec[model_type]\n",
    "\n",
    "        # apply class heuristic\n",
    "        #     - Any class less than 0.5: 0\n",
    "        #     - ANy class greater than 0.5: 1\n",
    "        y_pred = model.predict(X_test)\n",
    "        y_pred = np.array(y_pred)\n",
    "        y_pred[y_pred < class_likelihood] = 0\n",
    "        y_pred[y_pred >= class_likelihood] = 1\n",
    "        y_pred = y_pred.astype(int)\n",
    "        \n",
    "    elif library == 'sklearn':\n",
    "        model = model_spec_sklearn[model_type]\n",
    "        \n",
    "        # apply class heuristic\n",
    "        y_pred = model.predict(X_test, y_test)\n",
    "        y_pred = np.array(y_pred)\n",
    "        y_pred[y_pred < class_likelihood] = 0\n",
    "        y_pred[y_pred >= class_likelihood] = 1\n",
    "        y_pred = y_pred.astype(int)\n",
    "        \n",
    "    else:\n",
    "        raise Exception(\"KindError: Library argument is incorrect.\")\n",
    "\n",
    "    # Get scores: output interpreted as probability of predicting class 1\n",
    "    mod_cm_score, mod_auc_score = skl_mod_confusion_matrix_roc_auc(y_test, y_pred, y_pred)\n",
    "    mod_precision = mod_cm_score['TP']/(mod_cm_score['TP']+mod_cm_score['FP'])\n",
    "\n",
    "    # Get significant features\n",
    "    mod_sig_features = list(model.pvalues[model.pvalues <= 0.05].index.values)\n",
    "    \n",
    "    return model, mod_cm_score, mod_auc_score, mod_precision, mod_sig_features"
   ]
  },
  {
   "cell_type": "markdown",
   "metadata": {},
   "source": [
    "## Field Definitions"
   ]
  },
  {
   "cell_type": "code",
   "execution_count": 6,
   "metadata": {
    "code_folding": [
     1,
     23,
     38,
     43,
     49,
     57,
     61,
     66,
     70,
     103,
     109,
     119,
     123,
     134
    ]
   },
   "outputs": [],
   "source": [
    "# explicitely define outlier and threshold features\n",
    "thresholds_eng = pd.DataFrame(columns=[\n",
    "    'flag_SECONDS_WATCHING_PREP_VID_AVG_hi',\n",
    "    'flag_SECONDS_WATCHING_PREP_VID_AVG_lo',\n",
    "    'flag_SITE_VISIT_TIME_PER_VISIT_AVG_hi',\n",
    "    'flag_SITE_VISIT_TIME_PER_VISIT_AVG_lo',\n",
    "    'flag_PRCNT_FOLLOWED_MEAL_RECOM_WEB_MOBILE_hi',\n",
    "    'flag_PRCNT_FOLLOWED_MEAL_RECOM_WEB_MOBILE_lo',\n",
    "    'flag_TOTAL_MEALS_ORDERED_lo',\n",
    "    'flag_UNIQUE_MEALS_PURCH_lo',\n",
    "    'flag_CUSTOMER_SERVICE_TICKETS_CNT_lo',\n",
    "    'flag_CUSTOMER_SERVICE_TICKETS_CNT_hi',\n",
    "    'flag_PRODUCT_CATEGORIES_VIEWED_lo',\n",
    "    'flag_PRODUCT_CATEGORIES_VIEWED_hi',\n",
    "    'flag_ORDERS_DELIVERED_BEFORE_DELIVERY_CNT_lo',\n",
    "    'flag_ORDERS_DELIVERED_BEFORE_DELIVERY_CNT_hi',\n",
    "    'flag_ORDERS_DELIVERED_AFTER_DELIVERY_CNT_lo',\n",
    "    'flag_ORDERS_DELIVERED_AFTER_DELIVERY_CNT_hi',\n",
    "    'flag_MASTER_CLASSES_ATTENDED_CNT_hi',\n",
    "    'flag_PHOTOS_VIEWED_COUNT_lo',\n",
    "    'flag_WEEKS_SUBSCRIBED_TO_WEEKLY_PLAN_CNT_lo'\n",
    "])\n",
    "\n",
    "outliers_eng = pd.DataFrame(columns=[\n",
    "    'out_SITE_VISIT_TIME_PER_VISIT_AVG_hi',\n",
    "    'out_SECONDS_WATCHING_PREP_VID_AVG_lo',\n",
    "    'out_PRCNT_FOLLOWED_MEAL_RECOM_WEB_MOBILE_hi',\n",
    "    'out_TOTAL_MEALS_ORDERED_hi',\n",
    "    'out_UNIQUE_MEALS_PURCH_hi',\n",
    "    'out_MEALS_CANCEL_BEFORE_NOON_hi',\n",
    "    'out_MEALS_CANCEL_AFTER_NOON_hi',\n",
    "    'out_PC_LOGINS_CNT_hi',\n",
    "    'out_PC_LOGINS_CNT_lo',\n",
    "    'out_MOBILE_LOGINS_CNT_lo',\n",
    "    'out_MOBILE_LOGINS_CNT_hi',\n",
    "])\n",
    "\n",
    "# explicitely define engineered features\n",
    "features_eng = pd.DataFrame(columns=[\n",
    "    'fe_MEAL_CHOICE_SPECIFICITY', 'fe_SITE_CLICK_RATE', 'fe_SUBSCRIPTIONS_SYNERGY',\n",
    "    'fe_CUSTOMER_COMPANY', 'fe_CUSTOMER_DOMAIN',\n",
    "                    ])\n",
    "\n",
    "continuous_features = pd.DataFrame(columns=[\n",
    "    'REVENUE', 'SITE_VISIT_TIME_PER_VISIT_AVG', 'PRCNT_FOLLOWED_MEAL_RECOM_WEB_MOBILE', \n",
    "    'SECONDS_WATCHING_PREP_VID_AVG'\n",
    "                    ])\n",
    "\n",
    "# MOBILE_LOGINS_CNT dropped, collinearity\n",
    "count_features = pd.DataFrame(columns=[\n",
    "    'TOTAL_MEALS_ORDERED', 'UNIQUE_MEALS_PURCH', 'CUSTOMER_SERVICE_TICKETS_CNT',\n",
    "    'PRODUCT_CATEGORIES_VIEWED', 'MEALS_CANCEL_BEFORE_NOON', 'MEALS_CANCEL_AFTER_NOON',\n",
    "    \"PC_LOGINS_CNT\", \"WEEKS_SUBSCRIBED_TO_WEEKLY_PLAN_CNT\",\n",
    "    \"ORDERS_DELIVERED_BEFORE_DELIVERY_CNT\", \"ORDERS_DELIVERED_AFTER_DELIVERY_CNT\",\n",
    "    \"MASTER_CLASSES_ATTENDED_CNT\", 'SITE_CLICKS_PER_VISIT_AVG', 'PHOTOS_VIEWED_COUNT'\n",
    "                    ])\n",
    "\n",
    "string_features = pd.DataFrame(columns=[\n",
    "    'NAME', 'EMAIL', 'FIRST_NAME','FAMILY_NAME'\n",
    "                    ])\n",
    "\n",
    "boolean_features = pd.DataFrame(columns=[\n",
    "    'CROSS_SELL_SUCCESS', 'SPECIFIED_TASTE_AND_PREFERENCES',\n",
    "    'PACKAGE_ROOM_AT_CUSTOMER', 'FRIDGE_LOCKER_IN_PACKAGE_ROOM', \n",
    "                   ])\n",
    "\n",
    "discrete_features = pd.DataFrame(columns=[\n",
    "    'MOBILE_NUMBER_SUPPLIED', 'LARGEST_ORDER_SIZE', 'MEAL_RATING_MEDIAN'\n",
    "                    ])\n",
    "\n",
    "professional_domain = [\n",
    "    'mmm',\n",
    "    'amex',\n",
    "    'apple',\n",
    "    'boeing',\n",
    "    'caterpillar',\n",
    "    'chevron',\n",
    "    'cisco',\n",
    "    'cocacola',\n",
    "    'disney',\n",
    "    'dupont',\n",
    "    'exxon',\n",
    "    'ge',\n",
    "    'goldmansacs',\n",
    "    'homedepot',\n",
    "    'ibm',\n",
    "    'intel',\n",
    "    'jnj',\n",
    "    'jpmorgan',\n",
    "    'mcdonalds',\n",
    "    'merck',\n",
    "    'microsoft',\n",
    "    'nike',\n",
    "    'pfizer',\n",
    "    'pg',\n",
    "    'travelers',\n",
    "    'unitedtech',\n",
    "    'unitedhealth',\n",
    "    'verizon',\n",
    "    'visa',\n",
    "    'walmart'\n",
    "]\n",
    "\n",
    "personal_domain = [\n",
    "    'gmail',\n",
    "    'yahoo',\n",
    "    'protonmail',\n",
    "]\n",
    "\n",
    "junk_domain = [\n",
    "    'me',\n",
    "    'aol',\n",
    "    'hotmail',\n",
    "    'live',\n",
    "    'msn',\n",
    "    'passport',\n",
    "]\n",
    "\n",
    "# This classification was later found to produce a bug. Quick fix done to change get_unknown_domain key\n",
    "unknown_domain = [\n",
    "    float('nan')\n",
    "]\n",
    "\n",
    "company_domain_type = { \n",
    "    'com': 'for_profit',\n",
    "    'org': 'non-profit'\n",
    "}\n",
    "\n",
    "get_professional_domain = dict(zip(professional_domain, [\"professional_domain\" for i in range(len(professional_domain))]))\n",
    "get_personal_domain = dict(zip(personal_domain, [\"personal_domain\" for i in range(len(personal_domain))]))\n",
    "get_junk_domain = dict(zip(junk_domain, [\"junk_domain\" for i in range(len(junk_domain))]))\n",
    "get_unknown_domain = dict(zip(unknown_domain, [\"for_proft_domain\" for i in range(len(unknown_domain))]))\n",
    "\n",
    "# explicitely define engineered features\n",
    "features_eng = pd.DataFrame(columns=[\n",
    "    'fe_MEAL_CHOICE_SPECIFICITY', 'fe_SITE_CLICK_RATE', 'fe_SUBSCRIPTIONS_SYNERGY',\n",
    "    'fe_CUSTOMER_COMPANY', 'fe_CUSTOMER_DOMAIN',\n",
    "                    ])"
   ]
  },
  {
   "cell_type": "markdown",
   "metadata": {},
   "source": [
    "## Optimization strategy\n",
    "- Remove redundant features\n",
    "    - Test improvement\n",
    "        - Criteria: count of p-values\n",
    "- Scale all count, continuous and discrete\n",
    "    - Test improvement\n",
    "        - Criteria: count of p-values\n",
    "- Transform all count, continuous and discrete\n",
    "    - Test improvement\n",
    "        - Criteria: count of p-values\n",
    "- Scale count, discrete and transform continuous\n",
    "    - Test improvement\n",
    "        - Criteria: count of p-values\n",
    "    "
   ]
  },
  {
   "cell_type": "code",
   "execution_count": 7,
   "metadata": {},
   "outputs": [],
   "source": [
    "# model comparison statistics\n",
    "model_type = []\n",
    "count_sig_features = []\n",
    "sig_features = []\n",
    "auc_score = []\n",
    "sensitivity = []\n",
    "notes = []\n",
    "\n",
    "# feature set definition dictionary\n",
    "sig_feature_sets = {}\n",
    "\n",
    "# setup ModelResults class\n",
    "modeling_results = ModelResults([\"Model\", \"Transformation Method\", \"AUC\", \"AIC\", \"R2\", \"Precision\", \"Sig. features\", \"Notes\"])"
   ]
  },
  {
   "cell_type": "markdown",
   "metadata": {},
   "source": [
    "### Remove Redundant features\n",
    "    - Collinear binary features"
   ]
  },
  {
   "cell_type": "code",
   "execution_count": 8,
   "metadata": {},
   "outputs": [],
   "source": [
    "df_optimization.drop(\n",
    "            [\"flag_SECONDS_WATCHING_PREP_VID_AVG_lo\", \n",
    "            \"flag_SITE_VISIT_TIME_PER_VISIT_AVG_lo\", \n",
    "            \"flag_PRCNT_FOLLOWED_MEAL_RECOM_WEB_MOBILE_lo\",\n",
    "            \"out_PC_LOGINS_CNT_lo\", \"out_MOBILE_LOGINS_CNT_lo\",\n",
    "            \"flag_CUSTOMER_SERVICE_TICKETS_CNT_hi\",\n",
    "            \"flag_PRODUCT_CATEGORIES_VIEWED_lo\",\n",
    "            \"flag_ORDERS_DELIVERED_BEFORE_DELIVERY_CNT_hi\",\n",
    "            \"flag_ORDERS_DELIVERED_AFTER_DELIVERY_CNT_hi\",\n",
    "            \"fe_CUSTOMER_DOMAIN_junk_domain\",\n",
    "            \"fe_CUSTOMER_DOMAIN_personal_domain\"], \n",
    "    axis = 1, inplace = True)"
   ]
  },
  {
   "cell_type": "markdown",
   "metadata": {},
   "source": [
    "#### Test on statsmodels LinearRegression"
   ]
  },
  {
   "cell_type": "code",
   "execution_count": 9,
   "metadata": {},
   "outputs": [],
   "source": [
    "# Split training and testing data for cross validation\n",
    "X_train, X_test, y_train, y_test = train_test_split(\n",
    "            all_features,\n",
    "            target,\n",
    "            test_size = 0.25,\n",
    "            random_state = 222)"
   ]
  },
  {
   "cell_type": "code",
   "execution_count": 10,
   "metadata": {},
   "outputs": [
    {
     "name": "stdout",
     "output_type": "stream",
     "text": [
      "Optimization terminated successfully.\n",
      "         Current function value: 0.638760\n",
      "         Iterations: 1\n",
      "         Function evaluations: 2\n",
      "         Gradient evaluations: 2\n",
      "         Hessian evaluations: 1\n"
     ]
    },
    {
     "name": "stderr",
     "output_type": "stream",
     "text": [
      "C:\\Users\\nrosh\\Anaconda3\\lib\\site-packages\\statsmodels\\base\\model.py:548: HessianInversionWarning: Inverting hessian failed, no bse or cov_params available\n",
      "  'available', HessianInversionWarning)\n",
      "C:\\Users\\nrosh\\Anaconda3\\lib\\site-packages\\sklearn\\linear_model\\_logistic.py:940: ConvergenceWarning: lbfgs failed to converge (status=1):\n",
      "STOP: TOTAL NO. of ITERATIONS REACHED LIMIT.\n",
      "\n",
      "Increase the number of iterations (max_iter) or scale the data as shown in:\n",
      "    https://scikit-learn.org/stable/modules/preprocessing.html\n",
      "Please also refer to the documentation for alternative solver options:\n",
      "    https://scikit-learn.org/stable/modules/linear_model.html#logistic-regression\n",
      "  extra_warning_msg=_LOGISTIC_SOLVER_CONVERGENCE_MSG)\n"
     ]
    }
   ],
   "source": [
    "# load model and performance parameters\n",
    "lr_model, lr_mod_cm_score, lr_mod_auc_score, mod_precision, sig_features = statsmodel_ols_lgst('statsmodels', 'ols', X_train, X_test, y_train, y_test, 0.5)\n",
    "\n",
    "# save model results\n",
    "modeling_results.save({\n",
    "    \"Model\": \"LinReg\",\n",
    "    \"Transformation Method\": [\"None\"],\n",
    "    \"AUC\": [lr_mod_auc_score],\n",
    "    \"AIC\": [lr_model.aic],\n",
    "    \"R2\": [lr_model.rsquared],\n",
    "    \"Precision\": [mod_precision],\n",
    "    \"Sig. features\": [len(sig_features)],\n",
    "    \"Notes\": [\"Failed to converge on unscaled/transformed variables\"]\n",
    "})\n",
    "\n",
    "# define feature set\n",
    "sig_feature_sets[\"unscaled_lr\"] = sig_features"
   ]
  },
  {
   "cell_type": "markdown",
   "metadata": {},
   "source": [
    "#### Test on statsmodels LogisticRegression"
   ]
  },
  {
   "cell_type": "code",
   "execution_count": 11,
   "metadata": {
    "scrolled": true
   },
   "outputs": [
    {
     "name": "stdout",
     "output_type": "stream",
     "text": [
      "Optimization terminated successfully.\n",
      "         Current function value: 0.638760\n",
      "         Iterations: 1\n",
      "         Function evaluations: 2\n",
      "         Gradient evaluations: 2\n",
      "         Hessian evaluations: 1\n"
     ]
    },
    {
     "name": "stderr",
     "output_type": "stream",
     "text": [
      "C:\\Users\\nrosh\\Anaconda3\\lib\\site-packages\\statsmodels\\base\\model.py:548: HessianInversionWarning: Inverting hessian failed, no bse or cov_params available\n",
      "  'available', HessianInversionWarning)\n",
      "C:\\Users\\nrosh\\Anaconda3\\lib\\site-packages\\sklearn\\linear_model\\_logistic.py:940: ConvergenceWarning: lbfgs failed to converge (status=1):\n",
      "STOP: TOTAL NO. of ITERATIONS REACHED LIMIT.\n",
      "\n",
      "Increase the number of iterations (max_iter) or scale the data as shown in:\n",
      "    https://scikit-learn.org/stable/modules/preprocessing.html\n",
      "Please also refer to the documentation for alternative solver options:\n",
      "    https://scikit-learn.org/stable/modules/linear_model.html#logistic-regression\n",
      "  extra_warning_msg=_LOGISTIC_SOLVER_CONVERGENCE_MSG)\n",
      "C:\\Users\\nrosh\\Anaconda3\\lib\\site-packages\\scipy\\stats\\_distn_infrastructure.py:903: RuntimeWarning: invalid value encountered in greater\n",
      "  return (a < x) & (x < b)\n",
      "C:\\Users\\nrosh\\Anaconda3\\lib\\site-packages\\scipy\\stats\\_distn_infrastructure.py:903: RuntimeWarning: invalid value encountered in less\n",
      "  return (a < x) & (x < b)\n",
      "C:\\Users\\nrosh\\Anaconda3\\lib\\site-packages\\scipy\\stats\\_distn_infrastructure.py:1912: RuntimeWarning: invalid value encountered in less_equal\n",
      "  cond2 = cond0 & (x <= _a)\n"
     ]
    }
   ],
   "source": [
    "# load model and performance parameters\n",
    "lgst_model, lgst_mod_cm_score, lgst_mod_auc_score, mod_precision, sig_features = statsmodel_ols_lgst('statsmodels', 'lgst', X_train, X_test, y_train, y_test, 0.5)\n",
    "\n",
    "# save model results\n",
    "modeling_results.save({\n",
    "    \"Model\": [\"Lgst\"],\n",
    "    \"Transformation Method\": [\"Scale all\"],\n",
    "    \"AUC\": [lgst_mod_auc_score],\n",
    "    \"AIC\": [lgst_model.aic],\n",
    "    \"R2\": [lgst_model.prsquared],\n",
    "    \"Precision\": [mod_precision],\n",
    "    \"Sig. features\": [len(sig_features)],\n",
    "    \"Notes\": [\"Failed to converge on scaled continuous and count features\"]\n",
    "})\n",
    "\n",
    "sig_feature_sets[\"unscaled_lgst\"] = sig_features"
   ]
  },
  {
   "cell_type": "markdown",
   "metadata": {},
   "source": [
    "### Scale all count, continuous and discrete"
   ]
  },
  {
   "cell_type": "code",
   "execution_count": 12,
   "metadata": {},
   "outputs": [],
   "source": [
    "df_scaled_count_cont_disc = df_optimization.copy()"
   ]
  },
  {
   "cell_type": "code",
   "execution_count": 13,
   "metadata": {},
   "outputs": [],
   "source": [
    "# # prepare dataframe for scaling\n",
    "df_to_scale = all_features\\\n",
    "    .loc[:, continuous_features.columns.to_list() + count_features.columns.to_list() + discrete_features.columns.to_list()]\n",
    "\n",
    "# scale all features\n",
    "scaler = MinMaxScaler(feature_range = (0, 1))\n",
    "scaler.fit(df_to_scale)\n",
    "df_to_scale = pd.DataFrame(scaler.transform(df_to_scale), columns=df_to_scale.columns)\n",
    "\n",
    "# merge scaled df with other fields\n",
    "df_scaled_count_cont_disc.loc[:, df_to_scale.columns] = df_to_scale"
   ]
  },
  {
   "cell_type": "markdown",
   "metadata": {},
   "source": [
    "#### Test on statsmodels LinearRegression"
   ]
  },
  {
   "cell_type": "code",
   "execution_count": 14,
   "metadata": {},
   "outputs": [],
   "source": [
    "# Split training and testing data for cross validation\n",
    "X_train, X_test, y_train, y_test = train_test_split(\n",
    "            df_scaled_count_cont_disc.loc[:, df_scaled_count_cont_disc.columns.isin([predictor]) == False],\n",
    "            df_scaled_count_cont_disc.loc[:, predictor],\n",
    "            test_size = 0.25,\n",
    "            random_state = 222)"
   ]
  },
  {
   "cell_type": "code",
   "execution_count": 15,
   "metadata": {},
   "outputs": [
    {
     "name": "stdout",
     "output_type": "stream",
     "text": [
      "Optimization terminated successfully.\n",
      "         Current function value: 0.323827\n",
      "         Iterations: 20\n",
      "         Function evaluations: 22\n",
      "         Gradient evaluations: 41\n",
      "         Hessian evaluations: 20\n"
     ]
    }
   ],
   "source": [
    "# load model and performance parameters\n",
    "lr_model, lr_mod_cm_score, lr_mod_auc_score, mod_precision, sig_features = statsmodel_ols_lgst('statsmodels', 'ols', X_train, X_test, y_train, y_test, 0.5)\n",
    "\n",
    "# save model results\n",
    "modeling_results.save({\n",
    "    \"Model\": [\"LinReg\"],\n",
    "    \"Transformation Method\": [\"Scale all\"],\n",
    "    \"AUC\": [lr_mod_auc_score],\n",
    "    \"AIC\": [lr_model.aic],\n",
    "    \"R2\": [lr_model.rsquared],\n",
    "    \"Precision\": [mod_precision],\n",
    "    \"Sig. features\": [len(sig_features)],\n",
    "    \"Notes\": [\"Converged on scaled continuous and count features\"]\n",
    "})\n",
    "\n",
    "sig_feature_sets[\"scaled_all_lr\"] = sig_features"
   ]
  },
  {
   "cell_type": "markdown",
   "metadata": {},
   "source": [
    "#### Test on statsmodels Logistic Regression"
   ]
  },
  {
   "cell_type": "code",
   "execution_count": 16,
   "metadata": {
    "scrolled": true
   },
   "outputs": [
    {
     "name": "stdout",
     "output_type": "stream",
     "text": [
      "Optimization terminated successfully.\n",
      "         Current function value: 0.323827\n",
      "         Iterations: 20\n",
      "         Function evaluations: 22\n",
      "         Gradient evaluations: 41\n",
      "         Hessian evaluations: 20\n"
     ]
    }
   ],
   "source": [
    "# load model and performance parameters\n",
    "lgst_model, lgst_mod_cm_score, lgst_mod_auc_score, mod_precision, sig_features = statsmodel_ols_lgst('statsmodels', 'lgst', X_train, X_test, y_train, y_test, 0.5)\n",
    "\n",
    "# save model results\n",
    "modeling_results.save({\n",
    "    \"Model\": [\"Logit\"],\n",
    "    \"Transformation Method\": [\"Scale all\"],\n",
    "    \"AUC\": [lgst_mod_auc_score],\n",
    "    \"AIC\": [lgst_model.aic],\n",
    "    \"R2\": [lgst_model.prsquared],\n",
    "    \"Precision\": [mod_precision],\n",
    "    \"Sig. features\": [len(sig_features)],\n",
    "    \"Notes\": [\"Converged on scaled continuous and count features\"]\n",
    "})\n",
    "\n",
    "sig_feature_sets[\"scaled_all_lgst\"] = sig_features"
   ]
  },
  {
   "cell_type": "markdown",
   "metadata": {},
   "source": [
    "## Transform continuous and scale count, discrete"
   ]
  },
  {
   "cell_type": "code",
   "execution_count": 17,
   "metadata": {},
   "outputs": [],
   "source": [
    "df_transformed_cont_scaled_count_disc = df_optimization.copy()"
   ]
  },
  {
   "cell_type": "code",
   "execution_count": 18,
   "metadata": {},
   "outputs": [],
   "source": [
    "# Tranform continuous by sqrt\n",
    "for i in df_transformed_cont_scaled_count_disc.loc[:, continuous_features.columns]:\n",
    "    df_transformed_cont_scaled_count_disc.loc[:, i] = np.sqrt(df_transformed_cont_scaled_count_disc.loc[:, i]).replace({-float('inf'): 0.01})"
   ]
  },
  {
   "cell_type": "code",
   "execution_count": 19,
   "metadata": {},
   "outputs": [],
   "source": [
    "# prepare dataframe for scaling\n",
    "df_to_scale = all_features\\\n",
    "    .loc[:, count_features.columns.to_list() + discrete_features.columns.to_list()]\n",
    "\n",
    "# Scale count and discrete\n",
    "scaler = MinMaxScaler(feature_range = (0, 1))\n",
    "scaler.fit(df_to_scale)\n",
    "df_to_scale = pd.DataFrame(scaler.transform(df_to_scale), columns=df_to_scale.columns)\n",
    "\n",
    "# merge scaled df with other fields\n",
    "df_transformed_cont_scaled_count_disc.loc[:, df_to_scale.columns] = df_to_scale"
   ]
  },
  {
   "cell_type": "markdown",
   "metadata": {},
   "source": [
    "#### Test on statsmodels LinearRegression"
   ]
  },
  {
   "cell_type": "code",
   "execution_count": 20,
   "metadata": {},
   "outputs": [],
   "source": [
    "# Split training and testing data for cross validation\n",
    "X_train, X_test, y_train, y_test = train_test_split(\n",
    "            df_transformed_cont_scaled_count_disc.loc[:, df_transformed_cont_scaled_count_disc.columns.isin([predictor]) == False],\n",
    "            df_transformed_cont_scaled_count_disc.loc[:, predictor],\n",
    "            test_size = 0.25,\n",
    "            random_state = 222)"
   ]
  },
  {
   "cell_type": "code",
   "execution_count": 21,
   "metadata": {},
   "outputs": [
    {
     "name": "stdout",
     "output_type": "stream",
     "text": [
      "Optimization terminated successfully.\n",
      "         Current function value: 0.325625\n",
      "         Iterations: 15\n",
      "         Function evaluations: 25\n",
      "         Gradient evaluations: 39\n",
      "         Hessian evaluations: 15\n"
     ]
    },
    {
     "name": "stderr",
     "output_type": "stream",
     "text": [
      "C:\\Users\\nrosh\\Anaconda3\\lib\\site-packages\\statsmodels\\base\\model.py:548: HessianInversionWarning: Inverting hessian failed, no bse or cov_params available\n",
      "  'available', HessianInversionWarning)\n",
      "C:\\Users\\nrosh\\Anaconda3\\lib\\site-packages\\sklearn\\linear_model\\_logistic.py:940: ConvergenceWarning: lbfgs failed to converge (status=1):\n",
      "STOP: TOTAL NO. of ITERATIONS REACHED LIMIT.\n",
      "\n",
      "Increase the number of iterations (max_iter) or scale the data as shown in:\n",
      "    https://scikit-learn.org/stable/modules/preprocessing.html\n",
      "Please also refer to the documentation for alternative solver options:\n",
      "    https://scikit-learn.org/stable/modules/linear_model.html#logistic-regression\n",
      "  extra_warning_msg=_LOGISTIC_SOLVER_CONVERGENCE_MSG)\n"
     ]
    }
   ],
   "source": [
    "# load model and performance parameters\n",
    "lr_model_trans_scaled, lr_mod_cm_score, lr_mod_auc_score, lr_mod_precision, sig_features = statsmodel_ols_lgst('statsmodels', 'ols', X_train, X_test, y_train, y_test, 0.5)\n",
    "\n",
    "# save model results\n",
    "modeling_results.save({\n",
    "    \"Model\": [\"LinReg\"],\n",
    "    \"Transformation Method\": [\"Transform continuous, scale count and discrete\"],\n",
    "    \"AUC\": [lr_mod_auc_score],\n",
    "    \"AIC\": [lr_model_trans_scaled.aic],\n",
    "    \"R2\": [lr_model_trans_scaled.rsquared],\n",
    "    \"Precision\": [lr_mod_precision],\n",
    "    \"Sig. features\": [len(sig_features)],\n",
    "    \"Notes\": [\"Failed to converge on transformed continuous, scaled count & discrete features\"]\n",
    "})\n",
    "\n",
    "sig_feature_sets[\"transformed_scaled_lr\"] = sig_features"
   ]
  },
  {
   "cell_type": "markdown",
   "metadata": {},
   "source": [
    "#### Test on statsmodels Logistic Regression"
   ]
  },
  {
   "cell_type": "code",
   "execution_count": 22,
   "metadata": {
    "scrolled": true
   },
   "outputs": [
    {
     "name": "stdout",
     "output_type": "stream",
     "text": [
      "Optimization terminated successfully.\n",
      "         Current function value: 0.325625\n",
      "         Iterations: 15\n",
      "         Function evaluations: 25\n",
      "         Gradient evaluations: 39\n",
      "         Hessian evaluations: 15\n"
     ]
    },
    {
     "name": "stderr",
     "output_type": "stream",
     "text": [
      "C:\\Users\\nrosh\\Anaconda3\\lib\\site-packages\\statsmodels\\base\\model.py:548: HessianInversionWarning: Inverting hessian failed, no bse or cov_params available\n",
      "  'available', HessianInversionWarning)\n",
      "C:\\Users\\nrosh\\Anaconda3\\lib\\site-packages\\sklearn\\linear_model\\_logistic.py:940: ConvergenceWarning: lbfgs failed to converge (status=1):\n",
      "STOP: TOTAL NO. of ITERATIONS REACHED LIMIT.\n",
      "\n",
      "Increase the number of iterations (max_iter) or scale the data as shown in:\n",
      "    https://scikit-learn.org/stable/modules/preprocessing.html\n",
      "Please also refer to the documentation for alternative solver options:\n",
      "    https://scikit-learn.org/stable/modules/linear_model.html#logistic-regression\n",
      "  extra_warning_msg=_LOGISTIC_SOLVER_CONVERGENCE_MSG)\n",
      "C:\\Users\\nrosh\\Anaconda3\\lib\\site-packages\\scipy\\stats\\_distn_infrastructure.py:903: RuntimeWarning: invalid value encountered in greater\n",
      "  return (a < x) & (x < b)\n",
      "C:\\Users\\nrosh\\Anaconda3\\lib\\site-packages\\scipy\\stats\\_distn_infrastructure.py:903: RuntimeWarning: invalid value encountered in less\n",
      "  return (a < x) & (x < b)\n",
      "C:\\Users\\nrosh\\Anaconda3\\lib\\site-packages\\scipy\\stats\\_distn_infrastructure.py:1912: RuntimeWarning: invalid value encountered in less_equal\n",
      "  cond2 = cond0 & (x <= _a)\n"
     ]
    }
   ],
   "source": [
    "# load model and performance parameters\n",
    "lgst_model, lgst_mod_cm_score, lgst_mod_auc_score, mod_precision, sig_features = statsmodel_ols_lgst('statsmodels', 'lgst', X_train, X_test, y_train, y_test, 0.5)\n",
    "\n",
    "# save model results\n",
    "modeling_results.save({\n",
    "    \"Model\": [\"Logit\"],\n",
    "    \"Transformation Method\": [\"Transform continuous, scale count and discrete\"],\n",
    "    \"AUC\": [lgst_mod_auc_score],\n",
    "    \"AIC\": [lgst_model.aic],\n",
    "    \"R2\": [lgst_model.prsquared],\n",
    "    \"Precision\": [mod_precision],\n",
    "    \"Sig. features\": [len(sig_features)],\n",
    "    \"Notes\": [\"Failed to converge on scaled continuous and count features\"]\n",
    "})\n",
    "\n",
    "sig_feature_sets[\"transformed_scaled_lgst\"] = sig_features"
   ]
  },
  {
   "cell_type": "code",
   "execution_count": 23,
   "metadata": {},
   "outputs": [
    {
     "data": {
      "text/html": [
       "<div>\n",
       "<style scoped>\n",
       "    .dataframe tbody tr th:only-of-type {\n",
       "        vertical-align: middle;\n",
       "    }\n",
       "\n",
       "    .dataframe tbody tr th {\n",
       "        vertical-align: top;\n",
       "    }\n",
       "\n",
       "    .dataframe thead th {\n",
       "        text-align: right;\n",
       "    }\n",
       "</style>\n",
       "<table border=\"1\" class=\"dataframe\">\n",
       "  <thead>\n",
       "    <tr style=\"text-align: right;\">\n",
       "      <th></th>\n",
       "      <th>Model</th>\n",
       "      <th>Transformation Method</th>\n",
       "      <th>AUC</th>\n",
       "      <th>AIC</th>\n",
       "      <th>R2</th>\n",
       "      <th>Precision</th>\n",
       "      <th>Sig. features</th>\n",
       "      <th>Notes</th>\n",
       "    </tr>\n",
       "  </thead>\n",
       "  <tbody>\n",
       "    <tr>\n",
       "      <th>0</th>\n",
       "      <td>LinReg</td>\n",
       "      <td>None</td>\n",
       "      <td>0.777794</td>\n",
       "      <td>1254.877614</td>\n",
       "      <td>0.441937</td>\n",
       "      <td>0.861199</td>\n",
       "      <td>12</td>\n",
       "      <td>Failed to converge on unscaled/transformed var...</td>\n",
       "    </tr>\n",
       "    <tr>\n",
       "      <th>0</th>\n",
       "      <td>Lgst</td>\n",
       "      <td>Scale all</td>\n",
       "      <td>0.500000</td>\n",
       "      <td>2055.900677</td>\n",
       "      <td>-0.019708</td>\n",
       "      <td>0.673511</td>\n",
       "      <td>0</td>\n",
       "      <td>Failed to converge on scaled continuous and co...</td>\n",
       "    </tr>\n",
       "    <tr>\n",
       "      <th>0</th>\n",
       "      <td>LinReg</td>\n",
       "      <td>Scale all</td>\n",
       "      <td>0.783987</td>\n",
       "      <td>1264.290234</td>\n",
       "      <td>0.432131</td>\n",
       "      <td>0.864780</td>\n",
       "      <td>20</td>\n",
       "      <td>Converged on scaled continuous and count features</td>\n",
       "    </tr>\n",
       "    <tr>\n",
       "      <th>0</th>\n",
       "      <td>Logit</td>\n",
       "      <td>Scale all</td>\n",
       "      <td>0.755685</td>\n",
       "      <td>1120.926898</td>\n",
       "      <td>0.483046</td>\n",
       "      <td>0.840979</td>\n",
       "      <td>10</td>\n",
       "      <td>Converged on scaled continuous and count features</td>\n",
       "    </tr>\n",
       "    <tr>\n",
       "      <th>0</th>\n",
       "      <td>LinReg</td>\n",
       "      <td>Transform continuous, scale count and discrete</td>\n",
       "      <td>0.787228</td>\n",
       "      <td>1246.915608</td>\n",
       "      <td>0.438854</td>\n",
       "      <td>0.869427</td>\n",
       "      <td>20</td>\n",
       "      <td>Failed to converge on transformed continuous, ...</td>\n",
       "    </tr>\n",
       "    <tr>\n",
       "      <th>0</th>\n",
       "      <td>Logit</td>\n",
       "      <td>Transform continuous, scale count and discrete</td>\n",
       "      <td>0.774553</td>\n",
       "      <td>1126.175002</td>\n",
       "      <td>0.480175</td>\n",
       "      <td>0.856698</td>\n",
       "      <td>0</td>\n",
       "      <td>Failed to converge on scaled continuous and co...</td>\n",
       "    </tr>\n",
       "  </tbody>\n",
       "</table>\n",
       "</div>"
      ],
      "text/plain": [
       "    Model                           Transformation Method       AUC  \\\n",
       "0  LinReg                                            None  0.777794   \n",
       "0    Lgst                                       Scale all  0.500000   \n",
       "0  LinReg                                       Scale all  0.783987   \n",
       "0   Logit                                       Scale all  0.755685   \n",
       "0  LinReg  Transform continuous, scale count and discrete  0.787228   \n",
       "0   Logit  Transform continuous, scale count and discrete  0.774553   \n",
       "\n",
       "           AIC        R2  Precision Sig. features  \\\n",
       "0  1254.877614  0.441937   0.861199            12   \n",
       "0  2055.900677 -0.019708   0.673511             0   \n",
       "0  1264.290234  0.432131   0.864780            20   \n",
       "0  1120.926898  0.483046   0.840979            10   \n",
       "0  1246.915608  0.438854   0.869427            20   \n",
       "0  1126.175002  0.480175   0.856698             0   \n",
       "\n",
       "                                               Notes  \n",
       "0  Failed to converge on unscaled/transformed var...  \n",
       "0  Failed to converge on scaled continuous and co...  \n",
       "0  Converged on scaled continuous and count features  \n",
       "0  Converged on scaled continuous and count features  \n",
       "0  Failed to converge on transformed continuous, ...  \n",
       "0  Failed to converge on scaled continuous and co...  "
      ]
     },
     "execution_count": 23,
     "metadata": {},
     "output_type": "execute_result"
    }
   ],
   "source": [
    "# Save results\n",
    "file = \"A2 - Optimization Performance Report.csv\"\n",
    "modeling_results.export_csv(file)\n",
    "\n",
    "# Observe all performance\n",
    "modeling_results.display()"
   ]
  },
  {
   "cell_type": "code",
   "execution_count": 24,
   "metadata": {},
   "outputs": [
    {
     "data": {
      "text/html": [
       "<div>\n",
       "<style scoped>\n",
       "    .dataframe tbody tr th:only-of-type {\n",
       "        vertical-align: middle;\n",
       "    }\n",
       "\n",
       "    .dataframe tbody tr th {\n",
       "        vertical-align: top;\n",
       "    }\n",
       "\n",
       "    .dataframe thead th {\n",
       "        text-align: right;\n",
       "    }\n",
       "</style>\n",
       "<table border=\"1\" class=\"dataframe\">\n",
       "  <thead>\n",
       "    <tr style=\"text-align: right;\">\n",
       "      <th></th>\n",
       "      <th>r_squared</th>\n",
       "      <th>vif</th>\n",
       "    </tr>\n",
       "  </thead>\n",
       "  <tbody>\n",
       "  </tbody>\n",
       "</table>\n",
       "</div>"
      ],
      "text/plain": [
       "Empty DataFrame\n",
       "Columns: [r_squared, vif]\n",
       "Index: []"
      ]
     },
     "execution_count": 24,
     "metadata": {},
     "output_type": "execute_result"
    }
   ],
   "source": [
    "vim_multicollinearity(df_transformed_cont_scaled_count_disc.loc[:, sig_features])"
   ]
  },
  {
   "cell_type": "code",
   "execution_count": 25,
   "metadata": {},
   "outputs": [
    {
     "data": {
      "text/html": [
       "<table class=\"simpletable\">\n",
       "<caption>OLS Regression Results</caption>\n",
       "<tr>\n",
       "  <th>Dep. Variable:</th>     <td>HWT_SUBSCRIBER</td>  <th>  R-squared:         </th> <td>   0.439</td> \n",
       "</tr>\n",
       "<tr>\n",
       "  <th>Model:</th>                   <td>OLS</td>       <th>  Adj. R-squared:    </th> <td>   0.403</td> \n",
       "</tr>\n",
       "<tr>\n",
       "  <th>Method:</th>             <td>Least Squares</td>  <th>  F-statistic:       </th> <td>   12.32</td> \n",
       "</tr>\n",
       "<tr>\n",
       "  <th>Date:</th>             <td>Sat, 14 Mar 2020</td> <th>  Prob (F-statistic):</th> <td>9.27e-119</td>\n",
       "</tr>\n",
       "<tr>\n",
       "  <th>Time:</th>                 <td>10:12:50</td>     <th>  Log-Likelihood:    </th> <td> -535.46</td> \n",
       "</tr>\n",
       "<tr>\n",
       "  <th>No. Observations:</th>      <td>  1459</td>      <th>  AIC:               </th> <td>   1247.</td> \n",
       "</tr>\n",
       "<tr>\n",
       "  <th>Df Residuals:</th>          <td>  1371</td>      <th>  BIC:               </th> <td>   1712.</td> \n",
       "</tr>\n",
       "<tr>\n",
       "  <th>Df Model:</th>              <td>    87</td>      <th>                     </th>     <td> </td>    \n",
       "</tr>\n",
       "<tr>\n",
       "  <th>Covariance Type:</th>      <td>nonrobust</td>    <th>                     </th>     <td> </td>    \n",
       "</tr>\n",
       "</table>\n",
       "<table class=\"simpletable\">\n",
       "<tr>\n",
       "                        <td></td>                          <th>coef</th>     <th>std err</th>      <th>t</th>      <th>P>|t|</th>  <th>[0.025</th>    <th>0.975]</th>  \n",
       "</tr>\n",
       "<tr>\n",
       "  <th>REVENUE</th>                                      <td>   -0.0025</td> <td>    0.002</td> <td>   -1.535</td> <td> 0.125</td> <td>   -0.006</td> <td>    0.001</td>\n",
       "</tr>\n",
       "<tr>\n",
       "  <th>TOTAL_MEALS_ORDERED</th>                          <td>   -0.2369</td> <td>    0.138</td> <td>   -1.711</td> <td> 0.087</td> <td>   -0.509</td> <td>    0.035</td>\n",
       "</tr>\n",
       "<tr>\n",
       "  <th>UNIQUE_MEALS_PURCH</th>                           <td>    0.1573</td> <td>    0.117</td> <td>    1.347</td> <td> 0.178</td> <td>   -0.072</td> <td>    0.386</td>\n",
       "</tr>\n",
       "<tr>\n",
       "  <th>CUSTOMER_SERVICE_TICKETS_CNT</th>                 <td>    0.3813</td> <td>    0.175</td> <td>    2.175</td> <td> 0.030</td> <td>    0.037</td> <td>    0.725</td>\n",
       "</tr>\n",
       "<tr>\n",
       "  <th>PRODUCT_CATEGORIES_VIEWED</th>                    <td>    0.0258</td> <td>    0.063</td> <td>    0.410</td> <td> 0.682</td> <td>   -0.097</td> <td>    0.149</td>\n",
       "</tr>\n",
       "<tr>\n",
       "  <th>SITE_VISIT_TIME_PER_VISIT_AVG</th>                <td>    0.0081</td> <td>    0.008</td> <td>    0.960</td> <td> 0.337</td> <td>   -0.008</td> <td>    0.025</td>\n",
       "</tr>\n",
       "<tr>\n",
       "  <th>MOBILE_NUMBER_SUPPLIED</th>                       <td>    0.1214</td> <td>    0.030</td> <td>    4.081</td> <td> 0.000</td> <td>    0.063</td> <td>    0.180</td>\n",
       "</tr>\n",
       "<tr>\n",
       "  <th>MEALS_CANCEL_BEFORE_NOON</th>                     <td>    0.4379</td> <td>    0.088</td> <td>    4.956</td> <td> 0.000</td> <td>    0.265</td> <td>    0.611</td>\n",
       "</tr>\n",
       "<tr>\n",
       "  <th>MEALS_CANCEL_AFTER_NOON</th>                      <td>   -0.1465</td> <td>    0.090</td> <td>   -1.636</td> <td> 0.102</td> <td>   -0.322</td> <td>    0.029</td>\n",
       "</tr>\n",
       "<tr>\n",
       "  <th>SPECIFIED_TASTE_AND_PREFERENCES</th>              <td>    0.0764</td> <td>    0.021</td> <td>    3.599</td> <td> 0.000</td> <td>    0.035</td> <td>    0.118</td>\n",
       "</tr>\n",
       "<tr>\n",
       "  <th>PC_LOGINS_CNT</th>                                <td>    0.1198</td> <td>    0.055</td> <td>    2.175</td> <td> 0.030</td> <td>    0.012</td> <td>    0.228</td>\n",
       "</tr>\n",
       "<tr>\n",
       "  <th>MOBILE_LOGINS_CNT</th>                            <td>    0.0247</td> <td>    0.086</td> <td>    0.287</td> <td> 0.774</td> <td>   -0.144</td> <td>    0.193</td>\n",
       "</tr>\n",
       "<tr>\n",
       "  <th>WEEKS_SUBSCRIBED_TO_WEEKLY_PLAN_CNT</th>          <td>   -0.1485</td> <td>    0.075</td> <td>   -1.982</td> <td> 0.048</td> <td>   -0.295</td> <td>   -0.002</td>\n",
       "</tr>\n",
       "<tr>\n",
       "  <th>ORDERS_DELIVERED_BEFORE_DELIVERY_CNT</th>         <td>    0.0029</td> <td>    0.062</td> <td>    0.047</td> <td> 0.962</td> <td>   -0.119</td> <td>    0.124</td>\n",
       "</tr>\n",
       "<tr>\n",
       "  <th>ORDERS_DELIVERED_AFTER_DELIVERY_CNT</th>          <td>   -0.0334</td> <td>    0.083</td> <td>   -0.404</td> <td> 0.687</td> <td>   -0.196</td> <td>    0.129</td>\n",
       "</tr>\n",
       "<tr>\n",
       "  <th>PACKAGE_ROOM_AT_CUSTOMER</th>                     <td>    0.0111</td> <td>    0.023</td> <td>    0.481</td> <td> 0.630</td> <td>   -0.034</td> <td>    0.056</td>\n",
       "</tr>\n",
       "<tr>\n",
       "  <th>FRIDGE_LOCKER_IN_PACKAGE_ROOM</th>                <td>    0.0323</td> <td>    0.035</td> <td>    0.923</td> <td> 0.356</td> <td>   -0.036</td> <td>    0.101</td>\n",
       "</tr>\n",
       "<tr>\n",
       "  <th>PRCNT_FOLLOWED_MEAL_RECOM_WEB_MOBILE</th>         <td>   -0.0370</td> <td>    0.007</td> <td>   -5.182</td> <td> 0.000</td> <td>   -0.051</td> <td>   -0.023</td>\n",
       "</tr>\n",
       "<tr>\n",
       "  <th>SECONDS_WATCHING_PREP_VID_AVG</th>                <td>    0.0054</td> <td>    0.012</td> <td>    0.466</td> <td> 0.641</td> <td>   -0.017</td> <td>    0.028</td>\n",
       "</tr>\n",
       "<tr>\n",
       "  <th>LARGEST_ORDER_SIZE</th>                           <td>   -0.0672</td> <td>    0.125</td> <td>   -0.537</td> <td> 0.591</td> <td>   -0.313</td> <td>    0.178</td>\n",
       "</tr>\n",
       "<tr>\n",
       "  <th>MASTER_CLASSES_ATTENDED_CNT</th>                  <td>    0.0029</td> <td>    0.070</td> <td>    0.041</td> <td> 0.967</td> <td>   -0.133</td> <td>    0.139</td>\n",
       "</tr>\n",
       "<tr>\n",
       "  <th>MEAL_RATING_MEDIAN</th>                           <td>   -0.1120</td> <td>    0.114</td> <td>   -0.981</td> <td> 0.327</td> <td>   -0.336</td> <td>    0.112</td>\n",
       "</tr>\n",
       "<tr>\n",
       "  <th>SITE_CLICKS_PER_VISIT_AVG</th>                    <td>   -0.1545</td> <td>    0.119</td> <td>   -1.295</td> <td> 0.196</td> <td>   -0.389</td> <td>    0.080</td>\n",
       "</tr>\n",
       "<tr>\n",
       "  <th>PHOTOS_VIEWED_COUNT</th>                          <td>   -0.0737</td> <td>    0.137</td> <td>   -0.536</td> <td> 0.592</td> <td>   -0.343</td> <td>    0.196</td>\n",
       "</tr>\n",
       "<tr>\n",
       "  <th>missing_FAMILY_NAME</th>                          <td>    0.0904</td> <td>    0.061</td> <td>    1.482</td> <td> 0.139</td> <td>   -0.029</td> <td>    0.210</td>\n",
       "</tr>\n",
       "<tr>\n",
       "  <th>fe_MEAL_CHOICE_SPECIFICITY</th>                   <td>   -0.4491</td> <td>    0.195</td> <td>   -2.309</td> <td> 0.021</td> <td>   -0.831</td> <td>   -0.067</td>\n",
       "</tr>\n",
       "<tr>\n",
       "  <th>fe_SITE_CLICK_RATE</th>                           <td>   -0.0440</td> <td>    0.134</td> <td>   -0.328</td> <td> 0.743</td> <td>   -0.307</td> <td>    0.219</td>\n",
       "</tr>\n",
       "<tr>\n",
       "  <th>fe_SUBSCRIPTIONS_SYNERGY</th>                     <td>   -0.0638</td> <td>    0.024</td> <td>   -2.622</td> <td> 0.009</td> <td>   -0.112</td> <td>   -0.016</td>\n",
       "</tr>\n",
       "<tr>\n",
       "  <th>flag_WEEKS_SUBSCRIBED_TO_WEEKLY_PLAN_CNT_lo</th>  <td>   -0.0638</td> <td>    0.024</td> <td>   -2.622</td> <td> 0.009</td> <td>   -0.112</td> <td>   -0.016</td>\n",
       "</tr>\n",
       "<tr>\n",
       "  <th>out_SITE_VISIT_TIME_PER_VISIT_AVG_hi</th>         <td>   -0.1447</td> <td>    0.189</td> <td>   -0.764</td> <td> 0.445</td> <td>   -0.516</td> <td>    0.227</td>\n",
       "</tr>\n",
       "<tr>\n",
       "  <th>out_SECONDS_WATCHING_PREP_VID_AVG_lo</th>         <td>   -0.1327</td> <td>    0.264</td> <td>   -0.503</td> <td> 0.615</td> <td>   -0.651</td> <td>    0.385</td>\n",
       "</tr>\n",
       "<tr>\n",
       "  <th>out_PRCNT_FOLLOWED_MEAL_RECOM_WEB_MOBILE_hi</th>  <td>    0.0650</td> <td>    0.054</td> <td>    1.205</td> <td> 0.228</td> <td>   -0.041</td> <td>    0.171</td>\n",
       "</tr>\n",
       "<tr>\n",
       "  <th>flag_SECONDS_WATCHING_PREP_VID_AVG_hi</th>        <td>    0.1243</td> <td>    0.078</td> <td>    1.584</td> <td> 0.114</td> <td>   -0.030</td> <td>    0.278</td>\n",
       "</tr>\n",
       "<tr>\n",
       "  <th>flag_SITE_VISIT_TIME_PER_VISIT_AVG_hi</th>        <td>   -0.0183</td> <td>    0.139</td> <td>   -0.132</td> <td> 0.895</td> <td>   -0.291</td> <td>    0.255</td>\n",
       "</tr>\n",
       "<tr>\n",
       "  <th>flag_PRCNT_FOLLOWED_MEAL_RECOM_WEB_MOBILE_hi</th> <td>    0.6438</td> <td>    0.036</td> <td>   17.682</td> <td> 0.000</td> <td>    0.572</td> <td>    0.715</td>\n",
       "</tr>\n",
       "<tr>\n",
       "  <th>out_TOTAL_MEALS_ORDERED_hi</th>                   <td>    0.1606</td> <td>    0.184</td> <td>    0.873</td> <td> 0.383</td> <td>   -0.200</td> <td>    0.522</td>\n",
       "</tr>\n",
       "<tr>\n",
       "  <th>out_UNIQUE_MEALS_PURCH_hi</th>                    <td>   -0.1508</td> <td>    0.198</td> <td>   -0.763</td> <td> 0.445</td> <td>   -0.538</td> <td>    0.237</td>\n",
       "</tr>\n",
       "<tr>\n",
       "  <th>out_MEALS_CANCEL_BEFORE_NOON_hi</th>              <td>   -0.1235</td> <td>    0.174</td> <td>   -0.709</td> <td> 0.478</td> <td>   -0.465</td> <td>    0.218</td>\n",
       "</tr>\n",
       "<tr>\n",
       "  <th>out_MEALS_CANCEL_AFTER_NOON_hi</th>               <td>    0.0115</td> <td>    0.088</td> <td>    0.131</td> <td> 0.896</td> <td>   -0.161</td> <td>    0.184</td>\n",
       "</tr>\n",
       "<tr>\n",
       "  <th>out_PC_LOGINS_CNT_hi</th>                         <td>   -0.0873</td> <td>    0.068</td> <td>   -1.275</td> <td> 0.203</td> <td>   -0.222</td> <td>    0.047</td>\n",
       "</tr>\n",
       "<tr>\n",
       "  <th>out_MOBILE_LOGINS_CNT_hi</th>                     <td>   -0.0697</td> <td>    0.090</td> <td>   -0.773</td> <td> 0.440</td> <td>   -0.247</td> <td>    0.107</td>\n",
       "</tr>\n",
       "<tr>\n",
       "  <th>out_SITE_CLICKS_PER_VISIT_AVG_lo</th>             <td>    0.0296</td> <td>    0.217</td> <td>    0.136</td> <td> 0.891</td> <td>   -0.396</td> <td>    0.455</td>\n",
       "</tr>\n",
       "<tr>\n",
       "  <th>flag_TOTAL_MEALS_ORDERED_lo</th>                  <td>   -0.0573</td> <td>    0.079</td> <td>   -0.728</td> <td> 0.467</td> <td>   -0.212</td> <td>    0.097</td>\n",
       "</tr>\n",
       "<tr>\n",
       "  <th>flag_UNIQUE_MEALS_PURCH_lo</th>                   <td>   -0.0047</td> <td>    0.156</td> <td>   -0.030</td> <td> 0.976</td> <td>   -0.311</td> <td>    0.301</td>\n",
       "</tr>\n",
       "<tr>\n",
       "  <th>flag_CUSTOMER_SERVICE_TICKETS_CNT_lo</th>         <td>    0.0613</td> <td>    0.035</td> <td>    1.744</td> <td> 0.081</td> <td>   -0.008</td> <td>    0.130</td>\n",
       "</tr>\n",
       "<tr>\n",
       "  <th>flag_PRODUCT_CATEGORIES_VIEWED_hi</th>            <td>   -0.0050</td> <td>    0.043</td> <td>   -0.118</td> <td> 0.906</td> <td>   -0.088</td> <td>    0.078</td>\n",
       "</tr>\n",
       "<tr>\n",
       "  <th>flag_ORDERS_DELIVERED_BEFORE_DELIVERY_CNT_lo</th> <td>   -0.0162</td> <td>    0.032</td> <td>   -0.502</td> <td> 0.616</td> <td>   -0.080</td> <td>    0.047</td>\n",
       "</tr>\n",
       "<tr>\n",
       "  <th>flag_ORDERS_DELIVERED_AFTER_DELIVERY_CNT_lo</th>  <td>   -0.0678</td> <td>    0.069</td> <td>   -0.976</td> <td> 0.329</td> <td>   -0.204</td> <td>    0.069</td>\n",
       "</tr>\n",
       "<tr>\n",
       "  <th>flag_MASTER_CLASSES_ATTENDED_CNT_hi</th>          <td>   -0.0298</td> <td>    0.050</td> <td>   -0.600</td> <td> 0.549</td> <td>   -0.127</td> <td>    0.068</td>\n",
       "</tr>\n",
       "<tr>\n",
       "  <th>flag_PHOTOS_VIEWED_COUNT_lo</th>                  <td>   -0.0296</td> <td>    0.029</td> <td>   -1.014</td> <td> 0.311</td> <td>   -0.087</td> <td>    0.028</td>\n",
       "</tr>\n",
       "<tr>\n",
       "  <th>fe_CUSTOMER_COMPANY_amex</th>                     <td>    0.0499</td> <td>    0.078</td> <td>    0.638</td> <td> 0.523</td> <td>   -0.104</td> <td>    0.203</td>\n",
       "</tr>\n",
       "<tr>\n",
       "  <th>fe_CUSTOMER_COMPANY_aol</th>                      <td>    0.4141</td> <td>    0.277</td> <td>    1.494</td> <td> 0.135</td> <td>   -0.130</td> <td>    0.958</td>\n",
       "</tr>\n",
       "<tr>\n",
       "  <th>fe_CUSTOMER_COMPANY_apple</th>                    <td>   -0.0836</td> <td>    0.080</td> <td>   -1.044</td> <td> 0.296</td> <td>   -0.241</td> <td>    0.073</td>\n",
       "</tr>\n",
       "<tr>\n",
       "  <th>fe_CUSTOMER_COMPANY_boeing</th>                   <td>    0.0262</td> <td>    0.087</td> <td>    0.301</td> <td> 0.763</td> <td>   -0.145</td> <td>    0.197</td>\n",
       "</tr>\n",
       "<tr>\n",
       "  <th>fe_CUSTOMER_COMPANY_caterpillar</th>              <td>    0.0849</td> <td>    0.087</td> <td>    0.972</td> <td> 0.331</td> <td>   -0.086</td> <td>    0.256</td>\n",
       "</tr>\n",
       "<tr>\n",
       "  <th>fe_CUSTOMER_COMPANY_chevron</th>                  <td>   -0.0015</td> <td>    0.078</td> <td>   -0.020</td> <td> 0.984</td> <td>   -0.154</td> <td>    0.151</td>\n",
       "</tr>\n",
       "<tr>\n",
       "  <th>fe_CUSTOMER_COMPANY_cisco</th>                    <td>    0.0460</td> <td>    0.100</td> <td>    0.460</td> <td> 0.646</td> <td>   -0.150</td> <td>    0.242</td>\n",
       "</tr>\n",
       "<tr>\n",
       "  <th>fe_CUSTOMER_COMPANY_cocacola</th>                 <td>    0.0264</td> <td>    0.079</td> <td>    0.333</td> <td> 0.740</td> <td>   -0.129</td> <td>    0.182</td>\n",
       "</tr>\n",
       "<tr>\n",
       "  <th>fe_CUSTOMER_COMPANY_disney</th>                   <td>   -0.0050</td> <td>    0.090</td> <td>   -0.055</td> <td> 0.956</td> <td>   -0.181</td> <td>    0.171</td>\n",
       "</tr>\n",
       "<tr>\n",
       "  <th>fe_CUSTOMER_COMPANY_dupont</th>                   <td>   -0.0333</td> <td>    0.083</td> <td>   -0.400</td> <td> 0.689</td> <td>   -0.197</td> <td>    0.130</td>\n",
       "</tr>\n",
       "<tr>\n",
       "  <th>fe_CUSTOMER_COMPANY_exxon</th>                    <td>   -0.1369</td> <td>    0.087</td> <td>   -1.572</td> <td> 0.116</td> <td>   -0.308</td> <td>    0.034</td>\n",
       "</tr>\n",
       "<tr>\n",
       "  <th>fe_CUSTOMER_COMPANY_ge</th>                       <td>    0.3482</td> <td>    0.143</td> <td>    2.435</td> <td> 0.015</td> <td>    0.068</td> <td>    0.629</td>\n",
       "</tr>\n",
       "<tr>\n",
       "  <th>fe_CUSTOMER_COMPANY_gmail</th>                    <td>    0.6311</td> <td>    0.274</td> <td>    2.304</td> <td> 0.021</td> <td>    0.094</td> <td>    1.168</td>\n",
       "</tr>\n",
       "<tr>\n",
       "  <th>fe_CUSTOMER_COMPANY_goldmansacs</th>              <td>    0.1102</td> <td>    0.100</td> <td>    1.102</td> <td> 0.271</td> <td>   -0.086</td> <td>    0.306</td>\n",
       "</tr>\n",
       "<tr>\n",
       "  <th>fe_CUSTOMER_COMPANY_homedepot</th>                <td>   -0.2259</td> <td>    0.100</td> <td>   -2.262</td> <td> 0.024</td> <td>   -0.422</td> <td>   -0.030</td>\n",
       "</tr>\n",
       "<tr>\n",
       "  <th>fe_CUSTOMER_COMPANY_hotmail</th>                  <td>    0.4145</td> <td>    0.279</td> <td>    1.488</td> <td> 0.137</td> <td>   -0.132</td> <td>    0.961</td>\n",
       "</tr>\n",
       "<tr>\n",
       "  <th>fe_CUSTOMER_COMPANY_ibm</th>                      <td>   -0.0745</td> <td>    0.078</td> <td>   -0.955</td> <td> 0.340</td> <td>   -0.227</td> <td>    0.078</td>\n",
       "</tr>\n",
       "<tr>\n",
       "  <th>fe_CUSTOMER_COMPANY_intel</th>                    <td>    0.1753</td> <td>    0.113</td> <td>    1.549</td> <td> 0.122</td> <td>   -0.047</td> <td>    0.397</td>\n",
       "</tr>\n",
       "<tr>\n",
       "  <th>fe_CUSTOMER_COMPANY_jnj</th>                      <td>   -0.0854</td> <td>    0.080</td> <td>   -1.074</td> <td> 0.283</td> <td>   -0.241</td> <td>    0.071</td>\n",
       "</tr>\n",
       "<tr>\n",
       "  <th>fe_CUSTOMER_COMPANY_jpmorgan</th>                 <td>    0.0992</td> <td>    0.093</td> <td>    1.061</td> <td> 0.289</td> <td>   -0.084</td> <td>    0.283</td>\n",
       "</tr>\n",
       "<tr>\n",
       "  <th>fe_CUSTOMER_COMPANY_live</th>                     <td>    0.4536</td> <td>    0.277</td> <td>    1.638</td> <td> 0.102</td> <td>   -0.090</td> <td>    0.997</td>\n",
       "</tr>\n",
       "<tr>\n",
       "  <th>fe_CUSTOMER_COMPANY_mcdonalds</th>                <td>   -0.0945</td> <td>    0.078</td> <td>   -1.212</td> <td> 0.226</td> <td>   -0.247</td> <td>    0.058</td>\n",
       "</tr>\n",
       "<tr>\n",
       "  <th>fe_CUSTOMER_COMPANY_me</th>                       <td>    0.5323</td> <td>    0.278</td> <td>    1.912</td> <td> 0.056</td> <td>   -0.014</td> <td>    1.079</td>\n",
       "</tr>\n",
       "<tr>\n",
       "  <th>fe_CUSTOMER_COMPANY_merck</th>                    <td>    0.0926</td> <td>    0.078</td> <td>    1.183</td> <td> 0.237</td> <td>   -0.061</td> <td>    0.246</td>\n",
       "</tr>\n",
       "<tr>\n",
       "  <th>fe_CUSTOMER_COMPANY_microsoft</th>                <td>    0.1251</td> <td>    0.083</td> <td>    1.503</td> <td> 0.133</td> <td>   -0.038</td> <td>    0.288</td>\n",
       "</tr>\n",
       "<tr>\n",
       "  <th>fe_CUSTOMER_COMPANY_mmm</th>                      <td>    0.2284</td> <td>    0.083</td> <td>    2.736</td> <td> 0.006</td> <td>    0.065</td> <td>    0.392</td>\n",
       "</tr>\n",
       "<tr>\n",
       "  <th>fe_CUSTOMER_COMPANY_msn</th>                      <td>    0.4643</td> <td>    0.278</td> <td>    1.667</td> <td> 0.096</td> <td>   -0.082</td> <td>    1.010</td>\n",
       "</tr>\n",
       "<tr>\n",
       "  <th>fe_CUSTOMER_COMPANY_nike</th>                     <td>   -0.0740</td> <td>    0.091</td> <td>   -0.817</td> <td> 0.414</td> <td>   -0.252</td> <td>    0.104</td>\n",
       "</tr>\n",
       "<tr>\n",
       "  <th>fe_CUSTOMER_COMPANY_passport</th>                 <td>    0.5450</td> <td>    0.278</td> <td>    1.960</td> <td> 0.050</td> <td>   -0.000</td> <td>    1.090</td>\n",
       "</tr>\n",
       "<tr>\n",
       "  <th>fe_CUSTOMER_COMPANY_pfizer</th>                   <td>    0.1046</td> <td>    0.096</td> <td>    1.086</td> <td> 0.278</td> <td>   -0.084</td> <td>    0.294</td>\n",
       "</tr>\n",
       "<tr>\n",
       "  <th>fe_CUSTOMER_COMPANY_pg</th>                       <td>    0.2085</td> <td>    0.086</td> <td>    2.434</td> <td> 0.015</td> <td>    0.040</td> <td>    0.377</td>\n",
       "</tr>\n",
       "<tr>\n",
       "  <th>fe_CUSTOMER_COMPANY_protonmail</th>               <td>    0.6537</td> <td>    0.274</td> <td>    2.389</td> <td> 0.017</td> <td>    0.117</td> <td>    1.191</td>\n",
       "</tr>\n",
       "<tr>\n",
       "  <th>fe_CUSTOMER_COMPANY_travelers</th>                <td>   -0.1517</td> <td>    0.086</td> <td>   -1.767</td> <td> 0.077</td> <td>   -0.320</td> <td>    0.017</td>\n",
       "</tr>\n",
       "<tr>\n",
       "  <th>fe_CUSTOMER_COMPANY_unitedhealth</th>             <td>    0.0481</td> <td>    0.081</td> <td>    0.591</td> <td> 0.554</td> <td>   -0.111</td> <td>    0.208</td>\n",
       "</tr>\n",
       "<tr>\n",
       "  <th>fe_CUSTOMER_COMPANY_unitedtech</th>               <td>    0.1332</td> <td>    0.100</td> <td>    1.334</td> <td> 0.182</td> <td>   -0.063</td> <td>    0.329</td>\n",
       "</tr>\n",
       "<tr>\n",
       "  <th>fe_CUSTOMER_COMPANY_verizon</th>                  <td>    0.0554</td> <td>    0.086</td> <td>    0.648</td> <td> 0.517</td> <td>   -0.112</td> <td>    0.223</td>\n",
       "</tr>\n",
       "<tr>\n",
       "  <th>fe_CUSTOMER_COMPANY_visa</th>                     <td>   -0.0101</td> <td>    0.094</td> <td>   -0.107</td> <td> 0.915</td> <td>   -0.194</td> <td>    0.174</td>\n",
       "</tr>\n",
       "<tr>\n",
       "  <th>fe_CUSTOMER_COMPANY_walmart</th>                  <td>    0.0424</td> <td>    0.091</td> <td>    0.468</td> <td> 0.640</td> <td>   -0.135</td> <td>    0.220</td>\n",
       "</tr>\n",
       "<tr>\n",
       "  <th>fe_CUSTOMER_COMPANY_yahoo</th>                    <td>    0.6080</td> <td>    0.275</td> <td>    2.212</td> <td> 0.027</td> <td>    0.069</td> <td>    1.147</td>\n",
       "</tr>\n",
       "<tr>\n",
       "  <th>fe_CUSTOMER_DOMAIN_for_proft_domain</th>          <td>    0.3482</td> <td>    0.143</td> <td>    2.435</td> <td> 0.015</td> <td>    0.068</td> <td>    0.629</td>\n",
       "</tr>\n",
       "<tr>\n",
       "  <th>fe_CUSTOMER_DOMAIN_professional_domain</th>       <td>    0.6803</td> <td>    0.265</td> <td>    2.569</td> <td> 0.010</td> <td>    0.161</td> <td>    1.200</td>\n",
       "</tr>\n",
       "</table>\n",
       "<table class=\"simpletable\">\n",
       "<tr>\n",
       "  <th>Omnibus:</th>       <td>127.198</td> <th>  Durbin-Watson:     </th> <td>   1.956</td>\n",
       "</tr>\n",
       "<tr>\n",
       "  <th>Prob(Omnibus):</th> <td> 0.000</td>  <th>  Jarque-Bera (JB):  </th> <td>  44.031</td>\n",
       "</tr>\n",
       "<tr>\n",
       "  <th>Skew:</th>          <td> 0.139</td>  <th>  Prob(JB):          </th> <td>2.75e-10</td>\n",
       "</tr>\n",
       "<tr>\n",
       "  <th>Kurtosis:</th>      <td> 2.196</td>  <th>  Cond. No.          </th> <td>6.13e+17</td>\n",
       "</tr>\n",
       "</table><br/><br/>Warnings:<br/>[1] Standard Errors assume that the covariance matrix of the errors is correctly specified.<br/>[2] The smallest eigenvalue is 9.17e-30. This might indicate that there are<br/>strong multicollinearity problems or that the design matrix is singular."
      ],
      "text/plain": [
       "<class 'statsmodels.iolib.summary.Summary'>\n",
       "\"\"\"\n",
       "                            OLS Regression Results                            \n",
       "==============================================================================\n",
       "Dep. Variable:         HWT_SUBSCRIBER   R-squared:                       0.439\n",
       "Model:                            OLS   Adj. R-squared:                  0.403\n",
       "Method:                 Least Squares   F-statistic:                     12.32\n",
       "Date:                Sat, 14 Mar 2020   Prob (F-statistic):          9.27e-119\n",
       "Time:                        10:12:50   Log-Likelihood:                -535.46\n",
       "No. Observations:                1459   AIC:                             1247.\n",
       "Df Residuals:                    1371   BIC:                             1712.\n",
       "Df Model:                          87                                         \n",
       "Covariance Type:            nonrobust                                         \n",
       "================================================================================================================\n",
       "                                                   coef    std err          t      P>|t|      [0.025      0.975]\n",
       "----------------------------------------------------------------------------------------------------------------\n",
       "REVENUE                                         -0.0025      0.002     -1.535      0.125      -0.006       0.001\n",
       "TOTAL_MEALS_ORDERED                             -0.2369      0.138     -1.711      0.087      -0.509       0.035\n",
       "UNIQUE_MEALS_PURCH                               0.1573      0.117      1.347      0.178      -0.072       0.386\n",
       "CUSTOMER_SERVICE_TICKETS_CNT                     0.3813      0.175      2.175      0.030       0.037       0.725\n",
       "PRODUCT_CATEGORIES_VIEWED                        0.0258      0.063      0.410      0.682      -0.097       0.149\n",
       "SITE_VISIT_TIME_PER_VISIT_AVG                    0.0081      0.008      0.960      0.337      -0.008       0.025\n",
       "MOBILE_NUMBER_SUPPLIED                           0.1214      0.030      4.081      0.000       0.063       0.180\n",
       "MEALS_CANCEL_BEFORE_NOON                         0.4379      0.088      4.956      0.000       0.265       0.611\n",
       "MEALS_CANCEL_AFTER_NOON                         -0.1465      0.090     -1.636      0.102      -0.322       0.029\n",
       "SPECIFIED_TASTE_AND_PREFERENCES                  0.0764      0.021      3.599      0.000       0.035       0.118\n",
       "PC_LOGINS_CNT                                    0.1198      0.055      2.175      0.030       0.012       0.228\n",
       "MOBILE_LOGINS_CNT                                0.0247      0.086      0.287      0.774      -0.144       0.193\n",
       "WEEKS_SUBSCRIBED_TO_WEEKLY_PLAN_CNT             -0.1485      0.075     -1.982      0.048      -0.295      -0.002\n",
       "ORDERS_DELIVERED_BEFORE_DELIVERY_CNT             0.0029      0.062      0.047      0.962      -0.119       0.124\n",
       "ORDERS_DELIVERED_AFTER_DELIVERY_CNT             -0.0334      0.083     -0.404      0.687      -0.196       0.129\n",
       "PACKAGE_ROOM_AT_CUSTOMER                         0.0111      0.023      0.481      0.630      -0.034       0.056\n",
       "FRIDGE_LOCKER_IN_PACKAGE_ROOM                    0.0323      0.035      0.923      0.356      -0.036       0.101\n",
       "PRCNT_FOLLOWED_MEAL_RECOM_WEB_MOBILE            -0.0370      0.007     -5.182      0.000      -0.051      -0.023\n",
       "SECONDS_WATCHING_PREP_VID_AVG                    0.0054      0.012      0.466      0.641      -0.017       0.028\n",
       "LARGEST_ORDER_SIZE                              -0.0672      0.125     -0.537      0.591      -0.313       0.178\n",
       "MASTER_CLASSES_ATTENDED_CNT                      0.0029      0.070      0.041      0.967      -0.133       0.139\n",
       "MEAL_RATING_MEDIAN                              -0.1120      0.114     -0.981      0.327      -0.336       0.112\n",
       "SITE_CLICKS_PER_VISIT_AVG                       -0.1545      0.119     -1.295      0.196      -0.389       0.080\n",
       "PHOTOS_VIEWED_COUNT                             -0.0737      0.137     -0.536      0.592      -0.343       0.196\n",
       "missing_FAMILY_NAME                              0.0904      0.061      1.482      0.139      -0.029       0.210\n",
       "fe_MEAL_CHOICE_SPECIFICITY                      -0.4491      0.195     -2.309      0.021      -0.831      -0.067\n",
       "fe_SITE_CLICK_RATE                              -0.0440      0.134     -0.328      0.743      -0.307       0.219\n",
       "fe_SUBSCRIPTIONS_SYNERGY                        -0.0638      0.024     -2.622      0.009      -0.112      -0.016\n",
       "flag_WEEKS_SUBSCRIBED_TO_WEEKLY_PLAN_CNT_lo     -0.0638      0.024     -2.622      0.009      -0.112      -0.016\n",
       "out_SITE_VISIT_TIME_PER_VISIT_AVG_hi            -0.1447      0.189     -0.764      0.445      -0.516       0.227\n",
       "out_SECONDS_WATCHING_PREP_VID_AVG_lo            -0.1327      0.264     -0.503      0.615      -0.651       0.385\n",
       "out_PRCNT_FOLLOWED_MEAL_RECOM_WEB_MOBILE_hi      0.0650      0.054      1.205      0.228      -0.041       0.171\n",
       "flag_SECONDS_WATCHING_PREP_VID_AVG_hi            0.1243      0.078      1.584      0.114      -0.030       0.278\n",
       "flag_SITE_VISIT_TIME_PER_VISIT_AVG_hi           -0.0183      0.139     -0.132      0.895      -0.291       0.255\n",
       "flag_PRCNT_FOLLOWED_MEAL_RECOM_WEB_MOBILE_hi     0.6438      0.036     17.682      0.000       0.572       0.715\n",
       "out_TOTAL_MEALS_ORDERED_hi                       0.1606      0.184      0.873      0.383      -0.200       0.522\n",
       "out_UNIQUE_MEALS_PURCH_hi                       -0.1508      0.198     -0.763      0.445      -0.538       0.237\n",
       "out_MEALS_CANCEL_BEFORE_NOON_hi                 -0.1235      0.174     -0.709      0.478      -0.465       0.218\n",
       "out_MEALS_CANCEL_AFTER_NOON_hi                   0.0115      0.088      0.131      0.896      -0.161       0.184\n",
       "out_PC_LOGINS_CNT_hi                            -0.0873      0.068     -1.275      0.203      -0.222       0.047\n",
       "out_MOBILE_LOGINS_CNT_hi                        -0.0697      0.090     -0.773      0.440      -0.247       0.107\n",
       "out_SITE_CLICKS_PER_VISIT_AVG_lo                 0.0296      0.217      0.136      0.891      -0.396       0.455\n",
       "flag_TOTAL_MEALS_ORDERED_lo                     -0.0573      0.079     -0.728      0.467      -0.212       0.097\n",
       "flag_UNIQUE_MEALS_PURCH_lo                      -0.0047      0.156     -0.030      0.976      -0.311       0.301\n",
       "flag_CUSTOMER_SERVICE_TICKETS_CNT_lo             0.0613      0.035      1.744      0.081      -0.008       0.130\n",
       "flag_PRODUCT_CATEGORIES_VIEWED_hi               -0.0050      0.043     -0.118      0.906      -0.088       0.078\n",
       "flag_ORDERS_DELIVERED_BEFORE_DELIVERY_CNT_lo    -0.0162      0.032     -0.502      0.616      -0.080       0.047\n",
       "flag_ORDERS_DELIVERED_AFTER_DELIVERY_CNT_lo     -0.0678      0.069     -0.976      0.329      -0.204       0.069\n",
       "flag_MASTER_CLASSES_ATTENDED_CNT_hi             -0.0298      0.050     -0.600      0.549      -0.127       0.068\n",
       "flag_PHOTOS_VIEWED_COUNT_lo                     -0.0296      0.029     -1.014      0.311      -0.087       0.028\n",
       "fe_CUSTOMER_COMPANY_amex                         0.0499      0.078      0.638      0.523      -0.104       0.203\n",
       "fe_CUSTOMER_COMPANY_aol                          0.4141      0.277      1.494      0.135      -0.130       0.958\n",
       "fe_CUSTOMER_COMPANY_apple                       -0.0836      0.080     -1.044      0.296      -0.241       0.073\n",
       "fe_CUSTOMER_COMPANY_boeing                       0.0262      0.087      0.301      0.763      -0.145       0.197\n",
       "fe_CUSTOMER_COMPANY_caterpillar                  0.0849      0.087      0.972      0.331      -0.086       0.256\n",
       "fe_CUSTOMER_COMPANY_chevron                     -0.0015      0.078     -0.020      0.984      -0.154       0.151\n",
       "fe_CUSTOMER_COMPANY_cisco                        0.0460      0.100      0.460      0.646      -0.150       0.242\n",
       "fe_CUSTOMER_COMPANY_cocacola                     0.0264      0.079      0.333      0.740      -0.129       0.182\n",
       "fe_CUSTOMER_COMPANY_disney                      -0.0050      0.090     -0.055      0.956      -0.181       0.171\n",
       "fe_CUSTOMER_COMPANY_dupont                      -0.0333      0.083     -0.400      0.689      -0.197       0.130\n",
       "fe_CUSTOMER_COMPANY_exxon                       -0.1369      0.087     -1.572      0.116      -0.308       0.034\n",
       "fe_CUSTOMER_COMPANY_ge                           0.3482      0.143      2.435      0.015       0.068       0.629\n",
       "fe_CUSTOMER_COMPANY_gmail                        0.6311      0.274      2.304      0.021       0.094       1.168\n",
       "fe_CUSTOMER_COMPANY_goldmansacs                  0.1102      0.100      1.102      0.271      -0.086       0.306\n",
       "fe_CUSTOMER_COMPANY_homedepot                   -0.2259      0.100     -2.262      0.024      -0.422      -0.030\n",
       "fe_CUSTOMER_COMPANY_hotmail                      0.4145      0.279      1.488      0.137      -0.132       0.961\n",
       "fe_CUSTOMER_COMPANY_ibm                         -0.0745      0.078     -0.955      0.340      -0.227       0.078\n",
       "fe_CUSTOMER_COMPANY_intel                        0.1753      0.113      1.549      0.122      -0.047       0.397\n",
       "fe_CUSTOMER_COMPANY_jnj                         -0.0854      0.080     -1.074      0.283      -0.241       0.071\n",
       "fe_CUSTOMER_COMPANY_jpmorgan                     0.0992      0.093      1.061      0.289      -0.084       0.283\n",
       "fe_CUSTOMER_COMPANY_live                         0.4536      0.277      1.638      0.102      -0.090       0.997\n",
       "fe_CUSTOMER_COMPANY_mcdonalds                   -0.0945      0.078     -1.212      0.226      -0.247       0.058\n",
       "fe_CUSTOMER_COMPANY_me                           0.5323      0.278      1.912      0.056      -0.014       1.079\n",
       "fe_CUSTOMER_COMPANY_merck                        0.0926      0.078      1.183      0.237      -0.061       0.246\n",
       "fe_CUSTOMER_COMPANY_microsoft                    0.1251      0.083      1.503      0.133      -0.038       0.288\n",
       "fe_CUSTOMER_COMPANY_mmm                          0.2284      0.083      2.736      0.006       0.065       0.392\n",
       "fe_CUSTOMER_COMPANY_msn                          0.4643      0.278      1.667      0.096      -0.082       1.010\n",
       "fe_CUSTOMER_COMPANY_nike                        -0.0740      0.091     -0.817      0.414      -0.252       0.104\n",
       "fe_CUSTOMER_COMPANY_passport                     0.5450      0.278      1.960      0.050      -0.000       1.090\n",
       "fe_CUSTOMER_COMPANY_pfizer                       0.1046      0.096      1.086      0.278      -0.084       0.294\n",
       "fe_CUSTOMER_COMPANY_pg                           0.2085      0.086      2.434      0.015       0.040       0.377\n",
       "fe_CUSTOMER_COMPANY_protonmail                   0.6537      0.274      2.389      0.017       0.117       1.191\n",
       "fe_CUSTOMER_COMPANY_travelers                   -0.1517      0.086     -1.767      0.077      -0.320       0.017\n",
       "fe_CUSTOMER_COMPANY_unitedhealth                 0.0481      0.081      0.591      0.554      -0.111       0.208\n",
       "fe_CUSTOMER_COMPANY_unitedtech                   0.1332      0.100      1.334      0.182      -0.063       0.329\n",
       "fe_CUSTOMER_COMPANY_verizon                      0.0554      0.086      0.648      0.517      -0.112       0.223\n",
       "fe_CUSTOMER_COMPANY_visa                        -0.0101      0.094     -0.107      0.915      -0.194       0.174\n",
       "fe_CUSTOMER_COMPANY_walmart                      0.0424      0.091      0.468      0.640      -0.135       0.220\n",
       "fe_CUSTOMER_COMPANY_yahoo                        0.6080      0.275      2.212      0.027       0.069       1.147\n",
       "fe_CUSTOMER_DOMAIN_for_proft_domain              0.3482      0.143      2.435      0.015       0.068       0.629\n",
       "fe_CUSTOMER_DOMAIN_professional_domain           0.6803      0.265      2.569      0.010       0.161       1.200\n",
       "==============================================================================\n",
       "Omnibus:                      127.198   Durbin-Watson:                   1.956\n",
       "Prob(Omnibus):                  0.000   Jarque-Bera (JB):               44.031\n",
       "Skew:                           0.139   Prob(JB):                     2.75e-10\n",
       "Kurtosis:                       2.196   Cond. No.                     6.13e+17\n",
       "==============================================================================\n",
       "\n",
       "Warnings:\n",
       "[1] Standard Errors assume that the covariance matrix of the errors is correctly specified.\n",
       "[2] The smallest eigenvalue is 9.17e-30. This might indicate that there are\n",
       "strong multicollinearity problems or that the design matrix is singular.\n",
       "\"\"\""
      ]
     },
     "execution_count": 25,
     "metadata": {},
     "output_type": "execute_result"
    }
   ],
   "source": [
    "# ols summary output for optimal linear regression\n",
    "lr_model_trans_scaled.summary()"
   ]
  },
  {
   "cell_type": "markdown",
   "metadata": {},
   "source": [
    "Findings\n",
    "- Progressive improvement in auc_score, AIC and rsquared\n",
    "- Progressive improvement in classification precision (heuristic was applied to convert predictions to 1 and 0)\n",
    "- None of the Logit models converged on any iteration of transformation or scaling\n",
    "- No multicollinearity, <em>Variance Inflation Factor > 9</em>, is observed between features not binary\n",
    "\n",
    "Next Steps: Extract significant features from Linear Regression of\n",
    "- Transformed continuous\n",
    "- Scaled count and discrete"
   ]
  },
  {
   "cell_type": "markdown",
   "metadata": {},
   "source": [
    "# Model Optimization\n",
    "\n",
    "Optimization strategy\n",
    "- Extract significant features\n",
    "    - Test on LR and logit\n",
    "- Model performance evaluation\n",
    "    - Support Vector Machine\n",
    "    - Ensemble learning\n",
    "    - Random Forest Tree\n",
    "- Selection criteria\n",
    "    - Overfitting - Cross validation train and test score\n",
    "    - AUC\n",
    "    - Precision"
   ]
  },
  {
   "cell_type": "code",
   "execution_count": 26,
   "metadata": {},
   "outputs": [],
   "source": [
    "# slice dataframe by significant features of last linear regression model\n",
    "df_transformed_cont_scaled_count_disc.to_csv(\"df_optimal.csv\")\n",
    "df_significant = df_transformed_cont_scaled_count_disc.copy()\n",
    "df_significant = df_significant.loc[:, [predictor] + sig_feature_sets['transformed_scaled_lr']]\n",
    "\n",
    "# setup ModelResults class\n",
    "modeling_optimal_results = ModelResults([\"Model\", \"Transformation Method\", \"AUC\", \"AIC\", \"R2\", \"Precision\", \"Sig. features\", \"Notes\"])"
   ]
  },
  {
   "cell_type": "code",
   "execution_count": 27,
   "metadata": {
    "scrolled": false
   },
   "outputs": [
    {
     "data": {
      "text/plain": [
       "array(['HWT_SUBSCRIBER', 'CUSTOMER_SERVICE_TICKETS_CNT',\n",
       "       'MOBILE_NUMBER_SUPPLIED', 'MEALS_CANCEL_BEFORE_NOON',\n",
       "       'SPECIFIED_TASTE_AND_PREFERENCES', 'PC_LOGINS_CNT',\n",
       "       'WEEKS_SUBSCRIBED_TO_WEEKLY_PLAN_CNT',\n",
       "       'PRCNT_FOLLOWED_MEAL_RECOM_WEB_MOBILE',\n",
       "       'fe_MEAL_CHOICE_SPECIFICITY', 'fe_SUBSCRIPTIONS_SYNERGY',\n",
       "       'flag_WEEKS_SUBSCRIBED_TO_WEEKLY_PLAN_CNT_lo',\n",
       "       'flag_PRCNT_FOLLOWED_MEAL_RECOM_WEB_MOBILE_hi',\n",
       "       'fe_CUSTOMER_COMPANY_ge', 'fe_CUSTOMER_COMPANY_gmail',\n",
       "       'fe_CUSTOMER_COMPANY_homedepot', 'fe_CUSTOMER_COMPANY_mmm',\n",
       "       'fe_CUSTOMER_COMPANY_pg', 'fe_CUSTOMER_COMPANY_protonmail',\n",
       "       'fe_CUSTOMER_COMPANY_yahoo', 'fe_CUSTOMER_DOMAIN_for_proft_domain',\n",
       "       'fe_CUSTOMER_DOMAIN_professional_domain'], dtype=object)"
      ]
     },
     "execution_count": 27,
     "metadata": {},
     "output_type": "execute_result"
    }
   ],
   "source": [
    "# drop features triggering logit HessianInversionWarning\n",
    "df_significant.drop([\n",
    "#     'fe_CUSTOMER_DOMAIN_for_proft_domain',\n",
    "#     'fe_CUSTOMER_DOMAIN_professional_domain',\n",
    "#     'fe_CUSTOMER_DOMAIN_personal_domain',\n",
    "#     'flag_PRCNT_FOLLOWED_MEAL_RECOM_WEB_MOBILE_lo',\n",
    "#     'flag_WEEKS_SUBSCRIBED_TO_WEEKLY_PLAN_CNT_lo',\n",
    "#     'flag_PRCNT_FOLLOWED_MEAL_RECOM_WEB_MOBILE_hi'\n",
    "], \n",
    "    axis = 1, inplace = True)\n",
    "\n",
    "df_significant.columns.values"
   ]
  },
  {
   "cell_type": "markdown",
   "metadata": {},
   "source": [
    "## Test on LR for Significance"
   ]
  },
  {
   "cell_type": "code",
   "execution_count": 28,
   "metadata": {},
   "outputs": [],
   "source": [
    "# Split training and testing data for cross validation\n",
    "X_train, X_test, y_train, y_test = train_test_split(\n",
    "            df_significant.loc[:, df_significant.columns.isin([predictor]) == False],\n",
    "            df_significant.loc[:, predictor],\n",
    "            test_size = 0.25,\n",
    "            random_state = 222)"
   ]
  },
  {
   "cell_type": "code",
   "execution_count": 29,
   "metadata": {
    "scrolled": true
   },
   "outputs": [
    {
     "name": "stdout",
     "output_type": "stream",
     "text": [
      "Optimization terminated successfully.\n",
      "         Current function value: 0.354431\n",
      "         Iterations: 19\n",
      "         Function evaluations: 20\n",
      "         Gradient evaluations: 38\n",
      "         Hessian evaluations: 19\n"
     ]
    },
    {
     "name": "stderr",
     "output_type": "stream",
     "text": [
      "C:\\Users\\nrosh\\Anaconda3\\lib\\site-packages\\statsmodels\\base\\model.py:548: HessianInversionWarning: Inverting hessian failed, no bse or cov_params available\n",
      "  'available', HessianInversionWarning)\n"
     ]
    }
   ],
   "source": [
    "# load model and performance parameters\n",
    "lr_model_optimal, lr_optimal_cm_score, lr_optimal_auc_score, lr_mod_optimal_precision, sig_features = statsmodel_ols_lgst('statsmodels', 'ols', X_train, X_test, y_train, y_test, 0.5)\n",
    "\n",
    "# save results\n",
    "modeling_optimal_results.save({\n",
    "    \"Model\": [\"LinReg\"],\n",
    "    \"Transformation Method\": [\"Transform continuous, scale count and discrete\"],\n",
    "    \"AUC\": [lr_optimal_auc_score],\n",
    "    \"AIC\": [lr_model_optimal.aic],\n",
    "    \"R2\": [lr_model_optimal.rsquared],\n",
    "    \"Precision\": [lr_mod_optimal_precision],\n",
    "    \"Sig. features\": [len(sig_features)],\n",
    "    \"Notes\": [\"Converged on all scaled features\"]\n",
    "})\n",
    "\n",
    "\n",
    "sig_feature_sets['pval_optimal_scale_train_lr'] = sig_features"
   ]
  },
  {
   "cell_type": "markdown",
   "metadata": {},
   "source": [
    "## Test on Logit for Significance"
   ]
  },
  {
   "cell_type": "code",
   "execution_count": 30,
   "metadata": {},
   "outputs": [
    {
     "name": "stdout",
     "output_type": "stream",
     "text": [
      "Optimization terminated successfully.\n",
      "         Current function value: 0.354431\n",
      "         Iterations: 19\n",
      "         Function evaluations: 20\n",
      "         Gradient evaluations: 38\n",
      "         Hessian evaluations: 19\n"
     ]
    },
    {
     "name": "stderr",
     "output_type": "stream",
     "text": [
      "C:\\Users\\nrosh\\Anaconda3\\lib\\site-packages\\statsmodels\\base\\model.py:548: HessianInversionWarning: Inverting hessian failed, no bse or cov_params available\n",
      "  'available', HessianInversionWarning)\n",
      "C:\\Users\\nrosh\\Anaconda3\\lib\\site-packages\\scipy\\stats\\_distn_infrastructure.py:903: RuntimeWarning: invalid value encountered in greater\n",
      "  return (a < x) & (x < b)\n",
      "C:\\Users\\nrosh\\Anaconda3\\lib\\site-packages\\scipy\\stats\\_distn_infrastructure.py:903: RuntimeWarning: invalid value encountered in less\n",
      "  return (a < x) & (x < b)\n",
      "C:\\Users\\nrosh\\Anaconda3\\lib\\site-packages\\scipy\\stats\\_distn_infrastructure.py:1912: RuntimeWarning: invalid value encountered in less_equal\n",
      "  cond2 = cond0 & (x <= _a)\n"
     ]
    }
   ],
   "source": [
    "# load model and performance parameters\n",
    "lgst_model_optimal, lgst_optimal_cm_score, lgst_optimal_auc_score, lgst_mod_optimal_precision, sig_features = statsmodel_ols_lgst('statsmodels', 'lgst', X_train, X_test, y_train, y_test, 0.5)\n",
    "\n",
    "# save results\n",
    "modeling_optimal_results.save({\n",
    "    \"Model\": [\"Logit\"],\n",
    "    \"Transformation Method\": [\"Transform continuous, scale count and discrete\"],\n",
    "    \"AUC\": [lgst_optimal_auc_score],\n",
    "    \"AIC\": [lgst_model_optimal.aic],\n",
    "    \"R2\": [lgst_model_optimal.prsquared],\n",
    "    \"Precision\": [lgst_mod_optimal_precision],\n",
    "    \"Sig. features\": [len(sig_features)],\n",
    "    \"Notes\": [\"Converged on all scaled features\"]\n",
    "})\n",
    "\n",
    "sig_feature_sets['pval_optimal_scale_train_lgst'] = sig_features"
   ]
  },
  {
   "cell_type": "code",
   "execution_count": 31,
   "metadata": {},
   "outputs": [
    {
     "data": {
      "text/html": [
       "<div>\n",
       "<style scoped>\n",
       "    .dataframe tbody tr th:only-of-type {\n",
       "        vertical-align: middle;\n",
       "    }\n",
       "\n",
       "    .dataframe tbody tr th {\n",
       "        vertical-align: top;\n",
       "    }\n",
       "\n",
       "    .dataframe thead th {\n",
       "        text-align: right;\n",
       "    }\n",
       "</style>\n",
       "<table border=\"1\" class=\"dataframe\">\n",
       "  <thead>\n",
       "    <tr style=\"text-align: right;\">\n",
       "      <th></th>\n",
       "      <th>Model</th>\n",
       "      <th>Transformation Method</th>\n",
       "      <th>AUC</th>\n",
       "      <th>AIC</th>\n",
       "      <th>R2</th>\n",
       "      <th>Precision</th>\n",
       "      <th>Sig. features</th>\n",
       "      <th>Notes</th>\n",
       "    </tr>\n",
       "  </thead>\n",
       "  <tbody>\n",
       "    <tr>\n",
       "      <th>0</th>\n",
       "      <td>LinReg</td>\n",
       "      <td>Transform continuous, scale count and discrete</td>\n",
       "      <td>0.783987</td>\n",
       "      <td>1201.517816</td>\n",
       "      <td>0.808765</td>\n",
       "      <td>0.864780</td>\n",
       "      <td>16</td>\n",
       "      <td>Converged on all scaled features</td>\n",
       "    </tr>\n",
       "    <tr>\n",
       "      <th>0</th>\n",
       "      <td>Logit</td>\n",
       "      <td>Transform continuous, scale count and discrete</td>\n",
       "      <td>0.765215</td>\n",
       "      <td>1070.229410</td>\n",
       "      <td>0.434191</td>\n",
       "      <td>0.850467</td>\n",
       "      <td>0</td>\n",
       "      <td>Converged on all scaled features</td>\n",
       "    </tr>\n",
       "  </tbody>\n",
       "</table>\n",
       "</div>"
      ],
      "text/plain": [
       "    Model                           Transformation Method       AUC  \\\n",
       "0  LinReg  Transform continuous, scale count and discrete  0.783987   \n",
       "0   Logit  Transform continuous, scale count and discrete  0.765215   \n",
       "\n",
       "           AIC        R2  Precision Sig. features  \\\n",
       "0  1201.517816  0.808765   0.864780            16   \n",
       "0  1070.229410  0.434191   0.850467             0   \n",
       "\n",
       "                              Notes  \n",
       "0  Converged on all scaled features  \n",
       "0  Converged on all scaled features  "
      ]
     },
     "execution_count": 31,
     "metadata": {},
     "output_type": "execute_result"
    }
   ],
   "source": [
    "# Save results\n",
    "file = \"A2 - P-Value Optimization Performance Report.csv\"\n",
    "modeling_optimal_results.export_csv(file)\n",
    "\n",
    "# Observe all performance\n",
    "modeling_optimal_results.display()"
   ]
  },
  {
   "cell_type": "markdown",
   "metadata": {},
   "source": [
    "Findings,\n",
    "1. The linear regression was the most accurate a better AUC and Precision\n",
    "2. The Logit regression lost the least amount of information during the transformations\n",
    "3. Since both models failed to converge, it may be possible to salvage the model if they meet key assumptions of a linear model"
   ]
  },
  {
   "cell_type": "markdown",
   "metadata": {},
   "source": [
    "## Testing the 7 assumptions of a linear model"
   ]
  },
  {
   "cell_type": "markdown",
   "metadata": {},
   "source": [
    "1. The error term has a population mean of zero. Thus residuals do not bias predictions."
   ]
  },
  {
   "cell_type": "code",
   "execution_count": 32,
   "metadata": {},
   "outputs": [
    {
     "name": "stdout",
     "output_type": "stream",
     "text": [
      "{'status': 'Accept Null hypothesis', 'sample_mean': 0.004854285138436244}\n"
     ]
    }
   ],
   "source": [
    "lr_assumptions = NormalityTest(lr_model_optimal.resid, 0.05, X_train, 'HWT_SUBSCRIBER')\n",
    "print(lr_assumptions.check_population_mean(0))"
   ]
  },
  {
   "cell_type": "markdown",
   "metadata": {},
   "source": [
    "2. All independent variables are uncorrelated with error terms (accept for arr). Thus the error term cannot be explained by a predictor."
   ]
  },
  {
   "cell_type": "code",
   "execution_count": 33,
   "metadata": {},
   "outputs": [
    {
     "data": {
      "text/plain": [
       "CUSTOMER_SERVICE_TICKETS_CNT                   -0.034886\n",
       "MOBILE_NUMBER_SUPPLIED                         -0.036215\n",
       "MEALS_CANCEL_BEFORE_NOON                       -0.012413\n",
       "SPECIFIED_TASTE_AND_PREFERENCES                -0.020885\n",
       "PC_LOGINS_CNT                                  -0.035171\n",
       "WEEKS_SUBSCRIBED_TO_WEEKLY_PLAN_CNT            -0.011289\n",
       "PRCNT_FOLLOWED_MEAL_RECOM_WEB_MOBILE           -0.028766\n",
       "fe_MEAL_CHOICE_SPECIFICITY                     -0.012323\n",
       "fe_SUBSCRIPTIONS_SYNERGY                       -0.026175\n",
       "flag_WEEKS_SUBSCRIBED_TO_WEEKLY_PLAN_CNT_lo    -0.026175\n",
       "flag_PRCNT_FOLLOWED_MEAL_RECOM_WEB_MOBILE_hi   -0.011183\n",
       "fe_CUSTOMER_COMPANY_ge                         -0.001626\n",
       "fe_CUSTOMER_COMPANY_gmail                      -0.005836\n",
       "fe_CUSTOMER_COMPANY_homedepot                  -0.001276\n",
       "fe_CUSTOMER_COMPANY_mmm                        -0.001546\n",
       "fe_CUSTOMER_COMPANY_pg                         -0.001504\n",
       "fe_CUSTOMER_COMPANY_protonmail                 -0.005487\n",
       "fe_CUSTOMER_COMPANY_yahoo                      -0.005425\n",
       "fe_CUSTOMER_DOMAIN_for_proft_domain            -0.001626\n",
       "fe_CUSTOMER_DOMAIN_professional_domain         -0.009850\n",
       "arr                                             1.000000\n",
       "Name: arr, dtype: float64"
      ]
     },
     "execution_count": 33,
     "metadata": {},
     "output_type": "execute_result"
    }
   ],
   "source": [
    "lr_assumptions.get_correlation_matrix().loc[:, \"arr\"]"
   ]
  },
  {
   "cell_type": "markdown",
   "metadata": {},
   "source": [
    "3. Error terms are uncorrelated with each other. An insignificant positive coeffecient means that the residuals do not have a relationship with each other."
   ]
  },
  {
   "cell_type": "code",
   "execution_count": 34,
   "metadata": {},
   "outputs": [
    {
     "name": "stdout",
     "output_type": "stream",
     "text": [
      "Coeffecient: x1    0.000011\n",
      "dtype: float64, p-value: 0.3281\n"
     ]
    },
    {
     "data": {
      "text/plain": [
       "<matplotlib.axes._subplots.AxesSubplot at 0x265bfb9bc18>"
      ]
     },
     "execution_count": 34,
     "metadata": {},
     "output_type": "execute_result"
    },
    {
     "data": {
      "image/png": "[encoded data removed]",
      "text/plain": [
       "<Figure size 432x288 with 1 Axes>"
      ]
     },
     "metadata": {
      "needs_background": "light"
     },
     "output_type": "display_data"
    }
   ],
   "source": [
    "as_4 = sm.OLS(lr_model_optimal.resid, [i for i in range(0, len(lr_model_optimal.resid), 1)]).fit()\n",
    "print(\"Coeffecient: {}, p-value: {}\".format(as_4.params, round(as_4.pvalues[0], 4)))\n",
    "sns.scatterplot(\n",
    "    x = 'order',\n",
    "    y = 'arr',\n",
    "    data = pd.DataFrame({\"arr\": lr_model_optimal.resid, \"order\": [i for i in range(0, len(lr_model_optimal.resid), 1)]})\n",
    ")"
   ]
  },
  {
   "cell_type": "markdown",
   "metadata": {},
   "source": [
    "4. Residual terms obide by normality within the-1.5 and 2 standard deviations. Beyond these intervals, the residual show heteroscadistic behavior.\n",
    "    - The distribution soft-fails because it regressions are versatile enough to deal with this amount of behavior"
   ]
  },
  {
   "cell_type": "code",
   "execution_count": 35,
   "metadata": {},
   "outputs": [
    {
     "data": {
      "image/png": "[encoded data removed]",
      "text/plain": [
       "<Figure size 432x288 with 1 Axes>"
      ]
     },
     "metadata": {
      "needs_background": "light"
     },
     "output_type": "display_data"
    }
   ],
   "source": [
    "qqplot_homo = lr_assumptions.check_homoscedasticity(lr_model_optimal)"
   ]
  },
  {
   "cell_type": "markdown",
   "metadata": {},
   "source": [
    "6. No Independent variable is a perfect linear function of other explanatory variables. Thus residuals do not show behaviours of multicollinearity.\n",
    "    - Variance Inflation Factor(VIF) for each feature"
   ]
  },
  {
   "cell_type": "code",
   "execution_count": 36,
   "metadata": {
    "scrolled": true
   },
   "outputs": [
    {
     "data": {
      "text/html": [
       "<div>\n",
       "<style scoped>\n",
       "    .dataframe tbody tr th:only-of-type {\n",
       "        vertical-align: middle;\n",
       "    }\n",
       "\n",
       "    .dataframe tbody tr th {\n",
       "        vertical-align: top;\n",
       "    }\n",
       "\n",
       "    .dataframe thead th {\n",
       "        text-align: right;\n",
       "    }\n",
       "</style>\n",
       "<table border=\"1\" class=\"dataframe\">\n",
       "  <thead>\n",
       "    <tr style=\"text-align: right;\">\n",
       "      <th></th>\n",
       "      <th>r_squared</th>\n",
       "      <th>vif</th>\n",
       "    </tr>\n",
       "  </thead>\n",
       "  <tbody>\n",
       "  </tbody>\n",
       "</table>\n",
       "</div>"
      ],
      "text/plain": [
       "Empty DataFrame\n",
       "Columns: [r_squared, vif]\n",
       "Index: []"
      ]
     },
     "execution_count": 36,
     "metadata": {},
     "output_type": "execute_result"
    }
   ],
   "source": [
    "vif = lr_assumptions.get_vif()\n",
    "\n",
    "# multicollinear features\n",
    "vif[(vif.vif > 10) & (vif.vif < 50)]"
   ]
  },
  {
   "cell_type": "markdown",
   "metadata": {},
   "source": [
    "## Non-Parametric Optimization\n",
    "- Model performance evaluation\n",
    "    - Support Vector Machine\n",
    "    - Ensemble learning\n",
    "    - Random Forest Tree\n",
    "- Selection criteria\n",
    "    - Overfitting - Cross validation train and test score\n",
    "    - AUC\n",
    "    - Precision"
   ]
  }
 ],
 "metadata": {
  "kernelspec": {
   "display_name": "Python 3",
   "language": "python",
   "name": "python3"
  },
  "language_info": {
   "codemirror_mode": {
    "name": "ipython",
    "version": 3
   },
   "file_extension": ".py",
   "mimetype": "text/x-python",
   "name": "python",
   "nbconvert_exporter": "python",
   "pygments_lexer": "ipython3",
   "version": "3.7.3"
  },
  "toc": {
   "base_numbering": 1,
   "nav_menu": {},
   "number_sections": true,
   "sideBar": true,
   "skip_h1_title": false,
   "title_cell": "Table of Contents",
   "title_sidebar": "Contents",
   "toc_cell": false,
   "toc_position": {},
   "toc_section_display": true,
   "toc_window_display": false
  },
  "varInspector": {
   "cols": {
    "lenName": 16,
    "lenType": 16,
    "lenVar": 40
   },
   "kernels_config": {
    "python": {
     "delete_cmd_postfix": "",
     "delete_cmd_prefix": "del ",
     "library": "var_list.py",
     "varRefreshCmd": "print(var_dic_list())"
    },
    "r": {
     "delete_cmd_postfix": ") ",
     "delete_cmd_prefix": "rm(",
     "library": "var_list.r",
     "varRefreshCmd": "cat(var_dic_list()) "
    }
   },
   "position": {
    "height": "455.18px",
    "left": "601.244px",
    "right": "20px",
    "top": "47.9829px",
    "width": "353.485px"
   },
   "types_to_exclude": [
    "module",
    "function",
    "builtin_function_or_method",
    "instance",
    "_Feature"
   ],
   "window_display": false
  }
 },
 "nbformat": 4,
 "nbformat_minor": 2
}
