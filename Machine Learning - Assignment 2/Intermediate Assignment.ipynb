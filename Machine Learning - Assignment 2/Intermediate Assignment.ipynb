{
 "cells": [
  {
   "cell_type": "markdown",
   "metadata": {
    "cell_style": "center"
   },
   "source": [
    "\n",
    "\n",
    "***\n",
    "***\n",
    "***\n",
    "\n",
    "# A2: Written Assessment (Individual) - Classification Modeling Case Study\n",
    "\n",
    "\n",
    "\n",
    "Machine Learning DAT 5303\n",
    "\n",
    "Attn: Prof. Chase Kusterer & Ayelet\n",
    "\n",
    "15 March 2020\n",
    "\n",
    "***\n",
    "***\n",
    "***"
   ]
  },
  {
   "cell_type": "markdown",
   "metadata": {},
   "source": [
    "## Sources\n",
    "1. 5 Ways to increase cross-sell success, HBR 2020, https://hbr.org/2016/11/5-ways-to-increase-your-cross-selling\n",
    "\n",
    "2. 25 Of The Best California Red Wines under $25, https://www.pastemagazine.com/drink/red-wine/25-of-the-best-california-red-wines-under-25/#adelaida-grenache-20-\n",
    "\n",
    "3. California Top Wines for $15 or less, https://www.foodandwine.com/wine-regions/california/california-top-wines-for-15-dollars-and-less\n",
    "\n",
    "4. Food and Wine Pairing Basics, https://winefolly.com/wine-pairing/getting-started-with-food-and-wine-pairing/"
   ]
  },
  {
   "cell_type": "markdown",
   "metadata": {},
   "source": [
    "## Context\n",
    "<em>Halfway There</em> (HWT) is another subscription service available to new and existing customers. Existing customers are either inactive, basic or premium subscribers of the Weekly Meal Plan (WP) subscription. \n",
    "\n",
    "The aim of this project is to,\n",
    "1. Produce a model that can accurately predict whether either customer will subscribe to HWT\n",
    "2. Produce two insights and one key recommendation for key business stakeholders"
   ]
  },
  {
   "cell_type": "markdown",
   "metadata": {},
   "source": [
    "## Stakeholder Address"
   ]
  },
  {
   "cell_type": "markdown",
   "metadata": {},
   "source": [
    "Refer to the following sections for business and technical information,\n",
    "1. Section 4 and 5 for key business stakeholders\n",
    "2. Section 2 and 3 for key Data Science stakeholders\n"
   ]
  },
  {
   "cell_type": "code",
   "execution_count": 1,
   "metadata": {},
   "outputs": [],
   "source": [
    "from ipywidgets import interactive\n",
    "import ipywidgets as widgets\n",
    "from IPython.display import display, HTML\n",
    "import matplotlib.pyplot as plt\n",
    "import pandas as pd\n",
    "import seaborn as sns\n",
    "import random as rand\n",
    "import numpy as np\n",
    "\n",
    "from sklearn.linear_model import LogisticRegression, LinearRegression\n",
    "from sklearn.model_selection import train_test_split, cross_validate\n",
    "from sklearn.metrics import confusion_matrix, roc_auc_score\n",
    "from sklearn.preprocessing import StandardScaler, MinMaxScaler\n",
    "\n",
    "import statsmodels.api as sm"
   ]
  },
  {
   "cell_type": "markdown",
   "metadata": {},
   "source": [
    "## Ingestion of unscaled data"
   ]
  },
  {
   "cell_type": "code",
   "execution_count": 2,
   "metadata": {},
   "outputs": [],
   "source": [
    "df_original = pd.read_csv(\"data/df_feature_engineering.csv\")\n",
    "df_optimization = df_original.copy()\n",
    "df_optimization = df_optimization.drop(\"Unnamed: 0\", axis=1)\n",
    "\n",
    "# feature name correction\n",
    "df_optimization.rename(columns={'MOBILE_NUMBER': 'MOBILE_REGISTRATION'}, inplace=True)\n",
    "\n",
    "# preparing response variable data\n",
    "predictor = 'HWT_SUBSCRIBER'\n",
    "target = df_optimization.loc[:, predictor]\n",
    "all_features = df_optimization.loc[:, df_optimization.columns.isin([predictor]) == False]"
   ]
  },
  {
   "cell_type": "markdown",
   "metadata": {},
   "source": [
    "# Feature Significance"
   ]
  },
  {
   "cell_type": "markdown",
   "metadata": {},
   "source": [
    "## Class Definitions"
   ]
  },
  {
   "cell_type": "code",
   "execution_count": 3,
   "metadata": {},
   "outputs": [],
   "source": [
    "class ModelResults():\n",
    "    \n",
    "    # Class to append results of modeling scenarios into a convenient wrapper\n",
    "    #    - Assumes pandas as a preloaded resource\n",
    "    def __init__(self, columns):\n",
    "        self.columns = columns\n",
    "        self.df = pd.DataFrame(columns = self.columns)\n",
    "    \n",
    "    # save results into class\n",
    "    def save(self, model_dict_outcome):\n",
    "        self.df = pd.concat([self.df, pd.DataFrame(model_dict_outcome)])\n",
    "    \n",
    "    # display results\n",
    "    def display(self):\n",
    "        return self.df\n",
    "    \n",
    "    # export results\n",
    "    def export_csv(self, location):\n",
    "        self.location = location\n",
    "        self.df.to_csv(self.location)\n",
    "    "
   ]
  },
  {
   "cell_type": "code",
   "execution_count": 4,
   "metadata": {},
   "outputs": [],
   "source": [
    "class NormalityTest():\n",
    "     \n",
    "    # Determine whether the supplied function could be sampled from a Gaussian distribution\n",
    "    #   - Normality tests have been validated by 100 randomly distributed normal floats\n",
    "    #   - pandas is a pre-assumed dependency\n",
    "    #      - NormalityTest(np.random.randn(100), 0.05, 0).get_result()\n",
    "    #   - Source: https://machinelearningmastery.com/a-gentle-introduction-to-normality-tests-in-python/\n",
    "    \n",
    "    from scipy import stats\n",
    "    from numpy.random import seed, randn, seed\n",
    " \n",
    "    def __init__(self, arr, alpha, dataframe, predictor_str):\n",
    "        self.arr = arr\n",
    "        self.alpha = alpha\n",
    "        self.dataframe = dataframe\n",
    "        self.predictor_str = predictor_str\n",
    "        return None\n",
    "    \n",
    "    def check_normal_dist(self):\n",
    "        return {\n",
    "            'is_normally_distributed': {\n",
    "                'shapiroWilk': self.shapiroWilk(self.alpha),\n",
    "                'd_agostinoK2': self.d_agostinoK2(self.alpha),\n",
    "                'anderson_darling': self.anderson_darling(self.alpha)},\n",
    "        }\n",
    "        \n",
    "    def shapiroWilk(self, alpha):\n",
    "        stat, p = self.stats.shapiro(self.arr)\n",
    "        if p > alpha:\n",
    "            return 'Gaussian (fail to reject H0)'\n",
    "        else:\n",
    "            return 'Not Gaussian (reject H0)'\n",
    "    \n",
    "    def d_agostinoK2(self, alpha):\n",
    "        stat, p = self.stats.normaltest(self.arr)\n",
    "        if p > alpha:\n",
    "            return 'Gaussian (fail to reject H0)'\n",
    "        else:\n",
    "            return 'Not Gaussian (reject H0)'\n",
    "        \n",
    "    def anderson_darling(self, alpha):\n",
    "        \n",
    "        outcome = {\n",
    "            \"statistic\": None,\n",
    "            \"percentile\": [],\n",
    "            \"sl_cv\": [],\n",
    "            \"result\": []\n",
    "        }\n",
    "        # normality test\n",
    "        result = self.stats.anderson(self.arr)\n",
    "        statistic = result.statistic\n",
    "        p = 0\n",
    "\n",
    "        for i in range(len(result.critical_values)):\n",
    "            sl, cv = result.significance_level[i], result.critical_values[i]\n",
    "            if result.statistic < result.critical_values[i]:\n",
    "                outcome['sl_cv'].append([sl, cv])\n",
    "                outcome['result'].append([\"Normal (Fail to reject H0)\"])\n",
    "            else:\n",
    "                outcome['sl_cv'].append([sl, cv])\n",
    "                outcome['result'].append([\"Not Normal (Reject H0)\"])\n",
    "                \n",
    "        outcome['statistic'] = statistic\n",
    "        return outcome\n",
    "    \n",
    "    def check_population_mean(self, pop_mean):\n",
    "        \n",
    "        # NH: population mean is zero\n",
    "        \n",
    "        outcome = {}\n",
    "        data = self.arr\n",
    "        tset, pval = self.stats.ttest_1samp(data, pop_mean) # t-test\n",
    "        if pval < 0.05:    # alpha value is 0.05 or 5%\n",
    "            outcome['status'] = \"Reject Null hypothesis\"\n",
    "        else:\n",
    "            outcome['status'] = \"Accept Null hypothesis\"\n",
    "        outcome['sample_mean'] = np.mean(data)\n",
    "        return outcome\n",
    "    \n",
    "    def get_correlation_matrix(self):\n",
    "        \n",
    "        # arr and dataframe will be joined to produce correlation matrix\n",
    "        return self.dataframe.join(pd.DataFrame({'arr': self.arr})).corr()\n",
    "    \n",
    "    \n",
    "    def check_homoscedasticity(self, model):\n",
    "        \n",
    "        # generate a qqplot to visually inspect quantiles that break normality\n",
    "        \n",
    "        # We can also use two statistical tests: Breusch-Pagan and Goldfeld-Quandt. In both of them, the null hypothesis assumes homoscedasticity.\n",
    "        #    - A p-value below a certain level (like 0.05) indicates we should reject the null in favor of heteroscedasticity.\n",
    "        #    - Source: https://towardsdatascience.com/verifying-the-assumptions-of-linear-regression-in-python-and-r-f4cd2907d4c0\n",
    " \n",
    "        import pylab \n",
    "        import scipy.stats as stats\n",
    "\n",
    "        measurements = model.resid  \n",
    "        stats.probplot(measurements, dist=\"norm\", plot=pylab)\n",
    "        pylab.show()\n",
    "    \n",
    "    \n",
    "    def get_vif(self):\n",
    "        # Variance inflation factor to measure collinearity among features\n",
    "\n",
    "        feature_name = []\n",
    "        vif_value = []\n",
    "        rsq_value = []\n",
    "        self.df_vif = self.dataframe.copy()\n",
    "        if self.predictor_str in self.df_vif.columns:\n",
    "            self.df_vif = self.df_vif.drop([self.predictor_str], axis=1)\n",
    "        \n",
    "        for i in range(0, len(self.df_vif.columns)):\n",
    "            # prepare features\n",
    "            X = self.df_vif.loc[:, self.df_vif.columns != self.df_vif.columns[i]]\n",
    "            y = self.df_vif.loc[:, self.df_vif.columns == self.df_vif.columns[i]]\n",
    "\n",
    "            # Regress feature on every other feature\n",
    "            lr = LinearRegression().fit(X, y)\n",
    "\n",
    "            # Determine rsq\n",
    "            rsq = lr.score(X, y)\n",
    "            if rsq != 1:\n",
    "                vif = round(1 / (1 - rsq), 2)\n",
    "            else:\n",
    "                vif = float(\"inf\")\n",
    "\n",
    "            feature_name.append(self.df_vif.columns[i])\n",
    "            rsq_value.append(rsq)\n",
    "            vif_value.append(vif)\n",
    "\n",
    "        return pd.DataFrame({\n",
    "                \"r_squared\": rsq_value,\n",
    "                \"vif\": vif_value },\n",
    "            index = feature_name\n",
    "        ).sort_values(by=\"vif\")"
   ]
  },
  {
   "cell_type": "markdown",
   "metadata": {},
   "source": [
    "## Function Definitions"
   ]
  },
  {
   "cell_type": "code",
   "execution_count": 5,
   "metadata": {
    "code_folding": []
   },
   "outputs": [],
   "source": [
    "def skl_train_test_pred_results(model, fit_X, fit_y, test_X, test_y, pred_X):\n",
    "#     quick method to output model, train and test scores\n",
    "    \n",
    "    # Fit and score\n",
    "    mod_fit = model.fit(fit_X, fit_y)\n",
    "    mod_train_score = model.score(fit_X, fit_y)\n",
    "    mod_test_score = model.score(test_X, test_y)\n",
    "    y_pred = mod_fit.predict(pred_X)\n",
    "    \n",
    "    return mod_fit, mod_train_score, mod_test_score, y_pred"
   ]
  },
  {
   "cell_type": "code",
   "execution_count": 6,
   "metadata": {
    "code_folding": []
   },
   "outputs": [],
   "source": [
    "def skl_mod_confusion_matrix_roc_auc(y_true, y_pred, y_score):\n",
    "    # Thus in binary classification, \n",
    "#         - C00, True  Negatives \n",
    "#         - C01, False Positive\n",
    "#         - C10, False Negative  \n",
    "#         - C11  True  Positive\n",
    "\n",
    "    cm = confusion_matrix(y_true, y_pred)\n",
    "    cm_score = {\n",
    "        'TN': cm[0, 0],\n",
    "        'FP': cm[0, 1],\n",
    "        'FN': cm[1, 0],\n",
    "        'TP': cm[1, 1]\n",
    "    }\n",
    "    \n",
    "    return cm_score, roc_auc_score(y_true, y_score)"
   ]
  },
  {
   "cell_type": "code",
   "execution_count": 7,
   "metadata": {
    "code_folding": []
   },
   "outputs": [],
   "source": [
    "# Variance inflation factor to measure collinearity among features\n",
    "def vim_multicollinearity(df):\n",
    "    feature_name = []\n",
    "    vif_value = []\n",
    "    rsq_value = []\n",
    "\n",
    "    for i in range(0, len(df.columns)):\n",
    "        # prepare features\n",
    "        X = df.loc[:, df.columns != df.columns[i]]\n",
    "        y = df.loc[:, df.columns == df.columns[i]]\n",
    "\n",
    "        # Regress feature on every other feature\n",
    "        lr = LinearRegression().fit(X, y)\n",
    "        \n",
    "        # Determine rsq\n",
    "        rsq = lr.score(X, y)\n",
    "        if rsq != 1:\n",
    "            vif = round(1 / (1 - rsq), 2)\n",
    "        else:\n",
    "            vif = float(\"inf\")\n",
    "\n",
    "        feature_name.append(df.columns[i])\n",
    "        rsq_value.append(rsq)\n",
    "        vif_value.append(vif)\n",
    "\n",
    "    return pd.DataFrame({\n",
    "            \"r_squared\": rsq_value,\n",
    "            \"vif\": vif_value },\n",
    "        index = feature_name\n",
    "    ).sort_values(by=\"vif\")"
   ]
  },
  {
   "cell_type": "code",
   "execution_count": 8,
   "metadata": {
    "code_folding": []
   },
   "outputs": [],
   "source": [
    "def statsmodel_ols_lgst(library, model_type, X_train, X_test, y_train, y_test, class_likelihood):\n",
    "    # Method to automate process of retrieving performance parameters\n",
    "    \n",
    "    model_spec = {\n",
    "        'ols': sm.OLS(y_train, X_train).fit(),\n",
    "        'lgst': sm.Logit(y_train, X_train).fit(method='ncg')\n",
    "    }\n",
    "    \n",
    "    model_spec_sklearn = {\n",
    "        'ols': LinearRegression().fit(X_train, y_train),\n",
    "        'lgst': LogisticRegression().fit(X_train, y_train)\n",
    "    }\n",
    "    \n",
    "    if library == 'statsmodels':\n",
    "        model = model_spec[model_type]\n",
    "\n",
    "        # apply class heuristic\n",
    "        #     - Any class less than 0.5: 0\n",
    "        #     - ANy class greater than 0.5: 1\n",
    "        y_pred = model.predict(X_test)\n",
    "        y_pred = np.array(y_pred)\n",
    "        y_pred[y_pred < class_likelihood] = 0\n",
    "        y_pred[y_pred >= class_likelihood] = 1\n",
    "        y_pred = y_pred.astype(int)\n",
    "        \n",
    "        # Get significant features\n",
    "        mod_sig_features = list(model.pvalues[model.pvalues <= 0.05].index.values)\n",
    "        \n",
    "    elif library == 'sklearn':\n",
    "        model = model_spec_sklearn[model_type]\n",
    "        \n",
    "        # apply class heuristic\n",
    "        y_pred = model.predict(X_test)\n",
    "        y_pred = np.array(y_pred)\n",
    "        y_pred[y_pred < class_likelihood] = 0\n",
    "        y_pred[y_pred >= class_likelihood] = 1\n",
    "        y_pred = y_pred.astype(int)\n",
    "        \n",
    "        # Get significant features\n",
    "        mod_sig_features = []\n",
    "        \n",
    "    else:\n",
    "        raise Exception(\"KindError: Library argument is incorrect.\")\n",
    "\n",
    "    # Get scores: output interpreted as probability of predicting class 1\n",
    "    mod_cm_score, mod_auc_score = skl_mod_confusion_matrix_roc_auc(y_test, y_pred, y_pred)\n",
    "    mod_precision = mod_cm_score['TP']/(mod_cm_score['TP']+mod_cm_score['FP'])\n",
    "    \n",
    "    return model, mod_cm_score, mod_auc_score, mod_precision, mod_sig_features"
   ]
  },
  {
   "cell_type": "code",
   "execution_count": 9,
   "metadata": {},
   "outputs": [],
   "source": [
    "# outlier and threshold mapping  \n",
    "def threshold_outlier_flagging(dataframe, feature, threshold_val, threshold_type, bound):\n",
    "#     automate outlier and flagging process\n",
    "    if threshold_type == 'outlier':\n",
    "        if bound == 'high':\n",
    "            _out_label = \"out_{}_hi\".format(feature)\n",
    "            dataframe.loc[:, _out_label] = 0\n",
    "            for index, val in dataframe.iterrows(): \n",
    "                if dataframe.loc[index, feature] > threshold_val:\n",
    "                    dataframe.loc[index, _out_label] = 1\n",
    "        elif bound == \"low\":\n",
    "            _out_label = \"out_{}_lo\".format(feature)\n",
    "            dataframe.loc[:, _out_label] = 0\n",
    "            for index, val in dataframe.iterrows(): \n",
    "                if dataframe.loc[index, feature] < threshold_val:\n",
    "                    dataframe.loc[index, _out_label] = 1\n",
    "        else:\n",
    "            print(\"Outlier flagging failed\")\n",
    "            \n",
    "    elif threshold_type == 'threshold':\n",
    "        if bound == 'high':\n",
    "            _out_label = \"flag_{}_hi\".format(feature)\n",
    "            dataframe.loc[:, _out_label] = 0\n",
    "            for index, val in dataframe.iterrows(): \n",
    "                if dataframe.loc[index, feature] > threshold_val:\n",
    "                    dataframe.loc[index, _out_label] = 1\n",
    "        elif bound == \"low\":\n",
    "            _out_label = \"flag_{}_lo\".format(feature)\n",
    "            dataframe.loc[:, _out_label] = 0\n",
    "            for index, val in dataframe.iterrows(): \n",
    "                if dataframe.loc[index, feature] < threshold_val:\n",
    "                    dataframe.loc[index, _out_label] = 1\n",
    "        else:\n",
    "            print(\"Threshold flagging failed\")\n",
    "            \n",
    "    elif threshold_type == 'trend':\n",
    "        _out_label = \"trend_{}\".format(feature)\n",
    "        dataframe.loc[:, _out_label] = 0\n",
    "        for index, val in dataframe.iterrows(): \n",
    "            if dataframe.loc[index, feature] == threshold_val:\n",
    "                dataframe.loc[index, _out_label] = 1"
   ]
  },
  {
   "cell_type": "code",
   "execution_count": 10,
   "metadata": {},
   "outputs": [],
   "source": [
    "# plot a ncol x 4 row matrix of distributions\n",
    "def plot_box_facets(_df, df, fig_rc, viz_type, y, cat_x):\n",
    "    g_count = 0\n",
    "    \n",
    "    if viz_type == 'box':\n",
    "        if y not in cat_x:\n",
    "            a = plt.subplot(fig_rc[0], fig_rc[1], g_count+1)\n",
    "\n",
    "            # plot a facet\n",
    "            box_plot = sns.boxplot(x=cat_x, y=y, data=df)\n",
    "            g_count += 1\n",
    "            \n",
    "            # despine figure\n",
    "            sns.despine()\n",
    "            return box_plot\n",
    "    else:\n",
    "        raise Exception(\"Failed to generated Box Plot\")"
   ]
  },
  {
   "cell_type": "markdown",
   "metadata": {},
   "source": [
    "### Remove Redundant features\n",
    "    - Known collinear binary features\n",
    "    - FIRST_NAME, FAMILY_NAME, EMAIL, NAME"
   ]
  },
  {
   "cell_type": "code",
   "execution_count": 11,
   "metadata": {},
   "outputs": [],
   "source": [
    "df_optimization.drop(\n",
    "            [\"flag_WEEKS_SUBSCRIBED_TO_WEEKLY_PLAN_CNT_lo\",\n",
    "            \"NAME\",\n",
    "            \"EMAIL\",\n",
    "            \"FIRST_NAME\",\n",
    "            \"FAMILY_NAME\"], \n",
    "            axis = 1, inplace = True)"
   ]
  },
  {
   "cell_type": "markdown",
   "metadata": {},
   "source": [
    "### Feature Engineering"
   ]
  },
  {
   "cell_type": "markdown",
   "metadata": {},
   "source": [
    "#### Weekly Meal Plan subscriber type "
   ]
  },
  {
   "cell_type": "code",
   "execution_count": 12,
   "metadata": {
    "scrolled": false
   },
   "outputs": [
    {
     "data": {
      "text/html": [
       "<div>\n",
       "<style scoped>\n",
       "    .dataframe tbody tr th:only-of-type {\n",
       "        vertical-align: middle;\n",
       "    }\n",
       "\n",
       "    .dataframe tbody tr th {\n",
       "        vertical-align: top;\n",
       "    }\n",
       "\n",
       "    .dataframe thead th {\n",
       "        text-align: right;\n",
       "    }\n",
       "</style>\n",
       "<table border=\"1\" class=\"dataframe\">\n",
       "  <thead>\n",
       "    <tr style=\"text-align: right;\">\n",
       "      <th></th>\n",
       "      <th></th>\n",
       "      <th></th>\n",
       "      <th></th>\n",
       "      <th></th>\n",
       "      <th>HWT_SUBSCRIBER</th>\n",
       "      <th>REVENUE</th>\n",
       "    </tr>\n",
       "    <tr>\n",
       "      <th>fe_WP_INACTIVE_SUB</th>\n",
       "      <th>fe_WP_BASIC_SUB</th>\n",
       "      <th>fe_WP_PREMIUM_SUB</th>\n",
       "      <th>fe_WP_NOT_SUB</th>\n",
       "      <th>MOBILE_REGISTRATION</th>\n",
       "      <th></th>\n",
       "      <th></th>\n",
       "    </tr>\n",
       "  </thead>\n",
       "  <tbody>\n",
       "    <tr>\n",
       "      <th rowspan=\"4\" valign=\"top\">0</th>\n",
       "      <th rowspan=\"2\" valign=\"top\">0</th>\n",
       "      <th rowspan=\"2\" valign=\"top\">1</th>\n",
       "      <th rowspan=\"2\" valign=\"top\">0</th>\n",
       "      <th>0</th>\n",
       "      <td>20</td>\n",
       "      <td>57376.750</td>\n",
       "    </tr>\n",
       "    <tr>\n",
       "      <th>1</th>\n",
       "      <td>132</td>\n",
       "      <td>376476.875</td>\n",
       "    </tr>\n",
       "    <tr>\n",
       "      <th rowspan=\"2\" valign=\"top\">1</th>\n",
       "      <th rowspan=\"2\" valign=\"top\">0</th>\n",
       "      <th rowspan=\"2\" valign=\"top\">0</th>\n",
       "      <th>0</th>\n",
       "      <td>32</td>\n",
       "      <td>87228.500</td>\n",
       "    </tr>\n",
       "    <tr>\n",
       "      <th>1</th>\n",
       "      <td>248</td>\n",
       "      <td>604244.125</td>\n",
       "    </tr>\n",
       "    <tr>\n",
       "      <th rowspan=\"4\" valign=\"top\">1</th>\n",
       "      <th rowspan=\"4\" valign=\"top\">0</th>\n",
       "      <th rowspan=\"4\" valign=\"top\">0</th>\n",
       "      <th rowspan=\"2\" valign=\"top\">0</th>\n",
       "      <th>0</th>\n",
       "      <td>45</td>\n",
       "      <td>229446.000</td>\n",
       "    </tr>\n",
       "    <tr>\n",
       "      <th>1</th>\n",
       "      <td>519</td>\n",
       "      <td>1729334.500</td>\n",
       "    </tr>\n",
       "    <tr>\n",
       "      <th rowspan=\"2\" valign=\"top\">1</th>\n",
       "      <th>0</th>\n",
       "      <td>34</td>\n",
       "      <td>104813.000</td>\n",
       "    </tr>\n",
       "    <tr>\n",
       "      <th>1</th>\n",
       "      <td>291</td>\n",
       "      <td>911871.750</td>\n",
       "    </tr>\n",
       "  </tbody>\n",
       "</table>\n",
       "</div>"
      ],
      "text/plain": [
       "                                                                                        HWT_SUBSCRIBER  \\\n",
       "fe_WP_INACTIVE_SUB fe_WP_BASIC_SUB fe_WP_PREMIUM_SUB fe_WP_NOT_SUB MOBILE_REGISTRATION                   \n",
       "0                  0               1                 0             0                                20   \n",
       "                                                                   1                               132   \n",
       "                   1               0                 0             0                                32   \n",
       "                                                                   1                               248   \n",
       "1                  0               0                 0             0                                45   \n",
       "                                                                   1                               519   \n",
       "                                                     1             0                                34   \n",
       "                                                                   1                               291   \n",
       "\n",
       "                                                                                            REVENUE  \n",
       "fe_WP_INACTIVE_SUB fe_WP_BASIC_SUB fe_WP_PREMIUM_SUB fe_WP_NOT_SUB MOBILE_REGISTRATION               \n",
       "0                  0               1                 0             0                      57376.750  \n",
       "                                                                   1                     376476.875  \n",
       "                   1               0                 0             0                      87228.500  \n",
       "                                                                   1                     604244.125  \n",
       "1                  0               0                 0             0                     229446.000  \n",
       "                                                                   1                    1729334.500  \n",
       "                                                     1             0                     104813.000  \n",
       "                                                                   1                     911871.750  "
      ]
     },
     "execution_count": 12,
     "metadata": {},
     "output_type": "execute_result"
    }
   ],
   "source": [
    "# Ratio of total meals ordered and weeks subscribed to weekly plan are not all perfectly divisible by 3 or 5\n",
    "#     - Assumption: Weekly plan subscription is a stratified discount plan as opposed to a weekly delivery plan\n",
    "# If the total number of meals order is greater \n",
    "#     - Than a multiple of 3 weeks subscribed to the weekly plan -> Basic subscriber\n",
    "#     - Than a multiple of 5 5 of weeks subscribed to the weekly -> Premium subscriber\n",
    "#     - Otherwise inactive weekly\n",
    "\n",
    "# instantiate features\n",
    "df_optimization[\"fe_WP_NOT_SUB\"] = 0\n",
    "df_optimization[\"fe_WP_INACTIVE_SUB\"] = 0 \n",
    "df_optimization[\"fe_WP_BASIC_SUB\"] = 0 \n",
    "df_optimization[\"fe_WP_PREMIUM_SUB\"] = 0\n",
    "\n",
    "# Generate features\n",
    "for index, val in df_optimization.iterrows(): \n",
    "    \n",
    "    # stratify by type of weekly plan subscriber\n",
    "    if df_optimization.loc[index, \"WEEKS_SUBSCRIBED_TO_WEEKLY_PLAN_CNT\"]*3 > df_optimization.loc[index, \"TOTAL_MEALS_ORDERED\"]:\n",
    "        df_optimization.loc[index, \"fe_WP_BASIC_SUB\"] = 1\n",
    "    elif df_optimization.loc[index, \"WEEKS_SUBSCRIBED_TO_WEEKLY_PLAN_CNT\"]*5 > df_optimization.loc[index, \"TOTAL_MEALS_ORDERED\"]:\n",
    "        df_optimization.loc[index, \"fe_WP_PREMIUM_SUB\"] = 1\n",
    "    else:\n",
    "        df_optimization.loc[index, \"fe_WP_INACTIVE_SUB\"] = 1\n",
    "    \n",
    "#     # feature out customers that are not subscribers of a weekly meal plan\n",
    "    if df_optimization.loc[index, \"WEEKS_SUBSCRIBED_TO_WEEKLY_PLAN_CNT\"] == 0:\n",
    "        df_optimization.loc[index, \"fe_WP_NOT_SUB\"] = 1\n",
    "\n",
    "# aggregate by HWT_SUBSCRIBER and share of revenue\n",
    "df_optimization.loc[:, [\"fe_WP_BASIC_SUB\", \"fe_WP_PREMIUM_SUB\", \"fe_WP_INACTIVE_SUB\", \"fe_WP_NOT_SUB\", \"MOBILE_REGISTRATION\", \"HWT_SUBSCRIBER\", \"REVENUE\"]].\\\n",
    "groupby([\"fe_WP_INACTIVE_SUB\", \"fe_WP_BASIC_SUB\", \"fe_WP_PREMIUM_SUB\", \"fe_WP_NOT_SUB\", \"MOBILE_REGISTRATION\"]).sum()"
   ]
  },
  {
   "cell_type": "markdown",
   "metadata": {},
   "source": [
    "Dual subscription customers preferred to register for HWT through their mobile phones.\n",
    "- 519 Inactive WP subscribers were also HWT subscribers and registered with their mobile phones. These customers are not entitled to a weekly plan discount and so there must some other motivating factor.\n",
    "- 325 customers were unique HWT subscribers and also registered for the service with the mobile phones."
   ]
  },
  {
   "cell_type": "markdown",
   "metadata": {},
   "source": [
    "This pool of customers seem hold evidence to suggest that Apprentice's cross-selling strategy is diversifying their revenue streams. And since they have never interfaced Apprentice Chef before, these must be the new customers and the others existing."
   ]
  },
  {
   "cell_type": "code",
   "execution_count": 13,
   "metadata": {},
   "outputs": [],
   "source": [
    "# intialize feature\n",
    "df_optimization.rename(columns={\"fe_WP_NOT_SUB\": \"fe_ONLY_HWT_CUSTOMER\"}, inplace=True)"
   ]
  },
  {
   "cell_type": "code",
   "execution_count": 14,
   "metadata": {},
   "outputs": [
    {
     "data": {
      "text/html": [
       "<div>\n",
       "<style scoped>\n",
       "    .dataframe tbody tr th:only-of-type {\n",
       "        vertical-align: middle;\n",
       "    }\n",
       "\n",
       "    .dataframe tbody tr th {\n",
       "        vertical-align: top;\n",
       "    }\n",
       "\n",
       "    .dataframe thead th {\n",
       "        text-align: right;\n",
       "    }\n",
       "</style>\n",
       "<table border=\"1\" class=\"dataframe\">\n",
       "  <thead>\n",
       "    <tr style=\"text-align: right;\">\n",
       "      <th></th>\n",
       "      <th>MOBILE_LOGINS_CNT</th>\n",
       "      <th>PC_LOGINS_CNT</th>\n",
       "      <th>HWT_SUBSCRIBER</th>\n",
       "      <th>REVENUE</th>\n",
       "    </tr>\n",
       "    <tr>\n",
       "      <th>fe_ONLY_HWT_CUSTOMER</th>\n",
       "      <th></th>\n",
       "      <th></th>\n",
       "      <th></th>\n",
       "      <th></th>\n",
       "    </tr>\n",
       "  </thead>\n",
       "  <tbody>\n",
       "    <tr>\n",
       "      <th>0</th>\n",
       "      <td>2180</td>\n",
       "      <td>8139</td>\n",
       "      <td>1478</td>\n",
       "      <td>3084106.75</td>\n",
       "    </tr>\n",
       "    <tr>\n",
       "      <th>1</th>\n",
       "      <td>693</td>\n",
       "      <td>2595</td>\n",
       "      <td>468</td>\n",
       "      <td>1016684.75</td>\n",
       "    </tr>\n",
       "  </tbody>\n",
       "</table>\n",
       "</div>"
      ],
      "text/plain": [
       "                      MOBILE_LOGINS_CNT  PC_LOGINS_CNT  HWT_SUBSCRIBER  \\\n",
       "fe_ONLY_HWT_CUSTOMER                                                     \n",
       "0                                  2180           8139            1478   \n",
       "1                                   693           2595             468   \n",
       "\n",
       "                         REVENUE  \n",
       "fe_ONLY_HWT_CUSTOMER              \n",
       "0                     3084106.75  \n",
       "1                     1016684.75  "
      ]
     },
     "execution_count": 14,
     "metadata": {},
     "output_type": "execute_result"
    }
   ],
   "source": [
    "df_optimization\\\n",
    "    .loc[:, df_optimization.columns\\\n",
    "    .isin([\"fe_ONLY_HWT_CUSTOMER\", \"HWT_SUBSCRIBER\", \"MOBILE_LOGINS_CNT\", \"PC_LOGINS_CNT\", \"REVENUE\"]) == True]\\\n",
    "    .groupby(\"fe_ONLY_HWT_CUSTOMER\")\\\n",
    "    .agg({\"MOBILE_LOGINS_CNT\": 'sum', \"PC_LOGINS_CNT\": 'sum', \"HWT_SUBSCRIBER\": 'count', \"REVENUE\": 'sum'})"
   ]
  },
  {
   "cell_type": "markdown",
   "metadata": {},
   "source": [
    "From a revenue standpoint, unique HWT customers generated nearly 1/3 of the observed revenue. And even though they prefered to login with their mobile phones, a fair amount of platform engagement occurs on desktop computers.\n",
    "\n",
    "#### What makes these new customers different?\n",
    "These new customers receive a half bottle of wine from a local California vineyard every Wednesday.\n",
    "\n",
    "A typical product that comes from this region, Paso Robles, is Adelaida Grenache (+1$20). It is branded as an affordable yet alluring selection of red wine. "
   ]
  },
  {
   "cell_type": "markdown",
   "metadata": {},
   "source": [
    "<img src=\"https://cdn.pastemagazine.com/www/articles/Best-reds-CA-1-Adelaida.jpg\" style=\"width:20em\" >"
   ]
  },
  {
   "cell_type": "markdown",
   "metadata": {},
   "source": [
    "    \"Grenache is a widely planted grape that probably originated in Spain. It likes hot, dry conditions (welcome to Paso\n",
    "    Robles!) and produces wines with low tannins and a lot of red berry and spice notes-leathery or tarry notes enter the\n",
    "    picture with age.\""
   ]
  },
  {
   "cell_type": "markdown",
   "metadata": {},
   "source": [
    "The most affordable wine available from that region is a 2006 Camelot Cabernet Sauvignon."
   ]
  },
  {
   "cell_type": "markdown",
   "metadata": {},
   "source": [
    "<img src = \"https://attardcowines.com/wp-content/uploads/2019/08/78e14edcbf28b3720b6d23db94984107_camelot-rosso-1-5lt.jpg\" style=\"width: 20em\" >"
   ]
  },
  {
   "cell_type": "markdown",
   "metadata": {},
   "source": [
    "Red wines are usually more bitter than white wines the white or sweet whine. From a food pairing perspective, what they make up for in bitterness, sweetness or acidity, they lack in fatiness, spicyness and saltiness. Ideal food compliments for each type of wine are,\n",
    "1. White - Macaroni for a classy Monday dinner\n",
    "2. Red - Machego cheese and crackers for an ideal mid week break."
   ]
  },
  {
   "cell_type": "markdown",
   "metadata": {},
   "source": [
    "#### Trend, flag and outlier flagging"
   ]
  },
  {
   "cell_type": "markdown",
   "metadata": {},
   "source": [
    "We have captured two types of customers so far,\n",
    "1. Existing that are dual subscribers of WP only or WP & HWT\n",
    "2. New Customers that only purchased the HWT subscription"
   ]
  },
  {
   "cell_type": "code",
   "execution_count": 15,
   "metadata": {},
   "outputs": [],
   "source": [
    "# Seperate customers based on type\n",
    "df_dual_WP_HWT = df_optimization[df_optimization[\"fe_ONLY_HWT_CUSTOMER\"] == 0]\n",
    "df_only_HWT = df_optimization[df_optimization[\"fe_ONLY_HWT_CUSTOMER\"] == 1]\n",
    "\n",
    "# copy dataframes\n",
    "df_flagged = df_optimization.copy()\n",
    "\n",
    "# export data for further analysis\n",
    "df_dual_WP_HWT.to_csv(\"existing_customers.csv\")\n",
    "df_dual_WP_HWT.to_csv(\"new_HWT_customers.csv\")"
   ]
  },
  {
   "cell_type": "markdown",
   "metadata": {},
   "source": [
    "Lets identify outliers, trends outliers, high and low regions for each group"
   ]
  },
  {
   "cell_type": "code",
   "execution_count": 16,
   "metadata": {},
   "outputs": [
    {
     "data": {
      "application/vnd.jupyter.widget-view+json": {
       "model_id": "f11686c9c01545f3bcc6edc8d4753492",
       "version_major": 2,
       "version_minor": 0
      },
      "text/plain": [
       "interactive(children=(Dropdown(description='Feature', options=('REVENUE', 'TOTAL_MEALS_ORDERED', 'UNIQUE_MEALS…"
      ]
     },
     "metadata": {},
     "output_type": "display_data"
    },
    {
     "data": {
      "text/plain": [
       "<function __main__.f(Feature, Customer)>"
      ]
     },
     "execution_count": 16,
     "metadata": {},
     "output_type": "execute_result"
    }
   ],
   "source": [
    "# box plot visualiztion\n",
    "def f(Feature, Customer):\n",
    "    \n",
    "    # get dataframe of choice\n",
    "    get_df = {\n",
    "        \"Existing\": df_dual_WP_HWT,\n",
    "        \"New\": df_only_HWT,\n",
    "        \"All\": df_optimization,\n",
    "    }\n",
    "    \n",
    "    # Plot feature\n",
    "    fig = plt.figure(figsize=(15, 15))\n",
    "    \n",
    "    ax = plot_box_facets(\n",
    "        get_df[Customer].loc[:, Feature],\n",
    "        get_df[Customer],\n",
    "        viz_type = 'box',\n",
    "        fig_rc = [4, 4],\n",
    "        y = Feature,\n",
    "        cat_x = predictor\n",
    "    )\n",
    "    \n",
    "    print(\"Copy and paste for auto-flagging: {}\".format(Feature))\n",
    "    \n",
    "    fig.tight_layout()\n",
    "\n",
    "# Provide feature selection drop down\n",
    "widgets.interact(f, Feature=df_dual_WP_HWT.columns[df_dual_WP_HWT.columns != predictor], Customer=[\"Existing\", \"New\", \"All\"], )"
   ]
  },
  {
   "cell_type": "code",
   "execution_count": 17,
   "metadata": {},
   "outputs": [],
   "source": [
    "# autoflagging all customers\n",
    "threshold_outlier_flagging(df_flagged, \"REVENUE\", 4200, \"outlier\", \"high\")\n",
    "threshold_outlier_flagging(df_flagged, \"TOTAL_MEALS_ORDERED\", 175, \"outlier\", \"high\")\n",
    "threshold_outlier_flagging(df_flagged, \"UNIQUE_MEALS_PURCH\", 12.5, \"outlier\", \"high\")\n",
    "threshold_outlier_flagging(df_flagged, \"CUSTOMER_SERVICE_TICKETS_CNT\", 12, \"outlier\", \"high\")\n",
    "threshold_outlier_flagging(df_flagged, \"MEALS_CANCEL_BEFORE_NOON\", 6, \"outlier\", \"high\")\n",
    "threshold_outlier_flagging(df_flagged, \"WEEKS_SUBSCRIBED_TO_WEEKLY_PLAN_CNT\", 33, \"outlier\", \"high\")\n",
    "threshold_outlier_flagging(df_flagged, \"ORDERS_DELIVERED_BEFORE_DELIVERY_CNT\", 7, \"outlier\", \"high\")\n",
    "threshold_outlier_flagging(df_flagged, \"ORDERS_DELIVERED_AFTER_DELIVERY_CNT\", 8, \"outlier\", \"high\")\n",
    "threshold_outlier_flagging(df_flagged, \"FRIDGE_LOCKER_IN_PACKAGE_ROOM\", 1, \"trend\", \"hight\")\n",
    "threshold_outlier_flagging(df_flagged, \"PRCNT_FOLLOWED_MEAL_RECOM_WEB_MOBILE\", 30, \"threshold\", \"high\")\n",
    "threshold_outlier_flagging(df_flagged, \"SECONDS_WATCHING_PREP_VID_AVG\", 280, \"outlier\", \"high\")\n",
    "threshold_outlier_flagging(df_flagged, \"LARGEST_ORDER_SIZE\", 8, \"outlier\", \"high\")\n",
    "threshold_outlier_flagging(df_flagged, \"MASTER_CLASSES_ATTENDED_CNT\", 2, \"outlier\", \"high\")\n",
    "threshold_outlier_flagging(df_flagged, \"MEAL_RATING_MEDIAN\", 4, \"outlier\", \"high\")\n",
    "threshold_outlier_flagging(df_flagged, \"SITE_CLICKS_PER_VISIT_AVG\", 8, \"outlier\", \"low\")\n",
    "threshold_outlier_flagging(df_flagged, \"PHOTOS_VIEWED_COUNT\", 400, \"outlier\", \"high\")\n",
    "threshold_outlier_flagging(df_flagged, \"fe_MEAL_CHOICE_SPECIFICITY\", 0.28, \"outlier\", \"high\")\n",
    "threshold_outlier_flagging(df_flagged, \"fe_SITE_CLICK_RATE\", 0.4, \"outlier\", \"high\")"
   ]
  },
  {
   "cell_type": "markdown",
   "metadata": {},
   "source": [
    "## Optimization strategy\n",
    "- Remove redundant features\n",
    "    - Test improvement\n",
    "        - Criteria: count of p-values\n",
    "- Scale all count, continuous and discrete\n",
    "    - Test improvement\n",
    "        - Criteria: count of p-values\n",
    "- Transform all count, continuous and discrete\n",
    "    - Test improvement\n",
    "        - Criteria: count of p-values\n",
    "- Scale count, discrete and transform continuous\n",
    "    - Test improvement\n",
    "        - Criteria: count of p-values\n",
    "    "
   ]
  },
  {
   "cell_type": "markdown",
   "metadata": {},
   "source": [
    "#### Define features sets"
   ]
  },
  {
   "cell_type": "code",
   "execution_count": 18,
   "metadata": {},
   "outputs": [],
   "source": [
    "continuous_features = [\n",
    "    'REVENUE', \n",
    "    'SITE_VISIT_TIME_PER_VISIT_AVG', \n",
    "    'PRCNT_FOLLOWED_MEAL_RECOM_WEB_MOBILE', \n",
    "    'SECONDS_WATCHING_PREP_VID_AVG'\n",
    "                    ]\n",
    "\n",
    "# # MOBILE_LOGINS_CNT dropped, collinearity\n",
    "count_features = [\n",
    "    'TOTAL_MEALS_ORDERED', \n",
    "    'UNIQUE_MEALS_PURCH', \n",
    "    'CUSTOMER_SERVICE_TICKETS_CNT',\n",
    "    'PRODUCT_CATEGORIES_VIEWED', \n",
    "    'MEALS_CANCEL_BEFORE_NOON', \n",
    "    'MEALS_CANCEL_AFTER_NOON',\n",
    "    \"PC_LOGINS_CNT\", \n",
    "    \"WEEKS_SUBSCRIBED_TO_WEEKLY_PLAN_CNT\",\n",
    "    \"ORDERS_DELIVERED_BEFORE_DELIVERY_CNT\", \n",
    "    \"ORDERS_DELIVERED_AFTER_DELIVERY_CNT\",\n",
    "    \"MASTER_CLASSES_ATTENDED_CNT\", \n",
    "    'SITE_CLICKS_PER_VISIT_AVG', \n",
    "    'PHOTOS_VIEWED_COUNT'\n",
    "                    ]\n",
    "\n",
    "\n",
    "boolean_features = [\n",
    "    'CROSS_SELL_SUCCESS', \n",
    "    'SPECIFIED_TASTE_AND_PREFERENCES',\n",
    "    'PACKAGE_ROOM_AT_CUSTOMER', \n",
    "    'FRIDGE_LOCKER_IN_PACKAGE_ROOM', \n",
    "                   ]\n",
    "\n",
    "discrete_features = [\n",
    "    'MOBILE_REGISTRATION', \n",
    "    'LARGEST_ORDER_SIZE', \n",
    "    'MEAL_RATING_MEDIAN'\n",
    "                    ]"
   ]
  },
  {
   "cell_type": "markdown",
   "metadata": {},
   "source": [
    "#### Binary transformations of object types"
   ]
  },
  {
   "cell_type": "code",
   "execution_count": 19,
   "metadata": {},
   "outputs": [],
   "source": [
    "# fields to convert\n",
    "to_convert = [\"fe_CUSTOMER_COMPANY\", \"fe_CUSTOMER_DOMAIN\"]\n",
    "\n",
    "# make transformations\n",
    "binary_trans = pd.get_dummies(df_flagged.loc[:, to_convert], drop_first=True)\n",
    "\n",
    "# drop converted fields\n",
    "df_flagged.drop(to_convert, axis=1, inplace=True)\n",
    "df_flagged = df_flagged.join(binary_trans)"
   ]
  },
  {
   "cell_type": "markdown",
   "metadata": {},
   "source": [
    "#### Setup premodeling parameters"
   ]
  },
  {
   "cell_type": "code",
   "execution_count": 20,
   "metadata": {},
   "outputs": [],
   "source": [
    "# model comparison statistics\n",
    "model_type = []\n",
    "count_sig_features = []\n",
    "sig_features = []\n",
    "auc_score = []\n",
    "sensitivity = []\n",
    "notes = []\n",
    "\n",
    "# feature set definition dictionary\n",
    "sig_feature_sets = {}\n",
    "\n",
    "# setup ModelResults class\n",
    "modeling_results = ModelResults([\"Model\", \"Transformation Method\", \"AUC\", \"AIC\", \"R2\", \"Precision\", \"Sig. features\", \"Notes\"])"
   ]
  },
  {
   "cell_type": "markdown",
   "metadata": {},
   "source": [
    "#### Test on statsmodels LinearRegression"
   ]
  },
  {
   "cell_type": "code",
   "execution_count": 21,
   "metadata": {},
   "outputs": [],
   "source": [
    "target = df_flagged.loc[:, predictor]\n",
    "all_features = df_flagged.loc[:, df_flagged.columns != predictor]"
   ]
  },
  {
   "cell_type": "code",
   "execution_count": 22,
   "metadata": {},
   "outputs": [],
   "source": [
    "# Split training and testing data for cross validation\n",
    "X_train, X_test, y_train, y_test = train_test_split(\n",
    "            all_features,\n",
    "            target,\n",
    "            test_size = 0.25,\n",
    "            random_state = 222)"
   ]
  },
  {
   "cell_type": "code",
   "execution_count": 23,
   "metadata": {},
   "outputs": [
    {
     "name": "stdout",
     "output_type": "stream",
     "text": [
      "Optimization terminated successfully.\n",
      "         Current function value: 0.638760\n",
      "         Iterations: 1\n",
      "         Function evaluations: 2\n",
      "         Gradient evaluations: 2\n",
      "         Hessian evaluations: 1\n"
     ]
    },
    {
     "name": "stderr",
     "output_type": "stream",
     "text": [
      "C:\\Users\\nrosh\\Anaconda3\\lib\\site-packages\\statsmodels\\base\\model.py:548: HessianInversionWarning: Inverting hessian failed, no bse or cov_params available\n",
      "  'available', HessianInversionWarning)\n",
      "C:\\Users\\nrosh\\Anaconda3\\lib\\site-packages\\sklearn\\linear_model\\_logistic.py:940: ConvergenceWarning: lbfgs failed to converge (status=1):\n",
      "STOP: TOTAL NO. of ITERATIONS REACHED LIMIT.\n",
      "\n",
      "Increase the number of iterations (max_iter) or scale the data as shown in:\n",
      "    https://scikit-learn.org/stable/modules/preprocessing.html\n",
      "Please also refer to the documentation for alternative solver options:\n",
      "    https://scikit-learn.org/stable/modules/linear_model.html#logistic-regression\n",
      "  extra_warning_msg=_LOGISTIC_SOLVER_CONVERGENCE_MSG)\n"
     ]
    }
   ],
   "source": [
    "# load model and performance parameters\n",
    "lr_model, lr_mod_cm_score, lr_mod_auc_score, mod_precision, sig_features = statsmodel_ols_lgst('statsmodels', 'ols', X_train, X_test, y_train, y_test, 0.5)\n",
    "\n",
    "# save model results\n",
    "modeling_results.save({\n",
    "    \"Model\": \"LinReg\",\n",
    "    \"Transformation Method\": [\"None\"],\n",
    "    \"AUC\": [lr_mod_auc_score],\n",
    "    \"AIC\": [lr_model.aic],\n",
    "    \"R2\": [lr_model.rsquared],\n",
    "    \"Precision\": [mod_precision],\n",
    "    \"Sig. features\": [len(sig_features)],\n",
    "    \"Notes\": [\"Failed to converge on unscaled/transformed variables\"]\n",
    "})\n",
    "\n",
    "# define feature set\n",
    "sig_feature_sets[\"unscaled_lr\"] = sig_features"
   ]
  },
  {
   "cell_type": "markdown",
   "metadata": {},
   "source": [
    "#### Test on statsmodels LogisticRegression"
   ]
  },
  {
   "cell_type": "code",
   "execution_count": 24,
   "metadata": {
    "scrolled": true
   },
   "outputs": [
    {
     "name": "stdout",
     "output_type": "stream",
     "text": [
      "Optimization terminated successfully.\n",
      "         Current function value: 0.638760\n",
      "         Iterations: 1\n",
      "         Function evaluations: 2\n",
      "         Gradient evaluations: 2\n",
      "         Hessian evaluations: 1\n"
     ]
    },
    {
     "name": "stderr",
     "output_type": "stream",
     "text": [
      "C:\\Users\\nrosh\\Anaconda3\\lib\\site-packages\\statsmodels\\base\\model.py:548: HessianInversionWarning: Inverting hessian failed, no bse or cov_params available\n",
      "  'available', HessianInversionWarning)\n",
      "C:\\Users\\nrosh\\Anaconda3\\lib\\site-packages\\sklearn\\linear_model\\_logistic.py:940: ConvergenceWarning: lbfgs failed to converge (status=1):\n",
      "STOP: TOTAL NO. of ITERATIONS REACHED LIMIT.\n",
      "\n",
      "Increase the number of iterations (max_iter) or scale the data as shown in:\n",
      "    https://scikit-learn.org/stable/modules/preprocessing.html\n",
      "Please also refer to the documentation for alternative solver options:\n",
      "    https://scikit-learn.org/stable/modules/linear_model.html#logistic-regression\n",
      "  extra_warning_msg=_LOGISTIC_SOLVER_CONVERGENCE_MSG)\n",
      "C:\\Users\\nrosh\\Anaconda3\\lib\\site-packages\\scipy\\stats\\_distn_infrastructure.py:903: RuntimeWarning: invalid value encountered in greater\n",
      "  return (a < x) & (x < b)\n",
      "C:\\Users\\nrosh\\Anaconda3\\lib\\site-packages\\scipy\\stats\\_distn_infrastructure.py:903: RuntimeWarning: invalid value encountered in less\n",
      "  return (a < x) & (x < b)\n",
      "C:\\Users\\nrosh\\Anaconda3\\lib\\site-packages\\scipy\\stats\\_distn_infrastructure.py:1912: RuntimeWarning: invalid value encountered in less_equal\n",
      "  cond2 = cond0 & (x <= _a)\n"
     ]
    }
   ],
   "source": [
    "# load model and performance parameters\n",
    "lgst_model, lgst_mod_cm_score, lgst_mod_auc_score, mod_precision, sig_features = statsmodel_ols_lgst('statsmodels', 'lgst', X_train, X_test, y_train, y_test, 0.5)\n",
    "\n",
    "# save model results\n",
    "modeling_results.save({\n",
    "    \"Model\": [\"Lgst\"],\n",
    "    \"Transformation Method\": [\"Scale all\"],\n",
    "    \"AUC\": [lgst_mod_auc_score],\n",
    "    \"AIC\": [lgst_model.aic],\n",
    "    \"R2\": [lgst_model.prsquared],\n",
    "    \"Precision\": [mod_precision],\n",
    "    \"Sig. features\": [len(sig_features)],\n",
    "    \"Notes\": [\"Failed to converge on scaled continuous and count features\"]\n",
    "})\n",
    "\n",
    "sig_feature_sets[\"unscaled_lgst\"] = sig_features"
   ]
  },
  {
   "cell_type": "markdown",
   "metadata": {},
   "source": [
    "### Scale all count, continuous and discrete"
   ]
  },
  {
   "cell_type": "markdown",
   "metadata": {},
   "source": [
    "Source: \n",
    "- 25 Of The Best California Red Wines under $25, https://www.pastemagazine.com/drink/red-wine/25-of-the-best-california-red-wines-under-25/#adelaida-grenache-20-\n",
    "\n",
    "- California Top Wines for $15 or less, https://www.foodandwine.com/wine-regions/california/california-top-wines-for-15-dollars-and-less\n",
    "\n",
    "- Food and Wine Pairing Basics, https://winefolly.com/wine-pairing/getting-started-with-food-and-wine-pairing/"
   ]
  },
  {
   "cell_type": "code",
   "execution_count": 25,
   "metadata": {},
   "outputs": [],
   "source": [
    "df_scaled_count_cont_disc = df_flagged.copy()"
   ]
  },
  {
   "cell_type": "code",
   "execution_count": 26,
   "metadata": {},
   "outputs": [],
   "source": [
    "# # prepare dataframe for scaling\n",
    "df_to_scale = all_features\\\n",
    "    .loc[:, continuous_features + count_features + discrete_features]\n",
    "\n",
    "# scale all features\n",
    "scaler = MinMaxScaler(feature_range = (0, 1))\n",
    "scaler.fit(df_to_scale)\n",
    "df_to_scale = pd.DataFrame(scaler.transform(df_to_scale), columns=df_to_scale.columns)\n",
    "\n",
    "# merge scaled df with other fields\n",
    "df_scaled_count_cont_disc.loc[:, df_to_scale.columns] = df_to_scale"
   ]
  },
  {
   "cell_type": "markdown",
   "metadata": {},
   "source": [
    "#### Test on statsmodels LinearRegression"
   ]
  },
  {
   "cell_type": "code",
   "execution_count": 27,
   "metadata": {},
   "outputs": [],
   "source": [
    "# Split training and testing data for cross validation\n",
    "X_train, X_test, y_train, y_test = train_test_split(\n",
    "            df_scaled_count_cont_disc.loc[:, df_scaled_count_cont_disc.columns.isin([predictor]) == False],\n",
    "            df_scaled_count_cont_disc.loc[:, predictor],\n",
    "            test_size = 0.25,\n",
    "            random_state = 222)"
   ]
  },
  {
   "cell_type": "code",
   "execution_count": 28,
   "metadata": {},
   "outputs": [
    {
     "name": "stdout",
     "output_type": "stream",
     "text": [
      "Optimization terminated successfully.\n",
      "         Current function value: 0.321544\n",
      "         Iterations: 21\n",
      "         Function evaluations: 26\n",
      "         Gradient evaluations: 46\n",
      "         Hessian evaluations: 21\n"
     ]
    },
    {
     "name": "stderr",
     "output_type": "stream",
     "text": [
      "C:\\Users\\nrosh\\Anaconda3\\lib\\site-packages\\statsmodels\\base\\model.py:548: HessianInversionWarning: Inverting hessian failed, no bse or cov_params available\n",
      "  'available', HessianInversionWarning)\n"
     ]
    }
   ],
   "source": [
    "# load model and performance parameters\n",
    "lr_model, lr_mod_cm_score, lr_mod_auc_score, mod_precision, sig_features = statsmodel_ols_lgst('statsmodels', 'ols', X_train, X_test, y_train, y_test, 0.5)\n",
    "\n",
    "# save model results\n",
    "modeling_results.save({\n",
    "    \"Model\": [\"LinReg\"],\n",
    "    \"Transformation Method\": [\"Scale all\"],\n",
    "    \"AUC\": [lr_mod_auc_score],\n",
    "    \"AIC\": [lr_model.aic],\n",
    "    \"R2\": [lr_model.rsquared],\n",
    "    \"Precision\": [mod_precision],\n",
    "    \"Sig. features\": [len(sig_features)],\n",
    "    \"Notes\": [\"Failed to converge scaled continuous and count features\"]\n",
    "})\n",
    "\n",
    "sig_feature_sets[\"scaled_all_lr\"] = sig_features"
   ]
  },
  {
   "cell_type": "markdown",
   "metadata": {},
   "source": [
    "#### Test on statsmodels Logistic Regression"
   ]
  },
  {
   "cell_type": "code",
   "execution_count": 29,
   "metadata": {
    "scrolled": true
   },
   "outputs": [
    {
     "name": "stdout",
     "output_type": "stream",
     "text": [
      "Optimization terminated successfully.\n",
      "         Current function value: 0.321544\n",
      "         Iterations: 21\n",
      "         Function evaluations: 26\n",
      "         Gradient evaluations: 46\n",
      "         Hessian evaluations: 21\n"
     ]
    },
    {
     "name": "stderr",
     "output_type": "stream",
     "text": [
      "C:\\Users\\nrosh\\Anaconda3\\lib\\site-packages\\statsmodels\\base\\model.py:548: HessianInversionWarning: Inverting hessian failed, no bse or cov_params available\n",
      "  'available', HessianInversionWarning)\n",
      "C:\\Users\\nrosh\\Anaconda3\\lib\\site-packages\\scipy\\stats\\_distn_infrastructure.py:903: RuntimeWarning: invalid value encountered in greater\n",
      "  return (a < x) & (x < b)\n",
      "C:\\Users\\nrosh\\Anaconda3\\lib\\site-packages\\scipy\\stats\\_distn_infrastructure.py:903: RuntimeWarning: invalid value encountered in less\n",
      "  return (a < x) & (x < b)\n",
      "C:\\Users\\nrosh\\Anaconda3\\lib\\site-packages\\scipy\\stats\\_distn_infrastructure.py:1912: RuntimeWarning: invalid value encountered in less_equal\n",
      "  cond2 = cond0 & (x <= _a)\n"
     ]
    }
   ],
   "source": [
    "# load model and performance parameters\n",
    "lgst_model, lgst_mod_cm_score, lgst_mod_auc_score, mod_precision, sig_features = statsmodel_ols_lgst('statsmodels', 'lgst', X_train, X_test, y_train, y_test, 0.5)\n",
    "\n",
    "# save model results\n",
    "modeling_results.save({\n",
    "    \"Model\": [\"Logit\"],\n",
    "    \"Transformation Method\": [\"Scale all\"],\n",
    "    \"AUC\": [lgst_mod_auc_score],\n",
    "    \"AIC\": [lgst_model.aic],\n",
    "    \"R2\": [lgst_model.prsquared],\n",
    "    \"Precision\": [mod_precision],\n",
    "    \"Sig. features\": [len(sig_features)],\n",
    "    \"Notes\": [\"Failed to converge scaled continuous and count features\"]\n",
    "})\n",
    "\n",
    "sig_feature_sets[\"scaled_all_lgst\"] = sig_features"
   ]
  },
  {
   "cell_type": "markdown",
   "metadata": {},
   "source": [
    "## Transform continuous and scale count, discrete"
   ]
  },
  {
   "cell_type": "code",
   "execution_count": 30,
   "metadata": {},
   "outputs": [],
   "source": [
    "df_transformed_cont_scaled_count_disc = df_flagged.copy()"
   ]
  },
  {
   "cell_type": "code",
   "execution_count": 31,
   "metadata": {},
   "outputs": [
    {
     "name": "stderr",
     "output_type": "stream",
     "text": [
      "C:\\Users\\nrosh\\Anaconda3\\lib\\site-packages\\pandas\\core\\series.py:679: RuntimeWarning: divide by zero encountered in log\n",
      "  result = getattr(ufunc, method)(*inputs, **kwargs)\n"
     ]
    }
   ],
   "source": [
    "# Tranform continuous by square\n",
    "for i in df_transformed_cont_scaled_count_disc.loc[:, continuous_features]:\n",
    "    df_transformed_cont_scaled_count_disc.loc[:, i] = np.log(df_transformed_cont_scaled_count_disc.loc[:, i]).replace({-float('inf'): 0.01})"
   ]
  },
  {
   "cell_type": "markdown",
   "metadata": {},
   "source": [
    "Expected warning as log calculation is being applied on dummy variables."
   ]
  },
  {
   "cell_type": "code",
   "execution_count": 32,
   "metadata": {},
   "outputs": [],
   "source": [
    "# prepare dataframe for scaling\n",
    "df_to_scale = all_features\\\n",
    "    .loc[:, count_features + discrete_features]\n",
    "\n",
    "# Scale count and discrete\n",
    "scaler = MinMaxScaler(feature_range = (0, 1))\n",
    "scaler.fit(df_to_scale)\n",
    "df_to_scale = pd.DataFrame(scaler.transform(df_to_scale), columns=df_to_scale.columns)\n",
    "\n",
    "# merge scaled df with other fields\n",
    "df_transformed_cont_scaled_count_disc.loc[:, df_to_scale.columns] = df_to_scale"
   ]
  },
  {
   "cell_type": "markdown",
   "metadata": {},
   "source": [
    "#### Test on statsmodels LinearRegression"
   ]
  },
  {
   "cell_type": "code",
   "execution_count": 33,
   "metadata": {},
   "outputs": [],
   "source": [
    "# Split training and testing data for cross validation\n",
    "X_train, X_test, y_train, y_test = train_test_split(\n",
    "            df_transformed_cont_scaled_count_disc.loc[:, df_transformed_cont_scaled_count_disc.columns.isin([predictor]) == False],\n",
    "            df_transformed_cont_scaled_count_disc.loc[:, predictor],\n",
    "            test_size = 0.25,\n",
    "            random_state = 222)"
   ]
  },
  {
   "cell_type": "code",
   "execution_count": 34,
   "metadata": {},
   "outputs": [
    {
     "name": "stdout",
     "output_type": "stream",
     "text": [
      "Optimization terminated successfully.\n",
      "         Current function value: 0.318692\n",
      "         Iterations: 33\n",
      "         Function evaluations: 37\n",
      "         Gradient evaluations: 69\n",
      "         Hessian evaluations: 33\n"
     ]
    },
    {
     "name": "stderr",
     "output_type": "stream",
     "text": [
      "C:\\Users\\nrosh\\Anaconda3\\lib\\site-packages\\statsmodels\\base\\model.py:548: HessianInversionWarning: Inverting hessian failed, no bse or cov_params available\n",
      "  'available', HessianInversionWarning)\n",
      "C:\\Users\\nrosh\\Anaconda3\\lib\\site-packages\\sklearn\\linear_model\\_logistic.py:940: ConvergenceWarning: lbfgs failed to converge (status=1):\n",
      "STOP: TOTAL NO. of ITERATIONS REACHED LIMIT.\n",
      "\n",
      "Increase the number of iterations (max_iter) or scale the data as shown in:\n",
      "    https://scikit-learn.org/stable/modules/preprocessing.html\n",
      "Please also refer to the documentation for alternative solver options:\n",
      "    https://scikit-learn.org/stable/modules/linear_model.html#logistic-regression\n",
      "  extra_warning_msg=_LOGISTIC_SOLVER_CONVERGENCE_MSG)\n"
     ]
    }
   ],
   "source": [
    "# load model and performance parameters\n",
    "lr_model_trans_scaled, lr_mod_cm_score, lr_mod_auc_score, lr_mod_precision, sig_features = statsmodel_ols_lgst('statsmodels', 'ols', X_train, X_test, y_train, y_test, 0.5)\n",
    "\n",
    "# save model results\n",
    "modeling_results.save({\n",
    "    \"Model\": [\"LinReg\"],\n",
    "    \"Transformation Method\": [\"Transform continuous, scale count and discrete\"],\n",
    "    \"AUC\": [lr_mod_auc_score],\n",
    "    \"AIC\": [lr_model_trans_scaled.aic],\n",
    "    \"R2\": [lr_model_trans_scaled.rsquared],\n",
    "    \"Precision\": [lr_mod_precision],\n",
    "    \"Sig. features\": [len(sig_features)],\n",
    "    \"Notes\": [\"Failed to converge on transformed continuous, scaled count & discrete features\"]\n",
    "})\n",
    "\n",
    "sig_feature_sets[\"transformed_scaled_lr\"] = sig_features"
   ]
  },
  {
   "cell_type": "markdown",
   "metadata": {},
   "source": [
    "#### Test on statsmodels Logistic Regression"
   ]
  },
  {
   "cell_type": "code",
   "execution_count": 35,
   "metadata": {},
   "outputs": [],
   "source": [
    "# Split training and testing data for cross validation\n",
    "X_train, X_test, y_train, y_test = train_test_split(\n",
    "            df_transformed_cont_scaled_count_disc.loc[:, df_transformed_cont_scaled_count_disc.columns.isin([predictor]) == False],\n",
    "            df_transformed_cont_scaled_count_disc.loc[:, predictor],\n",
    "            test_size = 0.25,\n",
    "            random_state = 222)"
   ]
  },
  {
   "cell_type": "code",
   "execution_count": 36,
   "metadata": {
    "scrolled": true
   },
   "outputs": [
    {
     "name": "stdout",
     "output_type": "stream",
     "text": [
      "Optimization terminated successfully.\n",
      "         Current function value: 0.318692\n",
      "         Iterations: 33\n",
      "         Function evaluations: 37\n",
      "         Gradient evaluations: 69\n",
      "         Hessian evaluations: 33\n"
     ]
    },
    {
     "name": "stderr",
     "output_type": "stream",
     "text": [
      "C:\\Users\\nrosh\\Anaconda3\\lib\\site-packages\\statsmodels\\base\\model.py:548: HessianInversionWarning: Inverting hessian failed, no bse or cov_params available\n",
      "  'available', HessianInversionWarning)\n",
      "C:\\Users\\nrosh\\Anaconda3\\lib\\site-packages\\sklearn\\linear_model\\_logistic.py:940: ConvergenceWarning: lbfgs failed to converge (status=1):\n",
      "STOP: TOTAL NO. of ITERATIONS REACHED LIMIT.\n",
      "\n",
      "Increase the number of iterations (max_iter) or scale the data as shown in:\n",
      "    https://scikit-learn.org/stable/modules/preprocessing.html\n",
      "Please also refer to the documentation for alternative solver options:\n",
      "    https://scikit-learn.org/stable/modules/linear_model.html#logistic-regression\n",
      "  extra_warning_msg=_LOGISTIC_SOLVER_CONVERGENCE_MSG)\n",
      "C:\\Users\\nrosh\\Anaconda3\\lib\\site-packages\\scipy\\stats\\_distn_infrastructure.py:903: RuntimeWarning: invalid value encountered in greater\n",
      "  return (a < x) & (x < b)\n",
      "C:\\Users\\nrosh\\Anaconda3\\lib\\site-packages\\scipy\\stats\\_distn_infrastructure.py:903: RuntimeWarning: invalid value encountered in less\n",
      "  return (a < x) & (x < b)\n",
      "C:\\Users\\nrosh\\Anaconda3\\lib\\site-packages\\scipy\\stats\\_distn_infrastructure.py:1912: RuntimeWarning: invalid value encountered in less_equal\n",
      "  cond2 = cond0 & (x <= _a)\n"
     ]
    }
   ],
   "source": [
    "# load model and performance parameters\n",
    "lgst_model, lgst_mod_cm_score, lgst_mod_auc_score, mod_precision, sig_features = statsmodel_ols_lgst('statsmodels', 'lgst', X_train, X_test, y_train, y_test, 0.5)\n",
    "\n",
    "# save model results\n",
    "modeling_results.save({\n",
    "    \"Model\": [\"Logit\"],\n",
    "    \"Transformation Method\": [\"Transform continuous, scale count and discrete\"],\n",
    "    \"AUC\": [lgst_mod_auc_score],\n",
    "    \"AIC\": [lgst_model.aic],\n",
    "    \"R2\": [lgst_model.prsquared],\n",
    "    \"Precision\": [mod_precision],\n",
    "    \"Sig. features\": [len(sig_features)],\n",
    "    \"Notes\": [\"Failed to converge on scaled continuous and count features\"]\n",
    "})\n",
    "\n",
    "sig_feature_sets[\"transformed_scaled_lgst\"] = sig_features"
   ]
  },
  {
   "cell_type": "code",
   "execution_count": 37,
   "metadata": {},
   "outputs": [
    {
     "data": {
      "text/html": [
       "<div>\n",
       "<style scoped>\n",
       "    .dataframe tbody tr th:only-of-type {\n",
       "        vertical-align: middle;\n",
       "    }\n",
       "\n",
       "    .dataframe tbody tr th {\n",
       "        vertical-align: top;\n",
       "    }\n",
       "\n",
       "    .dataframe thead th {\n",
       "        text-align: right;\n",
       "    }\n",
       "</style>\n",
       "<table border=\"1\" class=\"dataframe\">\n",
       "  <thead>\n",
       "    <tr style=\"text-align: right;\">\n",
       "      <th></th>\n",
       "      <th>Model</th>\n",
       "      <th>Transformation Method</th>\n",
       "      <th>AUC</th>\n",
       "      <th>AIC</th>\n",
       "      <th>R2</th>\n",
       "      <th>Precision</th>\n",
       "      <th>Sig. features</th>\n",
       "      <th>Notes</th>\n",
       "    </tr>\n",
       "  </thead>\n",
       "  <tbody>\n",
       "    <tr>\n",
       "      <th>0</th>\n",
       "      <td>LinReg</td>\n",
       "      <td>None</td>\n",
       "      <td>0.777698</td>\n",
       "      <td>1258.385895</td>\n",
       "      <td>0.433649</td>\n",
       "      <td>0.859375</td>\n",
       "      <td>17</td>\n",
       "      <td>Failed to converge on unscaled/transformed var...</td>\n",
       "    </tr>\n",
       "    <tr>\n",
       "      <th>0</th>\n",
       "      <td>Lgst</td>\n",
       "      <td>Scale all</td>\n",
       "      <td>0.500000</td>\n",
       "      <td>2037.900739</td>\n",
       "      <td>-0.019709</td>\n",
       "      <td>0.673511</td>\n",
       "      <td>0</td>\n",
       "      <td>Failed to converge on scaled continuous and co...</td>\n",
       "    </tr>\n",
       "    <tr>\n",
       "      <th>0</th>\n",
       "      <td>LinReg</td>\n",
       "      <td>Scale all</td>\n",
       "      <td>0.777698</td>\n",
       "      <td>1258.385895</td>\n",
       "      <td>0.433649</td>\n",
       "      <td>0.859375</td>\n",
       "      <td>18</td>\n",
       "      <td>Failed to converge scaled continuous and count...</td>\n",
       "    </tr>\n",
       "    <tr>\n",
       "      <th>0</th>\n",
       "      <td>Logit</td>\n",
       "      <td>Scale all</td>\n",
       "      <td>0.763499</td>\n",
       "      <td>1112.265788</td>\n",
       "      <td>0.486691</td>\n",
       "      <td>0.846626</td>\n",
       "      <td>0</td>\n",
       "      <td>Failed to converge scaled continuous and count...</td>\n",
       "    </tr>\n",
       "    <tr>\n",
       "      <th>0</th>\n",
       "      <td>LinReg</td>\n",
       "      <td>Transform continuous, scale count and discrete</td>\n",
       "      <td>0.781322</td>\n",
       "      <td>1233.197962</td>\n",
       "      <td>0.443342</td>\n",
       "      <td>0.871711</td>\n",
       "      <td>15</td>\n",
       "      <td>Failed to converge on transformed continuous, ...</td>\n",
       "    </tr>\n",
       "    <tr>\n",
       "      <th>0</th>\n",
       "      <td>Logit</td>\n",
       "      <td>Transform continuous, scale count and discrete</td>\n",
       "      <td>0.774553</td>\n",
       "      <td>1103.942835</td>\n",
       "      <td>0.491244</td>\n",
       "      <td>0.856698</td>\n",
       "      <td>0</td>\n",
       "      <td>Failed to converge on scaled continuous and co...</td>\n",
       "    </tr>\n",
       "  </tbody>\n",
       "</table>\n",
       "</div>"
      ],
      "text/plain": [
       "    Model                           Transformation Method       AUC  \\\n",
       "0  LinReg                                            None  0.777698   \n",
       "0    Lgst                                       Scale all  0.500000   \n",
       "0  LinReg                                       Scale all  0.777698   \n",
       "0   Logit                                       Scale all  0.763499   \n",
       "0  LinReg  Transform continuous, scale count and discrete  0.781322   \n",
       "0   Logit  Transform continuous, scale count and discrete  0.774553   \n",
       "\n",
       "           AIC        R2  Precision Sig. features  \\\n",
       "0  1258.385895  0.433649   0.859375            17   \n",
       "0  2037.900739 -0.019709   0.673511             0   \n",
       "0  1258.385895  0.433649   0.859375            18   \n",
       "0  1112.265788  0.486691   0.846626             0   \n",
       "0  1233.197962  0.443342   0.871711            15   \n",
       "0  1103.942835  0.491244   0.856698             0   \n",
       "\n",
       "                                               Notes  \n",
       "0  Failed to converge on unscaled/transformed var...  \n",
       "0  Failed to converge on scaled continuous and co...  \n",
       "0  Failed to converge scaled continuous and count...  \n",
       "0  Failed to converge scaled continuous and count...  \n",
       "0  Failed to converge on transformed continuous, ...  \n",
       "0  Failed to converge on scaled continuous and co...  "
      ]
     },
     "execution_count": 37,
     "metadata": {},
     "output_type": "execute_result"
    }
   ],
   "source": [
    "# Save results\n",
    "file = \"A2 - Optimization Performance Report.csv\"\n",
    "modeling_results.export_csv(file)\n",
    "\n",
    "# Observe all performance\n",
    "modeling_results.display()"
   ]
  },
  {
   "cell_type": "code",
   "execution_count": 38,
   "metadata": {},
   "outputs": [
    {
     "data": {
      "text/html": [
       "<div>\n",
       "<style scoped>\n",
       "    .dataframe tbody tr th:only-of-type {\n",
       "        vertical-align: middle;\n",
       "    }\n",
       "\n",
       "    .dataframe tbody tr th {\n",
       "        vertical-align: top;\n",
       "    }\n",
       "\n",
       "    .dataframe thead th {\n",
       "        text-align: right;\n",
       "    }\n",
       "</style>\n",
       "<table border=\"1\" class=\"dataframe\">\n",
       "  <thead>\n",
       "    <tr style=\"text-align: right;\">\n",
       "      <th></th>\n",
       "      <th>r_squared</th>\n",
       "      <th>vif</th>\n",
       "    </tr>\n",
       "  </thead>\n",
       "  <tbody>\n",
       "  </tbody>\n",
       "</table>\n",
       "</div>"
      ],
      "text/plain": [
       "Empty DataFrame\n",
       "Columns: [r_squared, vif]\n",
       "Index: []"
      ]
     },
     "execution_count": 38,
     "metadata": {},
     "output_type": "execute_result"
    }
   ],
   "source": [
    "vim_multicollinearity(df_transformed_cont_scaled_count_disc.loc[:, sig_features])"
   ]
  },
  {
   "cell_type": "code",
   "execution_count": 39,
   "metadata": {},
   "outputs": [
    {
     "data": {
      "text/html": [
       "<table class=\"simpletable\">\n",
       "<caption>OLS Regression Results</caption>\n",
       "<tr>\n",
       "  <th>Dep. Variable:</th>     <td>HWT_SUBSCRIBER</td>  <th>  R-squared:         </th> <td>   0.443</td> \n",
       "</tr>\n",
       "<tr>\n",
       "  <th>Model:</th>                   <td>OLS</td>       <th>  Adj. R-squared:    </th> <td>   0.408</td> \n",
       "</tr>\n",
       "<tr>\n",
       "  <th>Method:</th>             <td>Least Squares</td>  <th>  F-statistic:       </th> <td>   12.71</td> \n",
       "</tr>\n",
       "<tr>\n",
       "  <th>Date:</th>             <td>Sun, 15 Mar 2020</td> <th>  Prob (F-statistic):</th> <td>1.62e-121</td>\n",
       "</tr>\n",
       "<tr>\n",
       "  <th>Time:</th>                 <td>23:18:56</td>     <th>  Log-Likelihood:    </th> <td> -529.60</td> \n",
       "</tr>\n",
       "<tr>\n",
       "  <th>No. Observations:</th>      <td>  1459</td>      <th>  AIC:               </th> <td>   1233.</td> \n",
       "</tr>\n",
       "<tr>\n",
       "  <th>Df Residuals:</th>          <td>  1372</td>      <th>  BIC:               </th> <td>   1693.</td> \n",
       "</tr>\n",
       "<tr>\n",
       "  <th>Df Model:</th>              <td>    86</td>      <th>                     </th>     <td> </td>    \n",
       "</tr>\n",
       "<tr>\n",
       "  <th>Covariance Type:</th>      <td>nonrobust</td>    <th>                     </th>     <td> </td>    \n",
       "</tr>\n",
       "</table>\n",
       "<table class=\"simpletable\">\n",
       "<tr>\n",
       "                        <td></td>                          <th>coef</th>     <th>std err</th>      <th>t</th>      <th>P>|t|</th>  <th>[0.025</th>    <th>0.975]</th>  \n",
       "</tr>\n",
       "<tr>\n",
       "  <th>REVENUE</th>                                      <td>   -0.0723</td> <td>    0.041</td> <td>   -1.754</td> <td> 0.080</td> <td>   -0.153</td> <td>    0.009</td>\n",
       "</tr>\n",
       "<tr>\n",
       "  <th>TOTAL_MEALS_ORDERED</th>                          <td>   -0.2163</td> <td>    0.188</td> <td>   -1.152</td> <td> 0.250</td> <td>   -0.585</td> <td>    0.152</td>\n",
       "</tr>\n",
       "<tr>\n",
       "  <th>UNIQUE_MEALS_PURCH</th>                           <td>    0.1908</td> <td>    0.115</td> <td>    1.660</td> <td> 0.097</td> <td>   -0.035</td> <td>    0.416</td>\n",
       "</tr>\n",
       "<tr>\n",
       "  <th>CUSTOMER_SERVICE_TICKETS_CNT</th>                 <td>    0.1752</td> <td>    0.092</td> <td>    1.906</td> <td> 0.057</td> <td>   -0.005</td> <td>    0.356</td>\n",
       "</tr>\n",
       "<tr>\n",
       "  <th>PRODUCT_CATEGORIES_VIEWED</th>                    <td>    0.0172</td> <td>    0.029</td> <td>    0.593</td> <td> 0.553</td> <td>   -0.040</td> <td>    0.074</td>\n",
       "</tr>\n",
       "<tr>\n",
       "  <th>SITE_VISIT_TIME_PER_VISIT_AVG</th>                <td>    0.0417</td> <td>    0.044</td> <td>    0.945</td> <td> 0.345</td> <td>   -0.045</td> <td>    0.128</td>\n",
       "</tr>\n",
       "<tr>\n",
       "  <th>MOBILE_REGISTRATION</th>                          <td>    0.1165</td> <td>    0.030</td> <td>    3.941</td> <td> 0.000</td> <td>    0.059</td> <td>    0.175</td>\n",
       "</tr>\n",
       "<tr>\n",
       "  <th>MEALS_CANCEL_BEFORE_NOON</th>                     <td>    0.4318</td> <td>    0.091</td> <td>    4.744</td> <td> 0.000</td> <td>    0.253</td> <td>    0.610</td>\n",
       "</tr>\n",
       "<tr>\n",
       "  <th>MEALS_CANCEL_AFTER_NOON</th>                      <td>   -0.1359</td> <td>    0.066</td> <td>   -2.059</td> <td> 0.040</td> <td>   -0.265</td> <td>   -0.006</td>\n",
       "</tr>\n",
       "<tr>\n",
       "  <th>SPECIFIED_TASTE_AND_PREFERENCES</th>              <td>    0.0759</td> <td>    0.021</td> <td>    3.577</td> <td> 0.000</td> <td>    0.034</td> <td>    0.118</td>\n",
       "</tr>\n",
       "<tr>\n",
       "  <th>PC_LOGINS_CNT</th>                                <td>    0.0916</td> <td>    0.050</td> <td>    1.834</td> <td> 0.067</td> <td>   -0.006</td> <td>    0.190</td>\n",
       "</tr>\n",
       "<tr>\n",
       "  <th>MOBILE_LOGINS_CNT</th>                            <td>   -0.0388</td> <td>    0.018</td> <td>   -2.102</td> <td> 0.036</td> <td>   -0.075</td> <td>   -0.003</td>\n",
       "</tr>\n",
       "<tr>\n",
       "  <th>WEEKS_SUBSCRIBED_TO_WEEKLY_PLAN_CNT</th>          <td>   -0.0694</td> <td>    0.141</td> <td>   -0.493</td> <td> 0.622</td> <td>   -0.346</td> <td>    0.207</td>\n",
       "</tr>\n",
       "<tr>\n",
       "  <th>ORDERS_DELIVERED_BEFORE_DELIVERY_CNT</th>         <td>    0.0109</td> <td>    0.046</td> <td>    0.236</td> <td> 0.813</td> <td>   -0.080</td> <td>    0.102</td>\n",
       "</tr>\n",
       "<tr>\n",
       "  <th>ORDERS_DELIVERED_AFTER_DELIVERY_CNT</th>          <td>   -0.0504</td> <td>    0.088</td> <td>   -0.571</td> <td> 0.568</td> <td>   -0.224</td> <td>    0.123</td>\n",
       "</tr>\n",
       "<tr>\n",
       "  <th>PACKAGE_ROOM_AT_CUSTOMER</th>                     <td>    0.0114</td> <td>    0.023</td> <td>    0.496</td> <td> 0.620</td> <td>   -0.034</td> <td>    0.057</td>\n",
       "</tr>\n",
       "<tr>\n",
       "  <th>FRIDGE_LOCKER_IN_PACKAGE_ROOM</th>                <td>    0.0165</td> <td>    0.017</td> <td>    0.945</td> <td> 0.345</td> <td>   -0.018</td> <td>    0.051</td>\n",
       "</tr>\n",
       "<tr>\n",
       "  <th>PRCNT_FOLLOWED_MEAL_RECOM_WEB_MOBILE</th>         <td>   -0.0683</td> <td>    0.012</td> <td>   -5.628</td> <td> 0.000</td> <td>   -0.092</td> <td>   -0.044</td>\n",
       "</tr>\n",
       "<tr>\n",
       "  <th>SECONDS_WATCHING_PREP_VID_AVG</th>                <td>    0.0554</td> <td>    0.067</td> <td>    0.823</td> <td> 0.411</td> <td>   -0.077</td> <td>    0.187</td>\n",
       "</tr>\n",
       "<tr>\n",
       "  <th>LARGEST_ORDER_SIZE</th>                           <td>   -0.1017</td> <td>    0.131</td> <td>   -0.776</td> <td> 0.438</td> <td>   -0.359</td> <td>    0.155</td>\n",
       "</tr>\n",
       "<tr>\n",
       "  <th>MASTER_CLASSES_ATTENDED_CNT</th>                  <td>    0.0123</td> <td>    0.055</td> <td>    0.226</td> <td> 0.821</td> <td>   -0.095</td> <td>    0.119</td>\n",
       "</tr>\n",
       "<tr>\n",
       "  <th>MEAL_RATING_MEDIAN</th>                           <td>   -0.1063</td> <td>    0.116</td> <td>   -0.920</td> <td> 0.358</td> <td>   -0.333</td> <td>    0.120</td>\n",
       "</tr>\n",
       "<tr>\n",
       "  <th>SITE_CLICKS_PER_VISIT_AVG</th>                    <td>   -0.1614</td> <td>    0.120</td> <td>   -1.342</td> <td> 0.180</td> <td>   -0.397</td> <td>    0.075</td>\n",
       "</tr>\n",
       "<tr>\n",
       "  <th>PHOTOS_VIEWED_COUNT</th>                          <td>    0.1096</td> <td>    0.148</td> <td>    0.742</td> <td> 0.458</td> <td>   -0.180</td> <td>    0.399</td>\n",
       "</tr>\n",
       "<tr>\n",
       "  <th>missing_FAMILY_NAME</th>                          <td>    0.0938</td> <td>    0.061</td> <td>    1.546</td> <td> 0.122</td> <td>   -0.025</td> <td>    0.213</td>\n",
       "</tr>\n",
       "<tr>\n",
       "  <th>fe_MEAL_CHOICE_SPECIFICITY</th>                   <td>   -0.5576</td> <td>    0.263</td> <td>   -2.119</td> <td> 0.034</td> <td>   -1.074</td> <td>   -0.041</td>\n",
       "</tr>\n",
       "<tr>\n",
       "  <th>fe_SITE_CLICK_RATE</th>                           <td>    0.0610</td> <td>    0.209</td> <td>    0.293</td> <td> 0.770</td> <td>   -0.348</td> <td>    0.470</td>\n",
       "</tr>\n",
       "<tr>\n",
       "  <th>fe_SUBSCRIPTIONS_SYNERGY</th>                     <td>   -0.1171</td> <td>    0.053</td> <td>   -2.208</td> <td> 0.027</td> <td>   -0.221</td> <td>   -0.013</td>\n",
       "</tr>\n",
       "<tr>\n",
       "  <th>fe_ONLY_HWT_CUSTOMER</th>                         <td>    0.0153</td> <td>    0.030</td> <td>    0.503</td> <td> 0.615</td> <td>   -0.044</td> <td>    0.075</td>\n",
       "</tr>\n",
       "<tr>\n",
       "  <th>fe_WP_INACTIVE_SUB</th>                           <td>    0.4401</td> <td>    0.227</td> <td>    1.941</td> <td> 0.053</td> <td>   -0.005</td> <td>    0.885</td>\n",
       "</tr>\n",
       "<tr>\n",
       "  <th>fe_WP_BASIC_SUB</th>                              <td>    0.4107</td> <td>    0.226</td> <td>    1.816</td> <td> 0.070</td> <td>   -0.033</td> <td>    0.854</td>\n",
       "</tr>\n",
       "<tr>\n",
       "  <th>fe_WP_PREMIUM_SUB</th>                            <td>    0.4872</td> <td>    0.226</td> <td>    2.151</td> <td> 0.032</td> <td>    0.043</td> <td>    0.931</td>\n",
       "</tr>\n",
       "<tr>\n",
       "  <th>out_REVENUE_hi</th>                               <td> 6.563e-05</td> <td>    0.054</td> <td>    0.001</td> <td> 0.999</td> <td>   -0.106</td> <td>    0.106</td>\n",
       "</tr>\n",
       "<tr>\n",
       "  <th>out_TOTAL_MEALS_ORDERED_hi</th>                   <td>   -0.0339</td> <td>    0.066</td> <td>   -0.515</td> <td> 0.606</td> <td>   -0.163</td> <td>    0.095</td>\n",
       "</tr>\n",
       "<tr>\n",
       "  <th>out_UNIQUE_MEALS_PURCH_hi</th>                    <td>   -0.1231</td> <td>    0.226</td> <td>   -0.544</td> <td> 0.587</td> <td>   -0.567</td> <td>    0.321</td>\n",
       "</tr>\n",
       "<tr>\n",
       "  <th>out_CUSTOMER_SERVICE_TICKETS_CNT_hi</th>          <td>   -0.4587</td> <td>    0.267</td> <td>   -1.715</td> <td> 0.087</td> <td>   -0.983</td> <td>    0.066</td>\n",
       "</tr>\n",
       "<tr>\n",
       "  <th>out_MEALS_CANCEL_BEFORE_NOON_hi</th>              <td>   -0.0609</td> <td>    0.117</td> <td>   -0.520</td> <td> 0.603</td> <td>   -0.291</td> <td>    0.169</td>\n",
       "</tr>\n",
       "<tr>\n",
       "  <th>out_WEEKS_SUBSCRIBED_TO_WEEKLY_PLAN_CNT_hi</th>   <td>   -0.0344</td> <td>    0.067</td> <td>   -0.513</td> <td> 0.608</td> <td>   -0.166</td> <td>    0.097</td>\n",
       "</tr>\n",
       "<tr>\n",
       "  <th>out_ORDERS_DELIVERED_BEFORE_DELIVERY_CNT_hi</th>  <td>    0.0074</td> <td>    0.065</td> <td>    0.114</td> <td> 0.909</td> <td>   -0.120</td> <td>    0.134</td>\n",
       "</tr>\n",
       "<tr>\n",
       "  <th>out_ORDERS_DELIVERED_AFTER_DELIVERY_CNT_hi</th>   <td>    0.0616</td> <td>    0.059</td> <td>    1.037</td> <td> 0.300</td> <td>   -0.055</td> <td>    0.178</td>\n",
       "</tr>\n",
       "<tr>\n",
       "  <th>trend_FRIDGE_LOCKER_IN_PACKAGE_ROOM</th>          <td>    0.0165</td> <td>    0.017</td> <td>    0.945</td> <td> 0.345</td> <td>   -0.018</td> <td>    0.051</td>\n",
       "</tr>\n",
       "<tr>\n",
       "  <th>flag_PRCNT_FOLLOWED_MEAL_RECOM_WEB_MOBILE_hi</th> <td>    0.6004</td> <td>    0.029</td> <td>   20.720</td> <td> 0.000</td> <td>    0.544</td> <td>    0.657</td>\n",
       "</tr>\n",
       "<tr>\n",
       "  <th>out_SECONDS_WATCHING_PREP_VID_AVG_hi</th>         <td>    0.1503</td> <td>    0.091</td> <td>    1.655</td> <td> 0.098</td> <td>   -0.028</td> <td>    0.328</td>\n",
       "</tr>\n",
       "<tr>\n",
       "  <th>out_LARGEST_ORDER_SIZE_hi</th>                    <td>   -0.0044</td> <td>    0.090</td> <td>   -0.049</td> <td> 0.961</td> <td>   -0.180</td> <td>    0.171</td>\n",
       "</tr>\n",
       "<tr>\n",
       "  <th>out_MASTER_CLASSES_ATTENDED_CNT_hi</th>           <td>   -0.3865</td> <td>    0.169</td> <td>   -2.291</td> <td> 0.022</td> <td>   -0.717</td> <td>   -0.056</td>\n",
       "</tr>\n",
       "<tr>\n",
       "  <th>out_MEAL_RATING_MEDIAN_hi</th>                    <td>    0.1497</td> <td>    0.168</td> <td>    0.892</td> <td> 0.373</td> <td>   -0.179</td> <td>    0.479</td>\n",
       "</tr>\n",
       "<tr>\n",
       "  <th>out_SITE_CLICKS_PER_VISIT_AVG_lo</th>             <td>   -0.2322</td> <td>    0.245</td> <td>   -0.947</td> <td> 0.344</td> <td>   -0.713</td> <td>    0.249</td>\n",
       "</tr>\n",
       "<tr>\n",
       "  <th>out_PHOTOS_VIEWED_COUNT_hi</th>                   <td>   -0.0315</td> <td>    0.060</td> <td>   -0.526</td> <td> 0.599</td> <td>   -0.149</td> <td>    0.086</td>\n",
       "</tr>\n",
       "<tr>\n",
       "  <th>out_fe_MEAL_CHOICE_SPECIFICITY_hi</th>            <td>    0.0353</td> <td>    0.078</td> <td>    0.449</td> <td> 0.653</td> <td>   -0.119</td> <td>    0.189</td>\n",
       "</tr>\n",
       "<tr>\n",
       "  <th>out_fe_SITE_CLICK_RATE_hi</th>                    <td>   -0.0667</td> <td>    0.069</td> <td>   -0.971</td> <td> 0.332</td> <td>   -0.201</td> <td>    0.068</td>\n",
       "</tr>\n",
       "<tr>\n",
       "  <th>fe_CUSTOMER_COMPANY_aol</th>                      <td>   -0.0469</td> <td>    0.055</td> <td>   -0.853</td> <td> 0.394</td> <td>   -0.155</td> <td>    0.061</td>\n",
       "</tr>\n",
       "<tr>\n",
       "  <th>fe_CUSTOMER_COMPANY_apple</th>                    <td>   -0.1222</td> <td>    0.111</td> <td>   -1.100</td> <td> 0.272</td> <td>   -0.340</td> <td>    0.096</td>\n",
       "</tr>\n",
       "<tr>\n",
       "  <th>fe_CUSTOMER_COMPANY_boeing</th>                   <td>   -0.0234</td> <td>    0.118</td> <td>   -0.198</td> <td> 0.843</td> <td>   -0.255</td> <td>    0.208</td>\n",
       "</tr>\n",
       "<tr>\n",
       "  <th>fe_CUSTOMER_COMPANY_caterpillar</th>              <td>    0.0395</td> <td>    0.118</td> <td>    0.336</td> <td> 0.737</td> <td>   -0.192</td> <td>    0.271</td>\n",
       "</tr>\n",
       "<tr>\n",
       "  <th>fe_CUSTOMER_COMPANY_chevron</th>                  <td>   -0.0348</td> <td>    0.111</td> <td>   -0.314</td> <td> 0.753</td> <td>   -0.252</td> <td>    0.183</td>\n",
       "</tr>\n",
       "<tr>\n",
       "  <th>fe_CUSTOMER_COMPANY_cisco</th>                    <td>   -0.0126</td> <td>    0.128</td> <td>   -0.099</td> <td> 0.922</td> <td>   -0.263</td> <td>    0.238</td>\n",
       "</tr>\n",
       "<tr>\n",
       "  <th>fe_CUSTOMER_COMPANY_cocacola</th>                 <td>   -0.0472</td> <td>    0.112</td> <td>   -0.423</td> <td> 0.672</td> <td>   -0.266</td> <td>    0.172</td>\n",
       "</tr>\n",
       "<tr>\n",
       "  <th>fe_CUSTOMER_COMPANY_disney</th>                   <td>   -0.0416</td> <td>    0.120</td> <td>   -0.348</td> <td> 0.728</td> <td>   -0.276</td> <td>    0.193</td>\n",
       "</tr>\n",
       "<tr>\n",
       "  <th>fe_CUSTOMER_COMPANY_dupont</th>                   <td>   -0.0821</td> <td>    0.116</td> <td>   -0.710</td> <td> 0.478</td> <td>   -0.309</td> <td>    0.145</td>\n",
       "</tr>\n",
       "<tr>\n",
       "  <th>fe_CUSTOMER_COMPANY_exxon</th>                    <td>   -0.1766</td> <td>    0.118</td> <td>   -1.501</td> <td> 0.134</td> <td>   -0.407</td> <td>    0.054</td>\n",
       "</tr>\n",
       "<tr>\n",
       "  <th>fe_CUSTOMER_COMPANY_ge</th>                       <td>    0.4232</td> <td>    0.199</td> <td>    2.128</td> <td> 0.033</td> <td>    0.033</td> <td>    0.813</td>\n",
       "</tr>\n",
       "<tr>\n",
       "  <th>fe_CUSTOMER_COMPANY_gmail</th>                    <td>    0.0900</td> <td>    0.051</td> <td>    1.767</td> <td> 0.077</td> <td>   -0.010</td> <td>    0.190</td>\n",
       "</tr>\n",
       "<tr>\n",
       "  <th>fe_CUSTOMER_COMPANY_goldmansacs</th>              <td>    0.0652</td> <td>    0.128</td> <td>    0.511</td> <td> 0.609</td> <td>   -0.185</td> <td>    0.315</td>\n",
       "</tr>\n",
       "<tr>\n",
       "  <th>fe_CUSTOMER_COMPANY_homedepot</th>                <td>   -0.2386</td> <td>    0.129</td> <td>   -1.850</td> <td> 0.064</td> <td>   -0.492</td> <td>    0.014</td>\n",
       "</tr>\n",
       "<tr>\n",
       "  <th>fe_CUSTOMER_COMPANY_hotmail</th>                  <td>   -0.0292</td> <td>    0.057</td> <td>   -0.513</td> <td> 0.608</td> <td>   -0.141</td> <td>    0.083</td>\n",
       "</tr>\n",
       "<tr>\n",
       "  <th>fe_CUSTOMER_COMPANY_ibm</th>                      <td>   -0.1207</td> <td>    0.110</td> <td>   -1.097</td> <td> 0.273</td> <td>   -0.337</td> <td>    0.095</td>\n",
       "</tr>\n",
       "<tr>\n",
       "  <th>fe_CUSTOMER_COMPANY_intel</th>                    <td>    0.1289</td> <td>    0.139</td> <td>    0.931</td> <td> 0.352</td> <td>   -0.143</td> <td>    0.401</td>\n",
       "</tr>\n",
       "<tr>\n",
       "  <th>fe_CUSTOMER_COMPANY_jnj</th>                      <td>   -0.1196</td> <td>    0.112</td> <td>   -1.069</td> <td> 0.285</td> <td>   -0.339</td> <td>    0.100</td>\n",
       "</tr>\n",
       "<tr>\n",
       "  <th>fe_CUSTOMER_COMPANY_jpmorgan</th>                 <td>    0.0368</td> <td>    0.123</td> <td>    0.301</td> <td> 0.764</td> <td>   -0.204</td> <td>    0.277</td>\n",
       "</tr>\n",
       "<tr>\n",
       "  <th>fe_CUSTOMER_COMPANY_live</th>                     <td>    0.0100</td> <td>    0.057</td> <td>    0.177</td> <td> 0.860</td> <td>   -0.101</td> <td>    0.121</td>\n",
       "</tr>\n",
       "<tr>\n",
       "  <th>fe_CUSTOMER_COMPANY_mcdonalds</th>                <td>   -0.1336</td> <td>    0.110</td> <td>   -1.219</td> <td> 0.223</td> <td>   -0.349</td> <td>    0.081</td>\n",
       "</tr>\n",
       "<tr>\n",
       "  <th>fe_CUSTOMER_COMPANY_me</th>                       <td>    0.0993</td> <td>    0.056</td> <td>    1.765</td> <td> 0.078</td> <td>   -0.011</td> <td>    0.210</td>\n",
       "</tr>\n",
       "<tr>\n",
       "  <th>fe_CUSTOMER_COMPANY_merck</th>                    <td>    0.0493</td> <td>    0.111</td> <td>    0.446</td> <td> 0.656</td> <td>   -0.168</td> <td>    0.266</td>\n",
       "</tr>\n",
       "<tr>\n",
       "  <th>fe_CUSTOMER_COMPANY_microsoft</th>                <td>    0.0968</td> <td>    0.114</td> <td>    0.848</td> <td> 0.397</td> <td>   -0.127</td> <td>    0.321</td>\n",
       "</tr>\n",
       "<tr>\n",
       "  <th>fe_CUSTOMER_COMPANY_mmm</th>                      <td>    0.1860</td> <td>    0.115</td> <td>    1.616</td> <td> 0.106</td> <td>   -0.040</td> <td>    0.412</td>\n",
       "</tr>\n",
       "<tr>\n",
       "  <th>fe_CUSTOMER_COMPANY_msn</th>                      <td>    0.0335</td> <td>    0.053</td> <td>    0.639</td> <td> 0.523</td> <td>   -0.069</td> <td>    0.137</td>\n",
       "</tr>\n",
       "<tr>\n",
       "  <th>fe_CUSTOMER_COMPANY_nike</th>                     <td>   -0.1112</td> <td>    0.121</td> <td>   -0.923</td> <td> 0.356</td> <td>   -0.348</td> <td>    0.125</td>\n",
       "</tr>\n",
       "<tr>\n",
       "  <th>fe_CUSTOMER_COMPANY_passport</th>                 <td>    0.1063</td> <td>    0.055</td> <td>    1.926</td> <td> 0.054</td> <td>   -0.002</td> <td>    0.215</td>\n",
       "</tr>\n",
       "<tr>\n",
       "  <th>fe_CUSTOMER_COMPANY_pfizer</th>                   <td>    0.0502</td> <td>    0.124</td> <td>    0.405</td> <td> 0.685</td> <td>   -0.193</td> <td>    0.293</td>\n",
       "</tr>\n",
       "<tr>\n",
       "  <th>fe_CUSTOMER_COMPANY_pg</th>                       <td>    0.1631</td> <td>    0.116</td> <td>    1.405</td> <td> 0.160</td> <td>   -0.065</td> <td>    0.391</td>\n",
       "</tr>\n",
       "<tr>\n",
       "  <th>fe_CUSTOMER_COMPANY_protonmail</th>               <td>    0.1170</td> <td>    0.051</td> <td>    2.315</td> <td> 0.021</td> <td>    0.018</td> <td>    0.216</td>\n",
       "</tr>\n",
       "<tr>\n",
       "  <th>fe_CUSTOMER_COMPANY_travelers</th>                <td>   -0.2299</td> <td>    0.117</td> <td>   -1.973</td> <td> 0.049</td> <td>   -0.459</td> <td>   -0.001</td>\n",
       "</tr>\n",
       "<tr>\n",
       "  <th>fe_CUSTOMER_COMPANY_unitedhealth</th>             <td>   -0.0015</td> <td>    0.113</td> <td>   -0.013</td> <td> 0.990</td> <td>   -0.223</td> <td>    0.220</td>\n",
       "</tr>\n",
       "<tr>\n",
       "  <th>fe_CUSTOMER_COMPANY_unitedtech</th>               <td>    0.0699</td> <td>    0.128</td> <td>    0.546</td> <td> 0.585</td> <td>   -0.181</td> <td>    0.321</td>\n",
       "</tr>\n",
       "<tr>\n",
       "  <th>fe_CUSTOMER_COMPANY_verizon</th>                  <td>    0.0133</td> <td>    0.116</td> <td>    0.115</td> <td> 0.909</td> <td>   -0.214</td> <td>    0.241</td>\n",
       "</tr>\n",
       "<tr>\n",
       "  <th>fe_CUSTOMER_COMPANY_visa</th>                     <td>   -0.0525</td> <td>    0.123</td> <td>   -0.425</td> <td> 0.671</td> <td>   -0.295</td> <td>    0.190</td>\n",
       "</tr>\n",
       "<tr>\n",
       "  <th>fe_CUSTOMER_COMPANY_walmart</th>                  <td>   -0.0266</td> <td>    0.121</td> <td>   -0.220</td> <td> 0.826</td> <td>   -0.264</td> <td>    0.211</td>\n",
       "</tr>\n",
       "<tr>\n",
       "  <th>fe_CUSTOMER_COMPANY_yahoo</th>                    <td>    0.0695</td> <td>    0.052</td> <td>    1.331</td> <td> 0.183</td> <td>   -0.033</td> <td>    0.172</td>\n",
       "</tr>\n",
       "<tr>\n",
       "  <th>fe_CUSTOMER_DOMAIN_junk_domain</th>               <td>    0.1730</td> <td>    0.162</td> <td>    1.071</td> <td> 0.285</td> <td>   -0.144</td> <td>    0.490</td>\n",
       "</tr>\n",
       "<tr>\n",
       "  <th>fe_CUSTOMER_DOMAIN_personal_domain</th>           <td>    0.2765</td> <td>    0.141</td> <td>    1.960</td> <td> 0.050</td> <td>   -0.000</td> <td>    0.553</td>\n",
       "</tr>\n",
       "<tr>\n",
       "  <th>fe_CUSTOMER_DOMAIN_professional_domain</th>       <td>    0.4654</td> <td>    0.199</td> <td>    2.343</td> <td> 0.019</td> <td>    0.076</td> <td>    0.855</td>\n",
       "</tr>\n",
       "</table>\n",
       "<table class=\"simpletable\">\n",
       "<tr>\n",
       "  <th>Omnibus:</th>       <td>100.538</td> <th>  Durbin-Watson:     </th> <td>   1.958</td>\n",
       "</tr>\n",
       "<tr>\n",
       "  <th>Prob(Omnibus):</th> <td> 0.000</td>  <th>  Jarque-Bera (JB):  </th> <td>  39.217</td>\n",
       "</tr>\n",
       "<tr>\n",
       "  <th>Skew:</th>          <td> 0.141</td>  <th>  Prob(JB):          </th> <td>3.05e-09</td>\n",
       "</tr>\n",
       "<tr>\n",
       "  <th>Kurtosis:</th>      <td> 2.248</td>  <th>  Cond. No.          </th> <td>9.51e+16</td>\n",
       "</tr>\n",
       "</table><br/><br/>Warnings:<br/>[1] Standard Errors assume that the covariance matrix of the errors is correctly specified.<br/>[2] The smallest eigenvalue is 1.91e-29. This might indicate that there are<br/>strong multicollinearity problems or that the design matrix is singular."
      ],
      "text/plain": [
       "<class 'statsmodels.iolib.summary.Summary'>\n",
       "\"\"\"\n",
       "                            OLS Regression Results                            \n",
       "==============================================================================\n",
       "Dep. Variable:         HWT_SUBSCRIBER   R-squared:                       0.443\n",
       "Model:                            OLS   Adj. R-squared:                  0.408\n",
       "Method:                 Least Squares   F-statistic:                     12.71\n",
       "Date:                Sun, 15 Mar 2020   Prob (F-statistic):          1.62e-121\n",
       "Time:                        23:18:56   Log-Likelihood:                -529.60\n",
       "No. Observations:                1459   AIC:                             1233.\n",
       "Df Residuals:                    1372   BIC:                             1693.\n",
       "Df Model:                          86                                         \n",
       "Covariance Type:            nonrobust                                         \n",
       "================================================================================================================\n",
       "                                                   coef    std err          t      P>|t|      [0.025      0.975]\n",
       "----------------------------------------------------------------------------------------------------------------\n",
       "REVENUE                                         -0.0723      0.041     -1.754      0.080      -0.153       0.009\n",
       "TOTAL_MEALS_ORDERED                             -0.2163      0.188     -1.152      0.250      -0.585       0.152\n",
       "UNIQUE_MEALS_PURCH                               0.1908      0.115      1.660      0.097      -0.035       0.416\n",
       "CUSTOMER_SERVICE_TICKETS_CNT                     0.1752      0.092      1.906      0.057      -0.005       0.356\n",
       "PRODUCT_CATEGORIES_VIEWED                        0.0172      0.029      0.593      0.553      -0.040       0.074\n",
       "SITE_VISIT_TIME_PER_VISIT_AVG                    0.0417      0.044      0.945      0.345      -0.045       0.128\n",
       "MOBILE_REGISTRATION                              0.1165      0.030      3.941      0.000       0.059       0.175\n",
       "MEALS_CANCEL_BEFORE_NOON                         0.4318      0.091      4.744      0.000       0.253       0.610\n",
       "MEALS_CANCEL_AFTER_NOON                         -0.1359      0.066     -2.059      0.040      -0.265      -0.006\n",
       "SPECIFIED_TASTE_AND_PREFERENCES                  0.0759      0.021      3.577      0.000       0.034       0.118\n",
       "PC_LOGINS_CNT                                    0.0916      0.050      1.834      0.067      -0.006       0.190\n",
       "MOBILE_LOGINS_CNT                               -0.0388      0.018     -2.102      0.036      -0.075      -0.003\n",
       "WEEKS_SUBSCRIBED_TO_WEEKLY_PLAN_CNT             -0.0694      0.141     -0.493      0.622      -0.346       0.207\n",
       "ORDERS_DELIVERED_BEFORE_DELIVERY_CNT             0.0109      0.046      0.236      0.813      -0.080       0.102\n",
       "ORDERS_DELIVERED_AFTER_DELIVERY_CNT             -0.0504      0.088     -0.571      0.568      -0.224       0.123\n",
       "PACKAGE_ROOM_AT_CUSTOMER                         0.0114      0.023      0.496      0.620      -0.034       0.057\n",
       "FRIDGE_LOCKER_IN_PACKAGE_ROOM                    0.0165      0.017      0.945      0.345      -0.018       0.051\n",
       "PRCNT_FOLLOWED_MEAL_RECOM_WEB_MOBILE            -0.0683      0.012     -5.628      0.000      -0.092      -0.044\n",
       "SECONDS_WATCHING_PREP_VID_AVG                    0.0554      0.067      0.823      0.411      -0.077       0.187\n",
       "LARGEST_ORDER_SIZE                              -0.1017      0.131     -0.776      0.438      -0.359       0.155\n",
       "MASTER_CLASSES_ATTENDED_CNT                      0.0123      0.055      0.226      0.821      -0.095       0.119\n",
       "MEAL_RATING_MEDIAN                              -0.1063      0.116     -0.920      0.358      -0.333       0.120\n",
       "SITE_CLICKS_PER_VISIT_AVG                       -0.1614      0.120     -1.342      0.180      -0.397       0.075\n",
       "PHOTOS_VIEWED_COUNT                              0.1096      0.148      0.742      0.458      -0.180       0.399\n",
       "missing_FAMILY_NAME                              0.0938      0.061      1.546      0.122      -0.025       0.213\n",
       "fe_MEAL_CHOICE_SPECIFICITY                      -0.5576      0.263     -2.119      0.034      -1.074      -0.041\n",
       "fe_SITE_CLICK_RATE                               0.0610      0.209      0.293      0.770      -0.348       0.470\n",
       "fe_SUBSCRIPTIONS_SYNERGY                        -0.1171      0.053     -2.208      0.027      -0.221      -0.013\n",
       "fe_ONLY_HWT_CUSTOMER                             0.0153      0.030      0.503      0.615      -0.044       0.075\n",
       "fe_WP_INACTIVE_SUB                               0.4401      0.227      1.941      0.053      -0.005       0.885\n",
       "fe_WP_BASIC_SUB                                  0.4107      0.226      1.816      0.070      -0.033       0.854\n",
       "fe_WP_PREMIUM_SUB                                0.4872      0.226      2.151      0.032       0.043       0.931\n",
       "out_REVENUE_hi                                6.563e-05      0.054      0.001      0.999      -0.106       0.106\n",
       "out_TOTAL_MEALS_ORDERED_hi                      -0.0339      0.066     -0.515      0.606      -0.163       0.095\n",
       "out_UNIQUE_MEALS_PURCH_hi                       -0.1231      0.226     -0.544      0.587      -0.567       0.321\n",
       "out_CUSTOMER_SERVICE_TICKETS_CNT_hi             -0.4587      0.267     -1.715      0.087      -0.983       0.066\n",
       "out_MEALS_CANCEL_BEFORE_NOON_hi                 -0.0609      0.117     -0.520      0.603      -0.291       0.169\n",
       "out_WEEKS_SUBSCRIBED_TO_WEEKLY_PLAN_CNT_hi      -0.0344      0.067     -0.513      0.608      -0.166       0.097\n",
       "out_ORDERS_DELIVERED_BEFORE_DELIVERY_CNT_hi      0.0074      0.065      0.114      0.909      -0.120       0.134\n",
       "out_ORDERS_DELIVERED_AFTER_DELIVERY_CNT_hi       0.0616      0.059      1.037      0.300      -0.055       0.178\n",
       "trend_FRIDGE_LOCKER_IN_PACKAGE_ROOM              0.0165      0.017      0.945      0.345      -0.018       0.051\n",
       "flag_PRCNT_FOLLOWED_MEAL_RECOM_WEB_MOBILE_hi     0.6004      0.029     20.720      0.000       0.544       0.657\n",
       "out_SECONDS_WATCHING_PREP_VID_AVG_hi             0.1503      0.091      1.655      0.098      -0.028       0.328\n",
       "out_LARGEST_ORDER_SIZE_hi                       -0.0044      0.090     -0.049      0.961      -0.180       0.171\n",
       "out_MASTER_CLASSES_ATTENDED_CNT_hi              -0.3865      0.169     -2.291      0.022      -0.717      -0.056\n",
       "out_MEAL_RATING_MEDIAN_hi                        0.1497      0.168      0.892      0.373      -0.179       0.479\n",
       "out_SITE_CLICKS_PER_VISIT_AVG_lo                -0.2322      0.245     -0.947      0.344      -0.713       0.249\n",
       "out_PHOTOS_VIEWED_COUNT_hi                      -0.0315      0.060     -0.526      0.599      -0.149       0.086\n",
       "out_fe_MEAL_CHOICE_SPECIFICITY_hi                0.0353      0.078      0.449      0.653      -0.119       0.189\n",
       "out_fe_SITE_CLICK_RATE_hi                       -0.0667      0.069     -0.971      0.332      -0.201       0.068\n",
       "fe_CUSTOMER_COMPANY_aol                         -0.0469      0.055     -0.853      0.394      -0.155       0.061\n",
       "fe_CUSTOMER_COMPANY_apple                       -0.1222      0.111     -1.100      0.272      -0.340       0.096\n",
       "fe_CUSTOMER_COMPANY_boeing                      -0.0234      0.118     -0.198      0.843      -0.255       0.208\n",
       "fe_CUSTOMER_COMPANY_caterpillar                  0.0395      0.118      0.336      0.737      -0.192       0.271\n",
       "fe_CUSTOMER_COMPANY_chevron                     -0.0348      0.111     -0.314      0.753      -0.252       0.183\n",
       "fe_CUSTOMER_COMPANY_cisco                       -0.0126      0.128     -0.099      0.922      -0.263       0.238\n",
       "fe_CUSTOMER_COMPANY_cocacola                    -0.0472      0.112     -0.423      0.672      -0.266       0.172\n",
       "fe_CUSTOMER_COMPANY_disney                      -0.0416      0.120     -0.348      0.728      -0.276       0.193\n",
       "fe_CUSTOMER_COMPANY_dupont                      -0.0821      0.116     -0.710      0.478      -0.309       0.145\n",
       "fe_CUSTOMER_COMPANY_exxon                       -0.1766      0.118     -1.501      0.134      -0.407       0.054\n",
       "fe_CUSTOMER_COMPANY_ge                           0.4232      0.199      2.128      0.033       0.033       0.813\n",
       "fe_CUSTOMER_COMPANY_gmail                        0.0900      0.051      1.767      0.077      -0.010       0.190\n",
       "fe_CUSTOMER_COMPANY_goldmansacs                  0.0652      0.128      0.511      0.609      -0.185       0.315\n",
       "fe_CUSTOMER_COMPANY_homedepot                   -0.2386      0.129     -1.850      0.064      -0.492       0.014\n",
       "fe_CUSTOMER_COMPANY_hotmail                     -0.0292      0.057     -0.513      0.608      -0.141       0.083\n",
       "fe_CUSTOMER_COMPANY_ibm                         -0.1207      0.110     -1.097      0.273      -0.337       0.095\n",
       "fe_CUSTOMER_COMPANY_intel                        0.1289      0.139      0.931      0.352      -0.143       0.401\n",
       "fe_CUSTOMER_COMPANY_jnj                         -0.1196      0.112     -1.069      0.285      -0.339       0.100\n",
       "fe_CUSTOMER_COMPANY_jpmorgan                     0.0368      0.123      0.301      0.764      -0.204       0.277\n",
       "fe_CUSTOMER_COMPANY_live                         0.0100      0.057      0.177      0.860      -0.101       0.121\n",
       "fe_CUSTOMER_COMPANY_mcdonalds                   -0.1336      0.110     -1.219      0.223      -0.349       0.081\n",
       "fe_CUSTOMER_COMPANY_me                           0.0993      0.056      1.765      0.078      -0.011       0.210\n",
       "fe_CUSTOMER_COMPANY_merck                        0.0493      0.111      0.446      0.656      -0.168       0.266\n",
       "fe_CUSTOMER_COMPANY_microsoft                    0.0968      0.114      0.848      0.397      -0.127       0.321\n",
       "fe_CUSTOMER_COMPANY_mmm                          0.1860      0.115      1.616      0.106      -0.040       0.412\n",
       "fe_CUSTOMER_COMPANY_msn                          0.0335      0.053      0.639      0.523      -0.069       0.137\n",
       "fe_CUSTOMER_COMPANY_nike                        -0.1112      0.121     -0.923      0.356      -0.348       0.125\n",
       "fe_CUSTOMER_COMPANY_passport                     0.1063      0.055      1.926      0.054      -0.002       0.215\n",
       "fe_CUSTOMER_COMPANY_pfizer                       0.0502      0.124      0.405      0.685      -0.193       0.293\n",
       "fe_CUSTOMER_COMPANY_pg                           0.1631      0.116      1.405      0.160      -0.065       0.391\n",
       "fe_CUSTOMER_COMPANY_protonmail                   0.1170      0.051      2.315      0.021       0.018       0.216\n",
       "fe_CUSTOMER_COMPANY_travelers                   -0.2299      0.117     -1.973      0.049      -0.459      -0.001\n",
       "fe_CUSTOMER_COMPANY_unitedhealth                -0.0015      0.113     -0.013      0.990      -0.223       0.220\n",
       "fe_CUSTOMER_COMPANY_unitedtech                   0.0699      0.128      0.546      0.585      -0.181       0.321\n",
       "fe_CUSTOMER_COMPANY_verizon                      0.0133      0.116      0.115      0.909      -0.214       0.241\n",
       "fe_CUSTOMER_COMPANY_visa                        -0.0525      0.123     -0.425      0.671      -0.295       0.190\n",
       "fe_CUSTOMER_COMPANY_walmart                     -0.0266      0.121     -0.220      0.826      -0.264       0.211\n",
       "fe_CUSTOMER_COMPANY_yahoo                        0.0695      0.052      1.331      0.183      -0.033       0.172\n",
       "fe_CUSTOMER_DOMAIN_junk_domain                   0.1730      0.162      1.071      0.285      -0.144       0.490\n",
       "fe_CUSTOMER_DOMAIN_personal_domain               0.2765      0.141      1.960      0.050      -0.000       0.553\n",
       "fe_CUSTOMER_DOMAIN_professional_domain           0.4654      0.199      2.343      0.019       0.076       0.855\n",
       "==============================================================================\n",
       "Omnibus:                      100.538   Durbin-Watson:                   1.958\n",
       "Prob(Omnibus):                  0.000   Jarque-Bera (JB):               39.217\n",
       "Skew:                           0.141   Prob(JB):                     3.05e-09\n",
       "Kurtosis:                       2.248   Cond. No.                     9.51e+16\n",
       "==============================================================================\n",
       "\n",
       "Warnings:\n",
       "[1] Standard Errors assume that the covariance matrix of the errors is correctly specified.\n",
       "[2] The smallest eigenvalue is 1.91e-29. This might indicate that there are\n",
       "strong multicollinearity problems or that the design matrix is singular.\n",
       "\"\"\""
      ]
     },
     "execution_count": 39,
     "metadata": {},
     "output_type": "execute_result"
    }
   ],
   "source": [
    "# ols summary output for optimal linear regression\n",
    "lr_model_trans_scaled.summary()"
   ]
  },
  {
   "cell_type": "markdown",
   "metadata": {},
   "source": [
    "Findings\n",
    "- The transformed and scaled linear regression produced the best overall performance in auc_score, AIC and rsquared abd were the only models to converge\n",
    "- No multicollinearity, <em>Variance Inflation Factor > 9</em>, is observed between features not binary\n",
    "\n",
    "Next Steps: Extract significant features from Linear and Logit Regression of and test for convergence"
   ]
  },
  {
   "cell_type": "markdown",
   "metadata": {},
   "source": [
    "# Model Optimization\n",
    "\n",
    "Optimization strategy\n",
    "- Extract significant features\n",
    "    - Test on LR and logit\n",
    "- Selection criteria\n",
    "    - Overfitting - Cross validation train and test score\n",
    "    - AUC\n",
    "    - Precision"
   ]
  },
  {
   "cell_type": "code",
   "execution_count": 40,
   "metadata": {},
   "outputs": [],
   "source": [
    "# slice dataframe by significant features of last linear regression model\n",
    "df_transformed_cont_scaled_count_disc.to_csv(\"df_optimal.csv\")\n",
    "df_significant = df_transformed_cont_scaled_count_disc.copy()\n",
    "df_significant = df_significant.loc[:, [predictor] + sig_feature_sets['transformed_scaled_lr']]\n",
    "\n",
    "# df_significant.drop([\"fe_CUSTOMER_DOMAIN_professional_domain\"], axis=1, inplace=True)\n",
    "\n",
    "# setup ModelResults class\n",
    "modeling_optimal_results = ModelResults([\"Model\", \"Transformation Method\", \"AUC\", \"AIC\", \"R2\", \"Precision\", \"Sig. features\", \"Notes\"])"
   ]
  },
  {
   "cell_type": "markdown",
   "metadata": {},
   "source": [
    "## Test on LR for Significance"
   ]
  },
  {
   "cell_type": "code",
   "execution_count": 41,
   "metadata": {},
   "outputs": [],
   "source": [
    "# Split training and testing data for cross validation\n",
    "X_train, X_test, y_train, y_test = train_test_split(\n",
    "            df_significant.loc[:, df_significant.columns.isin([predictor]) == False],\n",
    "            df_significant.loc[:, predictor],\n",
    "            test_size = 0.25,\n",
    "            random_state = 222)"
   ]
  },
  {
   "cell_type": "code",
   "execution_count": 42,
   "metadata": {
    "scrolled": true
   },
   "outputs": [
    {
     "name": "stdout",
     "output_type": "stream",
     "text": [
      "Optimization terminated successfully.\n",
      "         Current function value: 0.360265\n",
      "         Iterations: 19\n",
      "         Function evaluations: 21\n",
      "         Gradient evaluations: 39\n",
      "         Hessian evaluations: 19\n"
     ]
    }
   ],
   "source": [
    "# load model and performance parameters\n",
    "lr_model_optimal, lr_optimal_cm_score, lr_optimal_auc_score, lr_mod_optimal_precision, sig_features = statsmodel_ols_lgst('statsmodels', 'ols', X_train, X_test, y_train, y_test, 0.5)\n",
    "\n",
    "# save results\n",
    "modeling_optimal_results.save({\n",
    "    \"Model\": [\"LinReg\"],\n",
    "    \"Transformation Method\": [\"Transform continuous, scale count and discrete\"],\n",
    "    \"AUC\": [lr_optimal_auc_score],\n",
    "    \"AIC\": [lr_model_optimal.aic],\n",
    "    \"R2\": [lr_model_optimal.rsquared],\n",
    "    \"Precision\": [lr_mod_optimal_precision],\n",
    "    \"Sig. features\": [len(sig_features)],\n",
    "    \"Notes\": [\"Converged on all transformed and scaled features\"]\n",
    "})\n",
    "\n",
    "\n",
    "sig_feature_sets['pval_optimal_scale_train_lr'] = sig_features"
   ]
  },
  {
   "cell_type": "markdown",
   "metadata": {},
   "source": [
    "## Test on Logit for Significance"
   ]
  },
  {
   "cell_type": "code",
   "execution_count": 43,
   "metadata": {},
   "outputs": [
    {
     "name": "stdout",
     "output_type": "stream",
     "text": [
      "Optimization terminated successfully.\n",
      "         Current function value: 0.360265\n",
      "         Iterations: 19\n",
      "         Function evaluations: 21\n",
      "         Gradient evaluations: 39\n",
      "         Hessian evaluations: 19\n"
     ]
    }
   ],
   "source": [
    "# load model and performance parameters\n",
    "lgst_model_optimal, lgst_optimal_cm_score, lgst_optimal_auc_score, lgst_mod_optimal_precision, sig_features = statsmodel_ols_lgst('statsmodels', 'lgst', X_train, X_test, y_train, y_test, 0.5)\n",
    "\n",
    "# save results\n",
    "modeling_optimal_results.save({\n",
    "    \"Model\": [\"Logit\"],\n",
    "    \"Transformation Method\": [\"Transform continuous, scale count and discrete\"],\n",
    "    \"AUC\": [lgst_optimal_auc_score],\n",
    "    \"AIC\": [lgst_model_optimal.aic],\n",
    "    \"R2\": [lgst_model_optimal.prsquared],\n",
    "    \"Precision\": [lgst_mod_optimal_precision],\n",
    "    \"Sig. features\": [len(sig_features)],\n",
    "    \"Notes\": [\"Converged on all transformed and scaled features\"]\n",
    "})\n",
    "\n",
    "sig_feature_sets['pval_optimal_scale_train_lgst'] = sig_features"
   ]
  },
  {
   "cell_type": "code",
   "execution_count": 44,
   "metadata": {
    "scrolled": true
   },
   "outputs": [
    {
     "data": {
      "text/html": [
       "<div>\n",
       "<style scoped>\n",
       "    .dataframe tbody tr th:only-of-type {\n",
       "        vertical-align: middle;\n",
       "    }\n",
       "\n",
       "    .dataframe tbody tr th {\n",
       "        vertical-align: top;\n",
       "    }\n",
       "\n",
       "    .dataframe thead th {\n",
       "        text-align: right;\n",
       "    }\n",
       "</style>\n",
       "<table border=\"1\" class=\"dataframe\">\n",
       "  <thead>\n",
       "    <tr style=\"text-align: right;\">\n",
       "      <th></th>\n",
       "      <th>Model</th>\n",
       "      <th>Transformation Method</th>\n",
       "      <th>AUC</th>\n",
       "      <th>AIC</th>\n",
       "      <th>R2</th>\n",
       "      <th>Precision</th>\n",
       "      <th>Sig. features</th>\n",
       "      <th>Notes</th>\n",
       "    </tr>\n",
       "  </thead>\n",
       "  <tbody>\n",
       "    <tr>\n",
       "      <th>0</th>\n",
       "      <td>LinReg</td>\n",
       "      <td>Transform continuous, scale count and discrete</td>\n",
       "      <td>0.761217</td>\n",
       "      <td>1283.260446</td>\n",
       "      <td>0.796912</td>\n",
       "      <td>0.860000</td>\n",
       "      <td>10</td>\n",
       "      <td>Converged on all transformed and scaled features</td>\n",
       "    </tr>\n",
       "    <tr>\n",
       "      <th>0</th>\n",
       "      <td>Logit</td>\n",
       "      <td>Transform continuous, scale count and discrete</td>\n",
       "      <td>0.765119</td>\n",
       "      <td>1081.253055</td>\n",
       "      <td>0.424877</td>\n",
       "      <td>0.848765</td>\n",
       "      <td>8</td>\n",
       "      <td>Converged on all transformed and scaled features</td>\n",
       "    </tr>\n",
       "  </tbody>\n",
       "</table>\n",
       "</div>"
      ],
      "text/plain": [
       "    Model                           Transformation Method       AUC  \\\n",
       "0  LinReg  Transform continuous, scale count and discrete  0.761217   \n",
       "0   Logit  Transform continuous, scale count and discrete  0.765119   \n",
       "\n",
       "           AIC        R2  Precision Sig. features  \\\n",
       "0  1283.260446  0.796912   0.860000            10   \n",
       "0  1081.253055  0.424877   0.848765             8   \n",
       "\n",
       "                                              Notes  \n",
       "0  Converged on all transformed and scaled features  \n",
       "0  Converged on all transformed and scaled features  "
      ]
     },
     "execution_count": 44,
     "metadata": {},
     "output_type": "execute_result"
    }
   ],
   "source": [
    "# Save results\n",
    "file = \"A2 - P-Value Optimization Performance Report.csv\"\n",
    "modeling_optimal_results.export_csv(file)\n",
    "\n",
    "# Observe all performance\n",
    "modeling_optimal_results.display()"
   ]
  },
  {
   "cell_type": "markdown",
   "metadata": {},
   "source": [
    "Findings,\n",
    "1. Both models converged on features and must be tested against classical assumptions of a linear model."
   ]
  },
  {
   "cell_type": "markdown",
   "metadata": {},
   "source": [
    "## Testing the 7 assumptions of a linear model"
   ]
  },
  {
   "cell_type": "markdown",
   "metadata": {},
   "source": [
    "1. The error term has a population mean of zero"
   ]
  },
  {
   "cell_type": "code",
   "execution_count": 45,
   "metadata": {},
   "outputs": [
    {
     "name": "stdout",
     "output_type": "stream",
     "text": [
      "{'status': 'Accept Null hypothesis', 'sample_mean': 0.01458782299596335}\n"
     ]
    }
   ],
   "source": [
    "lr_assumptions = NormalityTest(lr_model_optimal.resid, 0.05, X_train, 'HWT_SUBSCRIBER')\n",
    "print(lr_assumptions.check_population_mean(0))"
   ]
  },
  {
   "cell_type": "markdown",
   "metadata": {},
   "source": [
    "2. All independent variables are uncorrelated with error terms (accept for arr)"
   ]
  },
  {
   "cell_type": "code",
   "execution_count": 46,
   "metadata": {},
   "outputs": [
    {
     "data": {
      "text/plain": [
       "MOBILE_REGISTRATION                            -0.105680\n",
       "MEALS_CANCEL_BEFORE_NOON                       -0.036222\n",
       "MEALS_CANCEL_AFTER_NOON                        -0.014871\n",
       "SPECIFIED_TASTE_AND_PREFERENCES                -0.060946\n",
       "MOBILE_LOGINS_CNT                              -0.110543\n",
       "PRCNT_FOLLOWED_MEAL_RECOM_WEB_MOBILE           -0.107511\n",
       "fe_MEAL_CHOICE_SPECIFICITY                     -0.035961\n",
       "fe_SUBSCRIPTIONS_SYNERGY                       -0.076382\n",
       "fe_WP_PREMIUM_SUB                              -0.014070\n",
       "flag_PRCNT_FOLLOWED_MEAL_RECOM_WEB_MOBILE_hi   -0.032633\n",
       "out_MASTER_CLASSES_ATTENDED_CNT_hi             -0.002303\n",
       "fe_CUSTOMER_COMPANY_ge                         -0.004745\n",
       "fe_CUSTOMER_COMPANY_protonmail                 -0.016012\n",
       "fe_CUSTOMER_COMPANY_travelers                  -0.004389\n",
       "fe_CUSTOMER_DOMAIN_professional_domain         -0.028743\n",
       "arr                                             1.000000\n",
       "Name: arr, dtype: float64"
      ]
     },
     "execution_count": 46,
     "metadata": {},
     "output_type": "execute_result"
    }
   ],
   "source": [
    "lr_assumptions.get_correlation_matrix().loc[:, \"arr\"]"
   ]
  },
  {
   "cell_type": "markdown",
   "metadata": {},
   "source": [
    "3. Error terms are uncorrelated with each other\n",
    "    - Assess this assumption by graphing residuals in order they were recieved\n",
    "    - You want to see randomness in the plot\n",
    "    - Or, the coeffecient of err term in a linear regression should be close to zero with confidence"
   ]
  },
  {
   "cell_type": "code",
   "execution_count": 47,
   "metadata": {},
   "outputs": [
    {
     "name": "stdout",
     "output_type": "stream",
     "text": [
      "Coeffecient: x1    0.00002\n",
      "dtype: float64, p-value: 0.0772\n"
     ]
    },
    {
     "data": {
      "text/plain": [
       "<matplotlib.axes._subplots.AxesSubplot at 0x289464e4898>"
      ]
     },
     "execution_count": 47,
     "metadata": {},
     "output_type": "execute_result"
    },
    {
     "data": {
      "image/png": "[encoded data removed]",
      "text/plain": [
       "<Figure size 432x288 with 1 Axes>"
      ]
     },
     "metadata": {
      "needs_background": "light"
     },
     "output_type": "display_data"
    }
   ],
   "source": [
    "as_4 = sm.OLS(lr_model_optimal.resid, [i for i in range(0, len(lr_model_optimal.resid), 1)]).fit()\n",
    "print(\"Coeffecient: {}, p-value: {}\".format(as_4.params, round(as_4.pvalues[0], 4)))\n",
    "sns.scatterplot(\n",
    "    x = 'order',\n",
    "    y = 'arr',\n",
    "    data = pd.DataFrame({\"arr\": lr_model_optimal.resid, \"order\": [i for i in range(0, len(lr_model_optimal.resid), 1)]})\n",
    ")"
   ]
  },
  {
   "cell_type": "markdown",
   "metadata": {},
   "source": [
    "4. Error terms, as a distribution, has constant variance\n",
    "    - Homoscedasticity of distribution"
   ]
  },
  {
   "cell_type": "code",
   "execution_count": 48,
   "metadata": {
    "scrolled": true
   },
   "outputs": [
    {
     "data": {
      "image/png": "[encoded data removed]",
      "text/plain": [
       "<Figure size 432x288 with 1 Axes>"
      ]
     },
     "metadata": {
      "needs_background": "light"
     },
     "output_type": "display_data"
    }
   ],
   "source": [
    "qqplot_homo = lr_assumptions.check_homoscedasticity(lr_model_optimal)"
   ]
  },
  {
   "cell_type": "markdown",
   "metadata": {},
   "source": [
    "6. No Independent variable is a perfect linear function of other explanatory varables\n",
    "    - Variance Inflation Factor(VIF) for each feature"
   ]
  },
  {
   "cell_type": "code",
   "execution_count": 49,
   "metadata": {
    "scrolled": true
   },
   "outputs": [
    {
     "data": {
      "text/html": [
       "<div>\n",
       "<style scoped>\n",
       "    .dataframe tbody tr th:only-of-type {\n",
       "        vertical-align: middle;\n",
       "    }\n",
       "\n",
       "    .dataframe tbody tr th {\n",
       "        vertical-align: top;\n",
       "    }\n",
       "\n",
       "    .dataframe thead th {\n",
       "        text-align: right;\n",
       "    }\n",
       "</style>\n",
       "<table border=\"1\" class=\"dataframe\">\n",
       "  <thead>\n",
       "    <tr style=\"text-align: right;\">\n",
       "      <th></th>\n",
       "      <th>r_squared</th>\n",
       "      <th>vif</th>\n",
       "    </tr>\n",
       "  </thead>\n",
       "  <tbody>\n",
       "  </tbody>\n",
       "</table>\n",
       "</div>"
      ],
      "text/plain": [
       "Empty DataFrame\n",
       "Columns: [r_squared, vif]\n",
       "Index: []"
      ]
     },
     "execution_count": 49,
     "metadata": {},
     "output_type": "execute_result"
    }
   ],
   "source": [
    "vif = lr_assumptions.get_vif()\n",
    "\n",
    "# multicollinear features\n",
    "vif[(vif.vif > 10) & (vif.vif < 50)]"
   ]
  },
  {
   "cell_type": "markdown",
   "metadata": {},
   "source": [
    "## Final Optimization Effort\n",
    "1. The model is fit for use for both prediction and statistical feature inference and insights can be drawn from them\n",
    "2. A final effort will be made to maximize the predictive power of this model for strategic marketing decisions\n",
    "3. sklearn models considered\n",
    "    - LinearRegression\n",
    "    - LogisticRegression\n",
    "4. TabuSearch feature combinatorial optimization as a fail safe to escape a potential Precision local minimum."
   ]
  },
  {
   "cell_type": "code",
   "execution_count": 50,
   "metadata": {},
   "outputs": [],
   "source": [
    "# slice dataframe by significant features of last linear regression model\n",
    "df_significant.to_csv(\"df_pre_final_model_selection.csv\")\n",
    "df_final_optimization = df_transformed_cont_scaled_count_disc.copy()\n",
    "df_final_optimization = df_final_optimization.loc[:, [predictor] + sig_feature_sets['pval_optimal_scale_train_lr']]\n",
    "\n",
    "# df_final_optimization.drop([\"fe_CUSTOMER_DOMAIN_professional_domain\"], axis=1, inplace=True)\n",
    "\n",
    "# setup ModelResults class\n",
    "final_optimal_results = ModelResults([\"Model\", \"Stability\", \"Test Score\", \"AUC\", \"AUC_thresh\", \"Precision\", \"Notes\"])"
   ]
  },
  {
   "cell_type": "code",
   "execution_count": 51,
   "metadata": {},
   "outputs": [],
   "source": [
    "# Split training and testing data for cross validation\n",
    "X_train, X_test, y_train, y_test = train_test_split(\n",
    "            df_final_optimization.loc[:, df_final_optimization.columns.isin([predictor]) == False],\n",
    "            df_final_optimization.loc[:, predictor],\n",
    "            test_size = 0.25,\n",
    "            random_state = 222)"
   ]
  },
  {
   "cell_type": "markdown",
   "metadata": {},
   "source": [
    "## Test on sklearn LinearRegression for Significance"
   ]
  },
  {
   "cell_type": "code",
   "execution_count": 52,
   "metadata": {},
   "outputs": [
    {
     "name": "stdout",
     "output_type": "stream",
     "text": [
      "Optimization terminated successfully.\n",
      "         Current function value: 0.364978\n",
      "         Iterations: 17\n",
      "         Function evaluations: 19\n",
      "         Gradient evaluations: 35\n",
      "         Hessian evaluations: 17\n",
      "Optimization terminated successfully.\n",
      "         Current function value: 0.364978\n",
      "         Iterations: 17\n",
      "         Function evaluations: 19\n",
      "         Gradient evaluations: 35\n",
      "         Hessian evaluations: 17\n",
      "Optimization terminated successfully.\n",
      "         Current function value: 0.364978\n",
      "         Iterations: 17\n",
      "         Function evaluations: 19\n",
      "         Gradient evaluations: 35\n",
      "         Hessian evaluations: 17\n",
      "Optimization terminated successfully.\n",
      "         Current function value: 0.364978\n",
      "         Iterations: 17\n",
      "         Function evaluations: 19\n",
      "         Gradient evaluations: 35\n",
      "         Hessian evaluations: 17\n",
      "Optimization terminated successfully.\n",
      "         Current function value: 0.364978\n",
      "         Iterations: 17\n",
      "         Function evaluations: 19\n",
      "         Gradient evaluations: 35\n",
      "         Hessian evaluations: 17\n",
      "Optimization terminated successfully.\n",
      "         Current function value: 0.364978\n",
      "         Iterations: 17\n",
      "         Function evaluations: 19\n",
      "         Gradient evaluations: 35\n",
      "         Hessian evaluations: 17\n",
      "Optimization terminated successfully.\n",
      "         Current function value: 0.364978\n",
      "         Iterations: 17\n",
      "         Function evaluations: 19\n",
      "         Gradient evaluations: 35\n",
      "         Hessian evaluations: 17\n",
      "Optimization terminated successfully.\n",
      "         Current function value: 0.364978\n",
      "         Iterations: 17\n",
      "         Function evaluations: 19\n",
      "         Gradient evaluations: 35\n",
      "         Hessian evaluations: 17\n",
      "Optimization terminated successfully.\n",
      "         Current function value: 0.364978\n",
      "         Iterations: 17\n",
      "         Function evaluations: 19\n",
      "         Gradient evaluations: 35\n",
      "         Hessian evaluations: 17\n",
      "Optimization terminated successfully.\n",
      "         Current function value: 0.364978\n",
      "         Iterations: 17\n",
      "         Function evaluations: 19\n",
      "         Gradient evaluations: 35\n",
      "         Hessian evaluations: 17\n",
      "Optimization terminated successfully.\n",
      "         Current function value: 0.364978\n",
      "         Iterations: 17\n",
      "         Function evaluations: 19\n",
      "         Gradient evaluations: 35\n",
      "         Hessian evaluations: 17\n",
      "Optimization terminated successfully.\n",
      "         Current function value: 0.364978\n",
      "         Iterations: 17\n",
      "         Function evaluations: 19\n",
      "         Gradient evaluations: 35\n",
      "         Hessian evaluations: 17\n",
      "Optimization terminated successfully.\n",
      "         Current function value: 0.364978\n",
      "         Iterations: 17\n",
      "         Function evaluations: 19\n",
      "         Gradient evaluations: 35\n",
      "         Hessian evaluations: 17\n",
      "Optimization terminated successfully.\n",
      "         Current function value: 0.364978\n",
      "         Iterations: 17\n",
      "         Function evaluations: 19\n",
      "         Gradient evaluations: 35\n",
      "         Hessian evaluations: 17\n",
      "Optimization terminated successfully.\n",
      "         Current function value: 0.364978\n",
      "         Iterations: 17\n",
      "         Function evaluations: 19\n",
      "         Gradient evaluations: 35\n",
      "         Hessian evaluations: 17\n",
      "Optimization terminated successfully.\n",
      "         Current function value: 0.364978\n",
      "         Iterations: 17\n",
      "         Function evaluations: 19\n",
      "         Gradient evaluations: 35\n",
      "         Hessian evaluations: 17\n",
      "Optimization terminated successfully.\n",
      "         Current function value: 0.364978\n",
      "         Iterations: 17\n",
      "         Function evaluations: 19\n",
      "         Gradient evaluations: 35\n",
      "         Hessian evaluations: 17\n",
      "Optimization terminated successfully.\n",
      "         Current function value: 0.364978\n",
      "         Iterations: 17\n",
      "         Function evaluations: 19\n",
      "         Gradient evaluations: 35\n",
      "         Hessian evaluations: 17\n"
     ]
    }
   ],
   "source": [
    "# load model and performance parameters\n",
    "best_precision = 0\n",
    "best_params = {}\n",
    "for i in [\"ols\", \"lgst\"]:\n",
    "    for thresh in np.arange(0.1, 1, 0.1):\n",
    "        lr_final, lr_optimal_cm_score, lr_optimal_auc_score, lr_mod_optimal_precision, sig_features = statsmodel_ols_lgst('sklearn', i, X_train, X_test, y_train, y_test, thresh);\n",
    "        train_score = lr_final.score(X_train, y_train)\n",
    "        test_score = lr_final.score(X_test, y_test)\n",
    "        \n",
    "        # get model that maximizes precision\n",
    "        if (lr_mod_optimal_precision > best_precision):\n",
    "            best_precision = lr_mod_optimal_precision\n",
    "            best_params = {\n",
    "                'model':i,\n",
    "                'cm': lr_optimal_cm_score,\n",
    "                'train_score': train_score,\n",
    "                'test': test_score,\n",
    "                'auc': lr_optimal_auc_score,\n",
    "                'auc_thresh': thresh,\n",
    "                'precision': lr_mod_optimal_precision,\n",
    "            }\n",
    "            \n",
    "        # save results\n",
    "        final_optimal_results.save({\n",
    "            \"Model\": [i],\n",
    "            \"Stability\": [(train_score-test_score)],\n",
    "            \"Test Score\": [test_score],\n",
    "            \"AUC\": [lr_optimal_auc_score],\n",
    "            \"AUC_thresh\": thresh,\n",
    "            \"Precision\": [lr_mod_optimal_precision],\n",
    "            \"Notes\": [\"Converged successfully\"]\n",
    "        })\n",
    "\n",
    "        sig_feature_sets['{}_{}'.format(i, thresh)] = X_train.columns;"
   ]
  },
  {
   "cell_type": "markdown",
   "metadata": {},
   "source": [
    "## Model Performance"
   ]
  },
  {
   "cell_type": "markdown",
   "metadata": {},
   "source": [
    "The best model was a linear model and with a class probability threshold of 0.8. This resulted in an AUC of 0.777 and a fully minimized Precision. This means that the model has a low probability of falsely classifying a customer as a HWT subscriber."
   ]
  },
  {
   "cell_type": "code",
   "execution_count": 53,
   "metadata": {},
   "outputs": [
    {
     "data": {
      "text/plain": [
       "{'model': 'ols',\n",
       " 'cm': {'TN': 159, 'FP': 0, 'FN': 141, 'TP': 187},\n",
       " 'train_score': 0.3917382262670469,\n",
       " 'test': 0.3749864466001106,\n",
       " 'auc': 0.7850609756097561,\n",
       " 'auc_thresh': 0.8,\n",
       " 'precision': 1.0}"
      ]
     },
     "execution_count": 53,
     "metadata": {},
     "output_type": "execute_result"
    }
   ],
   "source": [
    "best_params"
   ]
  },
  {
   "cell_type": "markdown",
   "metadata": {},
   "source": [
    "However, the linear model a class probability threshold of 0.6 and a precision of 0.938 achieved an AUC of 0.803"
   ]
  },
  {
   "cell_type": "code",
   "execution_count": 54,
   "metadata": {},
   "outputs": [
    {
     "data": {
      "text/html": [
       "<div>\n",
       "<style scoped>\n",
       "    .dataframe tbody tr th:only-of-type {\n",
       "        vertical-align: middle;\n",
       "    }\n",
       "\n",
       "    .dataframe tbody tr th {\n",
       "        vertical-align: top;\n",
       "    }\n",
       "\n",
       "    .dataframe thead th {\n",
       "        text-align: right;\n",
       "    }\n",
       "</style>\n",
       "<table border=\"1\" class=\"dataframe\">\n",
       "  <thead>\n",
       "    <tr style=\"text-align: right;\">\n",
       "      <th></th>\n",
       "      <th>Model</th>\n",
       "      <th>Stability</th>\n",
       "      <th>Test Score</th>\n",
       "      <th>AUC</th>\n",
       "      <th>AUC_thresh</th>\n",
       "      <th>Precision</th>\n",
       "      <th>Notes</th>\n",
       "    </tr>\n",
       "  </thead>\n",
       "  <tbody>\n",
       "    <tr>\n",
       "      <th>0</th>\n",
       "      <td>ols</td>\n",
       "      <td>0.016752</td>\n",
       "      <td>0.374986</td>\n",
       "      <td>0.500000</td>\n",
       "      <td>0.1</td>\n",
       "      <td>0.673511</td>\n",
       "      <td>Converged successfully</td>\n",
       "    </tr>\n",
       "    <tr>\n",
       "      <th>0</th>\n",
       "      <td>ols</td>\n",
       "      <td>0.016752</td>\n",
       "      <td>0.374986</td>\n",
       "      <td>0.515723</td>\n",
       "      <td>0.2</td>\n",
       "      <td>0.680498</td>\n",
       "      <td>Converged successfully</td>\n",
       "    </tr>\n",
       "    <tr>\n",
       "      <th>0</th>\n",
       "      <td>ols</td>\n",
       "      <td>0.016752</td>\n",
       "      <td>0.374986</td>\n",
       "      <td>0.548790</td>\n",
       "      <td>0.3</td>\n",
       "      <td>0.695745</td>\n",
       "      <td>Converged successfully</td>\n",
       "    </tr>\n",
       "    <tr>\n",
       "      <th>0</th>\n",
       "      <td>ols</td>\n",
       "      <td>0.016752</td>\n",
       "      <td>0.374986</td>\n",
       "      <td>0.701076</td>\n",
       "      <td>0.4</td>\n",
       "      <td>0.786842</td>\n",
       "      <td>Converged successfully</td>\n",
       "    </tr>\n",
       "    <tr>\n",
       "      <th>0</th>\n",
       "      <td>ols</td>\n",
       "      <td>0.016752</td>\n",
       "      <td>0.374986</td>\n",
       "      <td>0.794092</td>\n",
       "      <td>0.5</td>\n",
       "      <td>0.887755</td>\n",
       "      <td>Converged successfully</td>\n",
       "    </tr>\n",
       "    <tr>\n",
       "      <th>0</th>\n",
       "      <td>ols</td>\n",
       "      <td>0.016752</td>\n",
       "      <td>0.374986</td>\n",
       "      <td>0.803440</td>\n",
       "      <td>0.6</td>\n",
       "      <td>0.938776</td>\n",
       "      <td>Converged successfully</td>\n",
       "    </tr>\n",
       "    <tr>\n",
       "      <th>0</th>\n",
       "      <td>ols</td>\n",
       "      <td>0.016752</td>\n",
       "      <td>0.374986</td>\n",
       "      <td>0.793440</td>\n",
       "      <td>0.7</td>\n",
       "      <td>0.963134</td>\n",
       "      <td>Converged successfully</td>\n",
       "    </tr>\n",
       "    <tr>\n",
       "      <th>0</th>\n",
       "      <td>ols</td>\n",
       "      <td>0.016752</td>\n",
       "      <td>0.374986</td>\n",
       "      <td>0.785061</td>\n",
       "      <td>0.8</td>\n",
       "      <td>1.000000</td>\n",
       "      <td>Converged successfully</td>\n",
       "    </tr>\n",
       "    <tr>\n",
       "      <th>0</th>\n",
       "      <td>ols</td>\n",
       "      <td>0.016752</td>\n",
       "      <td>0.374986</td>\n",
       "      <td>0.740854</td>\n",
       "      <td>0.9</td>\n",
       "      <td>1.000000</td>\n",
       "      <td>Converged successfully</td>\n",
       "    </tr>\n",
       "    <tr>\n",
       "      <th>0</th>\n",
       "      <td>lgst</td>\n",
       "      <td>0.008623</td>\n",
       "      <td>0.790554</td>\n",
       "      <td>0.774841</td>\n",
       "      <td>0.1</td>\n",
       "      <td>0.862179</td>\n",
       "      <td>Converged successfully</td>\n",
       "    </tr>\n",
       "    <tr>\n",
       "      <th>0</th>\n",
       "      <td>lgst</td>\n",
       "      <td>0.008623</td>\n",
       "      <td>0.790554</td>\n",
       "      <td>0.774841</td>\n",
       "      <td>0.2</td>\n",
       "      <td>0.862179</td>\n",
       "      <td>Converged successfully</td>\n",
       "    </tr>\n",
       "    <tr>\n",
       "      <th>0</th>\n",
       "      <td>lgst</td>\n",
       "      <td>0.008623</td>\n",
       "      <td>0.790554</td>\n",
       "      <td>0.774841</td>\n",
       "      <td>0.3</td>\n",
       "      <td>0.862179</td>\n",
       "      <td>Converged successfully</td>\n",
       "    </tr>\n",
       "    <tr>\n",
       "      <th>0</th>\n",
       "      <td>lgst</td>\n",
       "      <td>0.008623</td>\n",
       "      <td>0.790554</td>\n",
       "      <td>0.774841</td>\n",
       "      <td>0.4</td>\n",
       "      <td>0.862179</td>\n",
       "      <td>Converged successfully</td>\n",
       "    </tr>\n",
       "    <tr>\n",
       "      <th>0</th>\n",
       "      <td>lgst</td>\n",
       "      <td>0.008623</td>\n",
       "      <td>0.790554</td>\n",
       "      <td>0.774841</td>\n",
       "      <td>0.5</td>\n",
       "      <td>0.862179</td>\n",
       "      <td>Converged successfully</td>\n",
       "    </tr>\n",
       "    <tr>\n",
       "      <th>0</th>\n",
       "      <td>lgst</td>\n",
       "      <td>0.008623</td>\n",
       "      <td>0.790554</td>\n",
       "      <td>0.774841</td>\n",
       "      <td>0.6</td>\n",
       "      <td>0.862179</td>\n",
       "      <td>Converged successfully</td>\n",
       "    </tr>\n",
       "    <tr>\n",
       "      <th>0</th>\n",
       "      <td>lgst</td>\n",
       "      <td>0.008623</td>\n",
       "      <td>0.790554</td>\n",
       "      <td>0.774841</td>\n",
       "      <td>0.7</td>\n",
       "      <td>0.862179</td>\n",
       "      <td>Converged successfully</td>\n",
       "    </tr>\n",
       "    <tr>\n",
       "      <th>0</th>\n",
       "      <td>lgst</td>\n",
       "      <td>0.008623</td>\n",
       "      <td>0.790554</td>\n",
       "      <td>0.774841</td>\n",
       "      <td>0.8</td>\n",
       "      <td>0.862179</td>\n",
       "      <td>Converged successfully</td>\n",
       "    </tr>\n",
       "    <tr>\n",
       "      <th>0</th>\n",
       "      <td>lgst</td>\n",
       "      <td>0.008623</td>\n",
       "      <td>0.790554</td>\n",
       "      <td>0.774841</td>\n",
       "      <td>0.9</td>\n",
       "      <td>0.862179</td>\n",
       "      <td>Converged successfully</td>\n",
       "    </tr>\n",
       "  </tbody>\n",
       "</table>\n",
       "</div>"
      ],
      "text/plain": [
       "  Model  Stability  Test Score       AUC  AUC_thresh  Precision  \\\n",
       "0   ols   0.016752    0.374986  0.500000         0.1   0.673511   \n",
       "0   ols   0.016752    0.374986  0.515723         0.2   0.680498   \n",
       "0   ols   0.016752    0.374986  0.548790         0.3   0.695745   \n",
       "0   ols   0.016752    0.374986  0.701076         0.4   0.786842   \n",
       "0   ols   0.016752    0.374986  0.794092         0.5   0.887755   \n",
       "0   ols   0.016752    0.374986  0.803440         0.6   0.938776   \n",
       "0   ols   0.016752    0.374986  0.793440         0.7   0.963134   \n",
       "0   ols   0.016752    0.374986  0.785061         0.8   1.000000   \n",
       "0   ols   0.016752    0.374986  0.740854         0.9   1.000000   \n",
       "0  lgst   0.008623    0.790554  0.774841         0.1   0.862179   \n",
       "0  lgst   0.008623    0.790554  0.774841         0.2   0.862179   \n",
       "0  lgst   0.008623    0.790554  0.774841         0.3   0.862179   \n",
       "0  lgst   0.008623    0.790554  0.774841         0.4   0.862179   \n",
       "0  lgst   0.008623    0.790554  0.774841         0.5   0.862179   \n",
       "0  lgst   0.008623    0.790554  0.774841         0.6   0.862179   \n",
       "0  lgst   0.008623    0.790554  0.774841         0.7   0.862179   \n",
       "0  lgst   0.008623    0.790554  0.774841         0.8   0.862179   \n",
       "0  lgst   0.008623    0.790554  0.774841         0.9   0.862179   \n",
       "\n",
       "                    Notes  \n",
       "0  Converged successfully  \n",
       "0  Converged successfully  \n",
       "0  Converged successfully  \n",
       "0  Converged successfully  \n",
       "0  Converged successfully  \n",
       "0  Converged successfully  \n",
       "0  Converged successfully  \n",
       "0  Converged successfully  \n",
       "0  Converged successfully  \n",
       "0  Converged successfully  \n",
       "0  Converged successfully  \n",
       "0  Converged successfully  \n",
       "0  Converged successfully  \n",
       "0  Converged successfully  \n",
       "0  Converged successfully  \n",
       "0  Converged successfully  \n",
       "0  Converged successfully  \n",
       "0  Converged successfully  "
      ]
     },
     "execution_count": 54,
     "metadata": {},
     "output_type": "execute_result"
    }
   ],
   "source": [
    "final_optimal_results.display()"
   ]
  },
  {
   "cell_type": "markdown",
   "metadata": {},
   "source": [
    "# Key Insights"
   ]
  },
  {
   "cell_type": "markdown",
   "metadata": {},
   "source": [
    "## Insight 1\n",
    "The cross-selling strategy has introduced a new customer type; HWT only subscribers"
   ]
  },
  {
   "cell_type": "code",
   "execution_count": 55,
   "metadata": {},
   "outputs": [
    {
     "data": {
      "text/html": [
       "<div>\n",
       "<style scoped>\n",
       "    .dataframe tbody tr th:only-of-type {\n",
       "        vertical-align: middle;\n",
       "    }\n",
       "\n",
       "    .dataframe tbody tr th {\n",
       "        vertical-align: top;\n",
       "    }\n",
       "\n",
       "    .dataframe thead th {\n",
       "        text-align: right;\n",
       "    }\n",
       "</style>\n",
       "<table border=\"1\" class=\"dataframe\">\n",
       "  <thead>\n",
       "    <tr style=\"text-align: right;\">\n",
       "      <th></th>\n",
       "      <th></th>\n",
       "      <th></th>\n",
       "      <th></th>\n",
       "      <th>HWT_SUBSCRIBER</th>\n",
       "    </tr>\n",
       "    <tr>\n",
       "      <th>fe_WP_INACTIVE_SUB</th>\n",
       "      <th>fe_WP_BASIC_SUB</th>\n",
       "      <th>fe_WP_PREMIUM_SUB</th>\n",
       "      <th>fe_ONLY_HWT_CUSTOMER</th>\n",
       "      <th></th>\n",
       "    </tr>\n",
       "  </thead>\n",
       "  <tbody>\n",
       "    <tr>\n",
       "      <th rowspan=\"2\" valign=\"top\">0</th>\n",
       "      <th>0</th>\n",
       "      <th>1</th>\n",
       "      <th>0</th>\n",
       "      <td>152</td>\n",
       "    </tr>\n",
       "    <tr>\n",
       "      <th>1</th>\n",
       "      <th>0</th>\n",
       "      <th>0</th>\n",
       "      <td>280</td>\n",
       "    </tr>\n",
       "    <tr>\n",
       "      <th rowspan=\"2\" valign=\"top\">1</th>\n",
       "      <th rowspan=\"2\" valign=\"top\">0</th>\n",
       "      <th rowspan=\"2\" valign=\"top\">0</th>\n",
       "      <th>0</th>\n",
       "      <td>564</td>\n",
       "    </tr>\n",
       "    <tr>\n",
       "      <th>1</th>\n",
       "      <td>325</td>\n",
       "    </tr>\n",
       "  </tbody>\n",
       "</table>\n",
       "</div>"
      ],
      "text/plain": [
       "                                                                           HWT_SUBSCRIBER\n",
       "fe_WP_INACTIVE_SUB fe_WP_BASIC_SUB fe_WP_PREMIUM_SUB fe_ONLY_HWT_CUSTOMER                \n",
       "0                  0               1                 0                                152\n",
       "                   1               0                 0                                280\n",
       "1                  0               0                 0                                564\n",
       "                                                     1                                325"
      ]
     },
     "execution_count": 55,
     "metadata": {},
     "output_type": "execute_result"
    }
   ],
   "source": [
    "df_optimization\\\n",
    "    .loc[:, [\"fe_WP_BASIC_SUB\", \"fe_WP_PREMIUM_SUB\", \"fe_WP_INACTIVE_SUB\", \"fe_ONLY_HWT_CUSTOMER\", \"HWT_SUBSCRIBER\"]]\\\n",
    "    .groupby([\"fe_WP_INACTIVE_SUB\", \"fe_WP_BASIC_SUB\", \"fe_WP_PREMIUM_SUB\", \"fe_ONLY_HWT_CUSTOMER\"]).sum()"
   ]
  },
  {
   "cell_type": "markdown",
   "metadata": {},
   "source": [
    "## Insight 2\n",
    "HWT only subscribers see value in the product as their spend is nearly a third of dual subscription customers"
   ]
  },
  {
   "cell_type": "code",
   "execution_count": 56,
   "metadata": {},
   "outputs": [
    {
     "data": {
      "text/html": [
       "<div>\n",
       "<style scoped>\n",
       "    .dataframe tbody tr th:only-of-type {\n",
       "        vertical-align: middle;\n",
       "    }\n",
       "\n",
       "    .dataframe tbody tr th {\n",
       "        vertical-align: top;\n",
       "    }\n",
       "\n",
       "    .dataframe thead th {\n",
       "        text-align: right;\n",
       "    }\n",
       "</style>\n",
       "<table border=\"1\" class=\"dataframe\">\n",
       "  <thead>\n",
       "    <tr style=\"text-align: right;\">\n",
       "      <th></th>\n",
       "      <th>MOBILE_LOGINS_CNT</th>\n",
       "      <th>PC_LOGINS_CNT</th>\n",
       "      <th>HWT_SUBSCRIBER</th>\n",
       "      <th>REVENUE</th>\n",
       "    </tr>\n",
       "    <tr>\n",
       "      <th>fe_ONLY_HWT_CUSTOMER</th>\n",
       "      <th></th>\n",
       "      <th></th>\n",
       "      <th></th>\n",
       "      <th></th>\n",
       "    </tr>\n",
       "  </thead>\n",
       "  <tbody>\n",
       "    <tr>\n",
       "      <th>0</th>\n",
       "      <td>2180</td>\n",
       "      <td>8139</td>\n",
       "      <td>1478</td>\n",
       "      <td>3084106.75</td>\n",
       "    </tr>\n",
       "    <tr>\n",
       "      <th>1</th>\n",
       "      <td>693</td>\n",
       "      <td>2595</td>\n",
       "      <td>468</td>\n",
       "      <td>1016684.75</td>\n",
       "    </tr>\n",
       "  </tbody>\n",
       "</table>\n",
       "</div>"
      ],
      "text/plain": [
       "                      MOBILE_LOGINS_CNT  PC_LOGINS_CNT  HWT_SUBSCRIBER  \\\n",
       "fe_ONLY_HWT_CUSTOMER                                                     \n",
       "0                                  2180           8139            1478   \n",
       "1                                   693           2595             468   \n",
       "\n",
       "                         REVENUE  \n",
       "fe_ONLY_HWT_CUSTOMER              \n",
       "0                     3084106.75  \n",
       "1                     1016684.75  "
      ]
     },
     "execution_count": 56,
     "metadata": {},
     "output_type": "execute_result"
    }
   ],
   "source": [
    "df_optimization\\\n",
    "    .loc[:, df_optimization.columns\\\n",
    "    .isin([\"fe_ONLY_HWT_CUSTOMER\", \"HWT_SUBSCRIBER\", \"MOBILE_LOGINS_CNT\", \"PC_LOGINS_CNT\", \"REVENUE\"]) == True]\\\n",
    "    .groupby(\"fe_ONLY_HWT_CUSTOMER\")\\\n",
    "    .agg({\"MOBILE_LOGINS_CNT\": 'sum', \"PC_LOGINS_CNT\": 'sum', \"HWT_SUBSCRIBER\": 'count', \"REVENUE\": 'sum'})"
   ]
  },
  {
   "cell_type": "markdown",
   "metadata": {},
   "source": [
    "# Key Recommendation"
   ]
  },
  {
   "cell_type": "markdown",
   "metadata": {},
   "source": [
    "Develop lists of recipes that can be paired with the wines you sell and optimize them for viewing on PC and Mobile"
   ]
  }
 ],
 "metadata": {
  "kernelspec": {
   "display_name": "Python 3",
   "language": "python",
   "name": "python3"
  },
  "language_info": {
   "codemirror_mode": {
    "name": "ipython",
    "version": 3
   },
   "file_extension": ".py",
   "mimetype": "text/x-python",
   "name": "python",
   "nbconvert_exporter": "python",
   "pygments_lexer": "ipython3",
   "version": "3.7.3"
  },
  "toc": {
   "base_numbering": 1,
   "nav_menu": {},
   "number_sections": true,
   "sideBar": true,
   "skip_h1_title": false,
   "title_cell": "Table of Contents",
   "title_sidebar": "Contents",
   "toc_cell": false,
   "toc_position": {},
   "toc_section_display": true,
   "toc_window_display": true
  },
  "varInspector": {
   "cols": {
    "lenName": 16,
    "lenType": 16,
    "lenVar": 40
   },
   "kernels_config": {
    "python": {
     "delete_cmd_postfix": "",
     "delete_cmd_prefix": "del ",
     "library": "var_list.py",
     "varRefreshCmd": "print(var_dic_list())"
    },
    "r": {
     "delete_cmd_postfix": ") ",
     "delete_cmd_prefix": "rm(",
     "library": "var_list.r",
     "varRefreshCmd": "cat(var_dic_list()) "
    }
   },
   "position": {
    "height": "362.685px",
    "left": "601.244px",
    "right": "20px",
    "top": "47.9829px",
    "width": "385.995px"
   },
   "types_to_exclude": [
    "module",
    "function",
    "builtin_function_or_method",
    "instance",
    "_Feature"
   ],
   "window_display": false
  }
 },
 "nbformat": 4,
 "nbformat_minor": 2
}
